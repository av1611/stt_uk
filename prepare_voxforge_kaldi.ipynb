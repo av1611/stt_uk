{
 "cells": [
  {
   "cell_type": "code",
   "execution_count": 1,
   "metadata": {},
   "outputs": [],
   "source": [
    "import os\n",
    "import librosa\n",
    "\n",
    "import pandas as pd"
   ]
  },
  {
   "cell_type": "code",
   "execution_count": 2,
   "metadata": {},
   "outputs": [],
   "source": [
    "from utils.misc import recursive_search"
   ]
  },
  {
   "cell_type": "code",
   "execution_count": 3,
   "metadata": {},
   "outputs": [],
   "source": [
    "DATA_PATH = os.path.join(os.getcwd(), \"data\", \"voxforge\")\n",
    "audio_converted_path = os.path.join(DATA_PATH, \"audio_converted\")"
   ]
  },
  {
   "cell_type": "code",
   "execution_count": 4,
   "metadata": {},
   "outputs": [
    {
     "data": {
      "text/plain": [
       "'/home/dima/Projects/stt_uk/data/voxforge/audio_converted'"
      ]
     },
     "execution_count": 4,
     "metadata": {},
     "output_type": "execute_result"
    }
   ],
   "source": [
    "audio_converted_path"
   ]
  },
  {
   "cell_type": "markdown",
   "metadata": {},
   "source": [
    "## Audio data"
   ]
  },
  {
   "cell_type": "code",
   "execution_count": 5,
   "metadata": {},
   "outputs": [],
   "source": [
    "audio_df = recursive_search(audio_converted_path)\n",
    "audio_df['duration'] = audio_df['file_path'].map(lambda x: librosa.get_duration(filename=x))\n",
    "audio_df['file_size'] = audio_df['file_path'].map(lambda x: os.path.getsize(x))"
   ]
  },
  {
   "cell_type": "code",
   "execution_count": 6,
   "metadata": {},
   "outputs": [
    {
     "name": "stdout",
     "output_type": "stream",
     "text": [
      "(50, 4)\n",
      "Total duration: 0.13 hours\n",
      "Total size: 13.79 mb\n"
     ]
    },
    {
     "data": {
      "text/html": [
       "<div>\n",
       "<style scoped>\n",
       "    .dataframe tbody tr th:only-of-type {\n",
       "        vertical-align: middle;\n",
       "    }\n",
       "\n",
       "    .dataframe tbody tr th {\n",
       "        vertical-align: top;\n",
       "    }\n",
       "\n",
       "    .dataframe thead th {\n",
       "        text-align: right;\n",
       "    }\n",
       "</style>\n",
       "<table border=\"1\" class=\"dataframe\">\n",
       "  <thead>\n",
       "    <tr style=\"text-align: right;\">\n",
       "      <th></th>\n",
       "      <th>file_name</th>\n",
       "      <th>file_path</th>\n",
       "      <th>duration</th>\n",
       "      <th>file_size</th>\n",
       "    </tr>\n",
       "  </thead>\n",
       "  <tbody>\n",
       "    <tr>\n",
       "      <th>37</th>\n",
       "      <td>Alias_uk_0028.wav</td>\n",
       "      <td>/home/dima/Projects/stt_uk/data/voxforge/audio...</td>\n",
       "      <td>8.750</td>\n",
       "      <td>280044</td>\n",
       "    </tr>\n",
       "    <tr>\n",
       "      <th>21</th>\n",
       "      <td>Alias_uk_0023.wav</td>\n",
       "      <td>/home/dima/Projects/stt_uk/data/voxforge/audio...</td>\n",
       "      <td>5.250</td>\n",
       "      <td>168044</td>\n",
       "    </tr>\n",
       "    <tr>\n",
       "      <th>26</th>\n",
       "      <td>Neverice_uk_0038.wav</td>\n",
       "      <td>/home/dima/Projects/stt_uk/data/voxforge/audio...</td>\n",
       "      <td>5.750</td>\n",
       "      <td>184044</td>\n",
       "    </tr>\n",
       "    <tr>\n",
       "      <th>15</th>\n",
       "      <td>Anna_uk_0005.wav</td>\n",
       "      <td>/home/dima/Projects/stt_uk/data/voxforge/audio...</td>\n",
       "      <td>6.125</td>\n",
       "      <td>196044</td>\n",
       "    </tr>\n",
       "    <tr>\n",
       "      <th>9</th>\n",
       "      <td>Taras_uk_0050.wav</td>\n",
       "      <td>/home/dima/Projects/stt_uk/data/voxforge/audio...</td>\n",
       "      <td>6.500</td>\n",
       "      <td>208044</td>\n",
       "    </tr>\n",
       "  </tbody>\n",
       "</table>\n",
       "</div>"
      ],
      "text/plain": [
       "               file_name                                          file_path  \\\n",
       "37     Alias_uk_0028.wav  /home/dima/Projects/stt_uk/data/voxforge/audio...   \n",
       "21     Alias_uk_0023.wav  /home/dima/Projects/stt_uk/data/voxforge/audio...   \n",
       "26  Neverice_uk_0038.wav  /home/dima/Projects/stt_uk/data/voxforge/audio...   \n",
       "15      Anna_uk_0005.wav  /home/dima/Projects/stt_uk/data/voxforge/audio...   \n",
       "9      Taras_uk_0050.wav  /home/dima/Projects/stt_uk/data/voxforge/audio...   \n",
       "\n",
       "    duration  file_size  \n",
       "37     8.750     280044  \n",
       "21     5.250     168044  \n",
       "26     5.750     184044  \n",
       "15     6.125     196044  \n",
       "9      6.500     208044  "
      ]
     },
     "execution_count": 6,
     "metadata": {},
     "output_type": "execute_result"
    }
   ],
   "source": [
    "print(audio_df.shape)\n",
    "print(f\"Total duration: {audio_df['duration'].sum()/60/60:.2f} hours\")\n",
    "print(f\"Total size: {audio_df['file_size'].sum()/1024/1024:.2f} mb\")\n",
    "audio_df.sample(5)"
   ]
  },
  {
   "cell_type": "markdown",
   "metadata": {},
   "source": [
    "## text and gender"
   ]
  },
  {
   "cell_type": "code",
   "execution_count": 7,
   "metadata": {},
   "outputs": [],
   "source": [
    "text_df = pd.read_csv(os.path.join(DATA_PATH, \"voxforge_transcript.csv\"))\n",
    "text_df['speaker_id'] = text_df.file_name.map(lambda x: x.split(\"_\", 1)[0])"
   ]
  },
  {
   "cell_type": "code",
   "execution_count": 8,
   "metadata": {},
   "outputs": [
    {
     "name": "stdout",
     "output_type": "stream",
     "text": [
      "(50, 4)\n"
     ]
    },
    {
     "data": {
      "text/html": [
       "<div>\n",
       "<style scoped>\n",
       "    .dataframe tbody tr th:only-of-type {\n",
       "        vertical-align: middle;\n",
       "    }\n",
       "\n",
       "    .dataframe tbody tr th {\n",
       "        vertical-align: top;\n",
       "    }\n",
       "\n",
       "    .dataframe thead th {\n",
       "        text-align: right;\n",
       "    }\n",
       "</style>\n",
       "<table border=\"1\" class=\"dataframe\">\n",
       "  <thead>\n",
       "    <tr style=\"text-align: right;\">\n",
       "      <th></th>\n",
       "      <th>file_name</th>\n",
       "      <th>transcript</th>\n",
       "      <th>gender</th>\n",
       "      <th>speaker_id</th>\n",
       "    </tr>\n",
       "  </thead>\n",
       "  <tbody>\n",
       "    <tr>\n",
       "      <th>0</th>\n",
       "      <td>Neverice_uk_0031.wav</td>\n",
       "      <td>Водночас у тексті є багато думок, на які хочет...</td>\n",
       "      <td>m</td>\n",
       "      <td>Neverice</td>\n",
       "    </tr>\n",
       "    <tr>\n",
       "      <th>1</th>\n",
       "      <td>Neverice_uk_0032.wav</td>\n",
       "      <td>Тяжкою працею, з допомогою щоразу більшої груп...</td>\n",
       "      <td>m</td>\n",
       "      <td>Neverice</td>\n",
       "    </tr>\n",
       "    <tr>\n",
       "      <th>2</th>\n",
       "      <td>Neverice_uk_0033.wav</td>\n",
       "      <td>Досі не бралася за цю тему, вважаючи, що це зр...</td>\n",
       "      <td>m</td>\n",
       "      <td>Neverice</td>\n",
       "    </tr>\n",
       "    <tr>\n",
       "      <th>3</th>\n",
       "      <td>Neverice_uk_0034.wav</td>\n",
       "      <td>На початку його каденції ці рішення не були по...</td>\n",
       "      <td>m</td>\n",
       "      <td>Neverice</td>\n",
       "    </tr>\n",
       "    <tr>\n",
       "      <th>4</th>\n",
       "      <td>Neverice_uk_0035.wav</td>\n",
       "      <td>Розподіл української єпархії між галичанами, я...</td>\n",
       "      <td>m</td>\n",
       "      <td>Neverice</td>\n",
       "    </tr>\n",
       "  </tbody>\n",
       "</table>\n",
       "</div>"
      ],
      "text/plain": [
       "              file_name                                         transcript  \\\n",
       "0  Neverice_uk_0031.wav  Водночас у тексті є багато думок, на які хочет...   \n",
       "1  Neverice_uk_0032.wav  Тяжкою працею, з допомогою щоразу більшої груп...   \n",
       "2  Neverice_uk_0033.wav  Досі не бралася за цю тему, вважаючи, що це зр...   \n",
       "3  Neverice_uk_0034.wav  На початку його каденції ці рішення не були по...   \n",
       "4  Neverice_uk_0035.wav  Розподіл української єпархії між галичанами, я...   \n",
       "\n",
       "  gender speaker_id  \n",
       "0      m   Neverice  \n",
       "1      m   Neverice  \n",
       "2      m   Neverice  \n",
       "3      m   Neverice  \n",
       "4      m   Neverice  "
      ]
     },
     "execution_count": 8,
     "metadata": {},
     "output_type": "execute_result"
    }
   ],
   "source": [
    "print(text_df.shape)\n",
    "text_df.head()"
   ]
  },
  {
   "cell_type": "markdown",
   "metadata": {},
   "source": [
    "### Prepare text"
   ]
  },
  {
   "cell_type": "code",
   "execution_count": 9,
   "metadata": {},
   "outputs": [],
   "source": [
    "import re\n",
    "\n",
    "from tqdm import tqdm\n",
    "from collections import Counter"
   ]
  },
  {
   "cell_type": "code",
   "execution_count": 10,
   "metadata": {},
   "outputs": [],
   "source": [
    "def regex_token(x):\n",
    "    return \" \".join(re.findall(r\"\\w+\", x)).lower()\n",
    "\n",
    "def clean_text(x):\n",
    "    letter_mapping = {\"i\": \"і\"}\n",
    "    for en, uk in letter_mapping.items():\n",
    "        x = x.replace(en, uk)\n",
    "    return x"
   ]
  },
  {
   "cell_type": "code",
   "execution_count": 11,
   "metadata": {},
   "outputs": [],
   "source": [
    "text_df['transcript_clean'] = text_df.transcript.map(regex_token)\n",
    "text_df['transcript_clean'] = text_df.transcript_clean.map(clean_text)"
   ]
  },
  {
   "cell_type": "code",
   "execution_count": 12,
   "metadata": {},
   "outputs": [
    {
     "name": "stderr",
     "output_type": "stream",
     "text": [
      "100%|██████████| 50/50 [00:00<00:00, 191171.56it/s]\n"
     ]
    }
   ],
   "source": [
    "words = []\n",
    "\n",
    "for item in tqdm(text_df[\"transcript_clean\"].str.split().values):\n",
    "    words.extend(item)"
   ]
  },
  {
   "cell_type": "code",
   "execution_count": 13,
   "metadata": {},
   "outputs": [
    {
     "data": {
      "text/plain": [
       "[('не', 32),\n",
       " ('і', 27),\n",
       " ('що', 21),\n",
       " ('на', 12),\n",
       " ('та', 10),\n",
       " ('те', 8),\n",
       " ('щось', 8),\n",
       " ('все', 8),\n",
       " ('є', 7),\n",
       " ('з', 7)]"
      ]
     },
     "execution_count": 13,
     "metadata": {},
     "output_type": "execute_result"
    }
   ],
   "source": [
    "Counter(words).most_common(10)"
   ]
  },
  {
   "cell_type": "markdown",
   "metadata": {},
   "source": [
    "## Kaldi requirements"
   ]
  },
  {
   "cell_type": "code",
   "execution_count": 14,
   "metadata": {},
   "outputs": [],
   "source": [
    "import shutil"
   ]
  },
  {
   "cell_type": "code",
   "execution_count": 15,
   "metadata": {},
   "outputs": [],
   "source": [
    "def mkdir(path):\n",
    "    try:\n",
    "        os.mkdir(path)\n",
    "    except FileExistsError:\n",
    "        pass"
   ]
  },
  {
   "cell_type": "code",
   "execution_count": 16,
   "metadata": {},
   "outputs": [],
   "source": [
    "kaldi_proj_path = os.path.join(os.getcwd(), \"kaldi_baseline\")\n",
    "kaldi_audio = os.path.join(kaldi_proj_path, 'audio')\n",
    "kaldi_data = os.path.join(kaldi_proj_path, 'data')"
   ]
  },
  {
   "cell_type": "code",
   "execution_count": null,
   "metadata": {},
   "outputs": [],
   "source": []
  },
  {
   "cell_type": "code",
   "execution_count": 17,
   "metadata": {},
   "outputs": [],
   "source": [
    "folders = [\"audio\", \"audio/train\", \"audio/test\", \"data\", \"data/train\", \"data/test\", \"data/local\", \"data/local/dict\", \"local\", \"conf\"]\n",
    "\n",
    "\n",
    "for folder in folders:\n",
    "    mkdir(os.path.join(kaldi_proj_path, folder))"
   ]
  },
  {
   "cell_type": "code",
   "execution_count": null,
   "metadata": {},
   "outputs": [],
   "source": []
  },
  {
   "cell_type": "code",
   "execution_count": 18,
   "metadata": {},
   "outputs": [],
   "source": [
    "df = audio_df.merge(text_df, on='file_name')"
   ]
  },
  {
   "cell_type": "code",
   "execution_count": 19,
   "metadata": {},
   "outputs": [
    {
     "name": "stdout",
     "output_type": "stream",
     "text": [
      "(50, 8)\n"
     ]
    },
    {
     "data": {
      "text/html": [
       "<div>\n",
       "<style scoped>\n",
       "    .dataframe tbody tr th:only-of-type {\n",
       "        vertical-align: middle;\n",
       "    }\n",
       "\n",
       "    .dataframe tbody tr th {\n",
       "        vertical-align: top;\n",
       "    }\n",
       "\n",
       "    .dataframe thead th {\n",
       "        text-align: right;\n",
       "    }\n",
       "</style>\n",
       "<table border=\"1\" class=\"dataframe\">\n",
       "  <thead>\n",
       "    <tr style=\"text-align: right;\">\n",
       "      <th></th>\n",
       "      <th>file_name</th>\n",
       "      <th>file_path</th>\n",
       "      <th>duration</th>\n",
       "      <th>file_size</th>\n",
       "      <th>transcript</th>\n",
       "      <th>gender</th>\n",
       "      <th>speaker_id</th>\n",
       "      <th>transcript_clean</th>\n",
       "    </tr>\n",
       "  </thead>\n",
       "  <tbody>\n",
       "    <tr>\n",
       "      <th>0</th>\n",
       "      <td>Darrr_uk_0045.wav</td>\n",
       "      <td>/home/dima/Projects/stt_uk/data/voxforge/audio...</td>\n",
       "      <td>6.750000</td>\n",
       "      <td>216044</td>\n",
       "      <td>Щодо ракових недуг, то необхідно дотримуватися...</td>\n",
       "      <td>f</td>\n",
       "      <td>Darrr</td>\n",
       "      <td>щодо ракових недуг то необхідно дотримуватися ...</td>\n",
       "    </tr>\n",
       "    <tr>\n",
       "      <th>1</th>\n",
       "      <td>Alias_uk_0024.wav</td>\n",
       "      <td>/home/dima/Projects/stt_uk/data/voxforge/audio...</td>\n",
       "      <td>9.750000</td>\n",
       "      <td>312044</td>\n",
       "      <td>Скільки коштуватиме організаторам дійство за у...</td>\n",
       "      <td>m</td>\n",
       "      <td>Alias</td>\n",
       "      <td>скільки коштуватиме організаторам дійство за у...</td>\n",
       "    </tr>\n",
       "    <tr>\n",
       "      <th>2</th>\n",
       "      <td>Neverice_uk_0034.wav</td>\n",
       "      <td>/home/dima/Projects/stt_uk/data/voxforge/audio...</td>\n",
       "      <td>7.261312</td>\n",
       "      <td>232406</td>\n",
       "      <td>На початку його каденції ці рішення не були по...</td>\n",
       "      <td>m</td>\n",
       "      <td>Neverice</td>\n",
       "      <td>на початку його каденції ці рішення не були по...</td>\n",
       "    </tr>\n",
       "    <tr>\n",
       "      <th>3</th>\n",
       "      <td>Anna_uk_0006.wav</td>\n",
       "      <td>/home/dima/Projects/stt_uk/data/voxforge/audio...</td>\n",
       "      <td>7.875000</td>\n",
       "      <td>252044</td>\n",
       "      <td>жах не в тому, що щось змінеться, - жах у тому...</td>\n",
       "      <td>f</td>\n",
       "      <td>Anna</td>\n",
       "      <td>жах не в тому що щось змінеться жах у тому що ...</td>\n",
       "    </tr>\n",
       "    <tr>\n",
       "      <th>4</th>\n",
       "      <td>Darrr_uk_0001.wav</td>\n",
       "      <td>/home/dima/Projects/stt_uk/data/voxforge/audio...</td>\n",
       "      <td>13.875000</td>\n",
       "      <td>444044</td>\n",
       "      <td>Три наріччя української мови виділялися не зав...</td>\n",
       "      <td>f</td>\n",
       "      <td>Darrr</td>\n",
       "      <td>три наріччя української мови виділялися не зав...</td>\n",
       "    </tr>\n",
       "  </tbody>\n",
       "</table>\n",
       "</div>"
      ],
      "text/plain": [
       "              file_name                                          file_path  \\\n",
       "0     Darrr_uk_0045.wav  /home/dima/Projects/stt_uk/data/voxforge/audio...   \n",
       "1     Alias_uk_0024.wav  /home/dima/Projects/stt_uk/data/voxforge/audio...   \n",
       "2  Neverice_uk_0034.wav  /home/dima/Projects/stt_uk/data/voxforge/audio...   \n",
       "3      Anna_uk_0006.wav  /home/dima/Projects/stt_uk/data/voxforge/audio...   \n",
       "4     Darrr_uk_0001.wav  /home/dima/Projects/stt_uk/data/voxforge/audio...   \n",
       "\n",
       "    duration  file_size                                         transcript  \\\n",
       "0   6.750000     216044  Щодо ракових недуг, то необхідно дотримуватися...   \n",
       "1   9.750000     312044  Скільки коштуватиме організаторам дійство за у...   \n",
       "2   7.261312     232406  На початку його каденції ці рішення не були по...   \n",
       "3   7.875000     252044  жах не в тому, що щось змінеться, - жах у тому...   \n",
       "4  13.875000     444044  Три наріччя української мови виділялися не зав...   \n",
       "\n",
       "  gender speaker_id                                   transcript_clean  \n",
       "0      f      Darrr  щодо ракових недуг то необхідно дотримуватися ...  \n",
       "1      m      Alias  скільки коштуватиме організаторам дійство за у...  \n",
       "2      m   Neverice  на початку його каденції ці рішення не були по...  \n",
       "3      f       Anna  жах не в тому що щось змінеться жах у тому що ...  \n",
       "4      f      Darrr  три наріччя української мови виділялися не зав...  "
      ]
     },
     "execution_count": 19,
     "metadata": {},
     "output_type": "execute_result"
    }
   ],
   "source": [
    "print(df.shape)\n",
    "df.head()"
   ]
  },
  {
   "cell_type": "code",
   "execution_count": 20,
   "metadata": {},
   "outputs": [
    {
     "data": {
      "text/plain": [
       "{'Anna': 10, 'Alias': 10, 'Taras': 10, 'Neverice': 10, 'Darrr': 10}"
      ]
     },
     "execution_count": 20,
     "metadata": {},
     "output_type": "execute_result"
    }
   ],
   "source": [
    "df.speaker_id.value_counts().to_dict()"
   ]
  },
  {
   "cell_type": "code",
   "execution_count": 21,
   "metadata": {},
   "outputs": [
    {
     "name": "stdout",
     "output_type": "stream",
     "text": [
      "40 10\n"
     ]
    }
   ],
   "source": [
    "train, test = df.loc[df.speaker_id != 'Taras'], df.loc[df.speaker_id == 'Taras']\n",
    "print(train.shape[0], test.shape[0])"
   ]
  },
  {
   "cell_type": "markdown",
   "metadata": {},
   "source": [
    "#### audio_data"
   ]
  },
  {
   "cell_type": "code",
   "execution_count": 22,
   "metadata": {},
   "outputs": [
    {
     "name": "stderr",
     "output_type": "stream",
     "text": [
      "100%|██████████| 4/4 [00:00<00:00, 238.69it/s]\n"
     ]
    }
   ],
   "source": [
    "for spkr in tqdm(train.speaker_id.unique()):\n",
    "    mkdir(os.path.join(kaldi_proj_path, 'audio', 'train', spkr))\n",
    "    for file_ in train.loc[train.speaker_id == spkr].file_name.values:\n",
    "        shutil.copy2(os.path.join(audio_converted_path, file_), \n",
    "                     os.path.join(kaldi_proj_path, 'audio', 'train', spkr))"
   ]
  },
  {
   "cell_type": "code",
   "execution_count": 23,
   "metadata": {},
   "outputs": [
    {
     "name": "stderr",
     "output_type": "stream",
     "text": [
      "100%|██████████| 1/1 [00:00<00:00, 214.87it/s]\n"
     ]
    }
   ],
   "source": [
    "for spkr in tqdm(test.speaker_id.unique()):\n",
    "    mkdir(os.path.join(kaldi_proj_path, 'audio', 'test', spkr))\n",
    "    for file_ in test.loc[test.speaker_id == spkr].file_name.values:\n",
    "        shutil.copy2(os.path.join(audio_converted_path, file_), \n",
    "                     os.path.join(kaldi_proj_path, 'audio', 'test', spkr))"
   ]
  },
  {
   "cell_type": "code",
   "execution_count": 24,
   "metadata": {},
   "outputs": [
    {
     "data": {
      "text/html": [
       "<div>\n",
       "<style scoped>\n",
       "    .dataframe tbody tr th:only-of-type {\n",
       "        vertical-align: middle;\n",
       "    }\n",
       "\n",
       "    .dataframe tbody tr th {\n",
       "        vertical-align: top;\n",
       "    }\n",
       "\n",
       "    .dataframe thead th {\n",
       "        text-align: right;\n",
       "    }\n",
       "</style>\n",
       "<table border=\"1\" class=\"dataframe\">\n",
       "  <thead>\n",
       "    <tr style=\"text-align: right;\">\n",
       "      <th></th>\n",
       "      <th>speaker_id</th>\n",
       "      <th>gender</th>\n",
       "    </tr>\n",
       "  </thead>\n",
       "  <tbody>\n",
       "    <tr>\n",
       "      <th>0</th>\n",
       "      <td>Darrr</td>\n",
       "      <td>f</td>\n",
       "    </tr>\n",
       "    <tr>\n",
       "      <th>1</th>\n",
       "      <td>Alias</td>\n",
       "      <td>m</td>\n",
       "    </tr>\n",
       "    <tr>\n",
       "      <th>2</th>\n",
       "      <td>Neverice</td>\n",
       "      <td>m</td>\n",
       "    </tr>\n",
       "    <tr>\n",
       "      <th>3</th>\n",
       "      <td>Anna</td>\n",
       "      <td>f</td>\n",
       "    </tr>\n",
       "  </tbody>\n",
       "</table>\n",
       "</div>"
      ],
      "text/plain": [
       "  speaker_id gender\n",
       "0      Darrr      f\n",
       "1      Alias      m\n",
       "2   Neverice      m\n",
       "3       Anna      f"
      ]
     },
     "execution_count": 24,
     "metadata": {},
     "output_type": "execute_result"
    }
   ],
   "source": [
    "train[[\"speaker_id\", \"gender\"]].drop_duplicates()"
   ]
  },
  {
   "cell_type": "markdown",
   "metadata": {},
   "source": [
    "#### spk2gender"
   ]
  },
  {
   "cell_type": "code",
   "execution_count": 25,
   "metadata": {},
   "outputs": [],
   "source": [
    "train[[\"speaker_id\", \"gender\"]].drop_duplicates().to_csv(os.path.join(kaldi_proj_path, 'data', 'train', 'spk2gender'), sep=\" \", index=False, header=None)\n",
    "test[[\"speaker_id\", \"gender\"]].drop_duplicates().to_csv(os.path.join(kaldi_proj_path, 'data', 'test', 'spk2gender'), sep=\" \", index=False, header=None)"
   ]
  },
  {
   "cell_type": "markdown",
   "metadata": {},
   "source": [
    "#### wav.scp"
   ]
  },
  {
   "cell_type": "code",
   "execution_count": 26,
   "metadata": {},
   "outputs": [],
   "source": [
    "project_path = \"/home/dima/kaldi/egs/stt_uk/\""
   ]
  },
  {
   "cell_type": "code",
   "execution_count": 27,
   "metadata": {},
   "outputs": [
    {
     "name": "stderr",
     "output_type": "stream",
     "text": [
      "/home/dima/anaconda3/envs/p36/lib/python3.6/site-packages/ipykernel_launcher.py:1: SettingWithCopyWarning: \n",
      "A value is trying to be set on a copy of a slice from a DataFrame.\n",
      "Try using .loc[row_indexer,col_indexer] = value instead\n",
      "\n",
      "See the caveats in the documentation: http://pandas.pydata.org/pandas-docs/stable/user_guide/indexing.html#returning-a-view-versus-a-copy\n",
      "  \"\"\"Entry point for launching an IPython kernel.\n",
      "/home/dima/anaconda3/envs/p36/lib/python3.6/site-packages/ipykernel_launcher.py:2: SettingWithCopyWarning: \n",
      "A value is trying to be set on a copy of a slice from a DataFrame.\n",
      "Try using .loc[row_indexer,col_indexer] = value instead\n",
      "\n",
      "See the caveats in the documentation: http://pandas.pydata.org/pandas-docs/stable/user_guide/indexing.html#returning-a-view-versus-a-copy\n",
      "  \n"
     ]
    }
   ],
   "source": [
    "train[\"path\"] = train.apply(lambda x: f\"{project_path}audio/train/{x.speaker_id}/{x.file_name}\", 1)\n",
    "test[\"path\"] = test.apply(lambda x: f\"{project_path}audio/test/{x.speaker_id}/{x.file_name}\", 1)"
   ]
  },
  {
   "cell_type": "code",
   "execution_count": 28,
   "metadata": {},
   "outputs": [],
   "source": [
    "train[[\"file_name\", \"path\"]].to_csv(os.path.join(kaldi_proj_path, 'data', 'train', 'wav.scp'), \n",
    "                                    sep=\" \", index=False, header=None)\n",
    "test[[\"file_name\", \"path\"]].to_csv(os.path.join(kaldi_proj_path, 'data', 'test', 'wav.scp'), \n",
    "                                   sep=\" \", index=False, header=None)"
   ]
  },
  {
   "cell_type": "markdown",
   "metadata": {},
   "source": [
    "#### text"
   ]
  },
  {
   "cell_type": "code",
   "execution_count": 29,
   "metadata": {},
   "outputs": [],
   "source": [
    "with open(os.path.join(kaldi_proj_path, 'data', 'train', 'text'), \"w\") as file_:\n",
    "    for line in (train[\"file_name\"] + \" \" + train[\"transcript_clean\"]).values:\n",
    "        file_.write(line.strip() + \"\\n\")\n",
    "        \n",
    "with open(os.path.join(kaldi_proj_path, 'data', 'test', 'text'), \"w\") as file_:\n",
    "    for line in (test[\"file_name\"] + \" \" + test[\"transcript_clean\"]).values:\n",
    "        file_.write(line.strip() + \"\\n\")"
   ]
  },
  {
   "cell_type": "markdown",
   "metadata": {},
   "source": [
    "#### utt2spk"
   ]
  },
  {
   "cell_type": "code",
   "execution_count": 30,
   "metadata": {},
   "outputs": [],
   "source": [
    "train[[\"file_name\", \"speaker_id\"]].to_csv(os.path.join(kaldi_proj_path, 'data', 'train', 'utt2spk'), \n",
    "                                          sep=\" \", index=False, header=None)\n",
    "test[[\"file_name\", \"speaker_id\"]].to_csv(os.path.join(kaldi_proj_path, 'data', 'test', 'utt2spk'), sep=\" \", index=False, header=None)"
   ]
  },
  {
   "cell_type": "markdown",
   "metadata": {},
   "source": [
    "#### corpus.txt"
   ]
  },
  {
   "cell_type": "code",
   "execution_count": 31,
   "metadata": {},
   "outputs": [],
   "source": [
    "with open(os.path.join(kaldi_proj_path, 'data', 'local', 'corpus.txt'), \"w\") as file_:\n",
    "    for line in df.loc[df[\"transcript_clean\"].str.len() > 1][\"transcript_clean\"].unique():\n",
    "        file_.write(line.strip() + \"\\n\")"
   ]
  },
  {
   "cell_type": "markdown",
   "metadata": {},
   "source": [
    "#### lexicon.txt"
   ]
  },
  {
   "cell_type": "code",
   "execution_count": 32,
   "metadata": {},
   "outputs": [],
   "source": [
    "from utils.g2p import word2phonemes"
   ]
  },
  {
   "cell_type": "code",
   "execution_count": 33,
   "metadata": {},
   "outputs": [],
   "source": [
    "sil_phones = [(\"!SIL\", \"sil\"), (\"<UNK>\", \"spn\")]"
   ]
  },
  {
   "cell_type": "code",
   "execution_count": 34,
   "metadata": {},
   "outputs": [],
   "source": [
    "unique_words = list(set(words))"
   ]
  },
  {
   "cell_type": "code",
   "execution_count": 35,
   "metadata": {},
   "outputs": [
    {
     "name": "stderr",
     "output_type": "stream",
     "text": [
      "100%|██████████| 424/424 [00:00<00:00, 224713.79it/s]\n"
     ]
    }
   ],
   "source": [
    "lexicon = []\n",
    "\n",
    "for word in tqdm(sorted(unique_words)):\n",
    "    lexicon.append((word, word2phonemes(word)))"
   ]
  },
  {
   "cell_type": "code",
   "execution_count": 36,
   "metadata": {},
   "outputs": [
    {
     "data": {
      "text/plain": [
       "[('а', 'а'),\n",
       " ('але', 'а л е'),\n",
       " ('американської', \"а м е р и к а н с' к о й і\"),\n",
       " ('аналогічних', \"а н а л о г' і ч н и х\"),\n",
       " ('архітектурно', \"а р х' і т е к т у р н о\"),\n",
       " ('багато', 'б а г а т о'),\n",
       " ('батька', \"б а т' к а\"),\n",
       " ('бо', 'б о'),\n",
       " ('боляче', \"б о л' а ч е\"),\n",
       " ('бралася', \"б р а л а с' а\")]"
      ]
     },
     "execution_count": 36,
     "metadata": {},
     "output_type": "execute_result"
    }
   ],
   "source": [
    "lexicon[:10]"
   ]
  },
  {
   "cell_type": "code",
   "execution_count": 37,
   "metadata": {},
   "outputs": [],
   "source": [
    "with open(os.path.join(kaldi_proj_path, 'data', 'local', \"dict\", 'lexicon.txt'), \"w\") as file_:\n",
    "    for word, phones in sil_phones + lexicon:\n",
    "        file_.write(word + \" \" + \" \".join(phones.split(\" \")) + \"\\n\")"
   ]
  },
  {
   "cell_type": "markdown",
   "metadata": {},
   "source": [
    "#### nonsilence_phones.txt"
   ]
  },
  {
   "cell_type": "code",
   "execution_count": 38,
   "metadata": {},
   "outputs": [],
   "source": [
    "with open(os.path.join(kaldi_proj_path, 'data', 'local', \"dict\", 'nonsilence_phones.txt'), \"w\") as file_:\n",
    "    for phone in sorted(list(set(\" \".join([item[1] for item in lexicon]).split()))):\n",
    "        file_.write(phone + \"\\n\")"
   ]
  },
  {
   "cell_type": "markdown",
   "metadata": {},
   "source": [
    "#### silence_phones.txt"
   ]
  },
  {
   "cell_type": "code",
   "execution_count": 39,
   "metadata": {},
   "outputs": [],
   "source": [
    "with open(os.path.join(kaldi_proj_path, 'data', 'local', \"dict\", 'silence_phones.txt'), \"w\") as file_:\n",
    "    for phone in sorted(list(set(\" \".join([item[1] for item in sil_phones]).split()))):\n",
    "        file_.write(phone + \"\\n\")"
   ]
  },
  {
   "cell_type": "markdown",
   "metadata": {},
   "source": [
    "#### optional_silence.txt"
   ]
  },
  {
   "cell_type": "code",
   "execution_count": 40,
   "metadata": {},
   "outputs": [],
   "source": [
    "with open(os.path.join(kaldi_proj_path, 'data', 'local', \"dict\", 'optional_silence.txt'), \"w\") as file_:\n",
    "    for phone in [\"sil\"]:\n",
    "        file_.write(phone + \"\\n\")"
   ]
  },
  {
   "cell_type": "markdown",
   "metadata": {},
   "source": [
    "### Copy prepared project to kaldi"
   ]
  },
  {
   "cell_type": "code",
   "execution_count": 41,
   "metadata": {},
   "outputs": [],
   "source": [
    "! rm -rf /home/dima/kaldi/egs/stt_uk"
   ]
  },
  {
   "cell_type": "code",
   "execution_count": 42,
   "metadata": {},
   "outputs": [],
   "source": [
    "! cp -R kaldi_baseline /home/dima/kaldi/egs/stt_uk"
   ]
  },
  {
   "cell_type": "code",
   "execution_count": 43,
   "metadata": {},
   "outputs": [],
   "source": [
    "! cp -R /home/dima/kaldi/egs/wsj/s5/steps /home/dima/kaldi/egs/stt_uk/steps\n",
    "! cp -R /home/dima/kaldi/egs/wsj/s5/utils /home/dima/kaldi/egs/stt_uk/utils\n",
    "! cp -R /home/dima/kaldi/egs/voxforge/s5/local/score.sh /home/dima/kaldi/egs/stt_uk/local/score.sh"
   ]
  },
  {
   "cell_type": "code",
   "execution_count": null,
   "metadata": {},
   "outputs": [],
   "source": []
  },
  {
   "cell_type": "code",
   "execution_count": null,
   "metadata": {},
   "outputs": [],
   "source": []
  },
  {
   "cell_type": "code",
   "execution_count": null,
   "metadata": {},
   "outputs": [],
   "source": []
  },
  {
   "cell_type": "code",
   "execution_count": null,
   "metadata": {},
   "outputs": [],
   "source": []
  }
 ],
 "metadata": {
  "kernelspec": {
   "display_name": "Python [conda env:p36] *",
   "language": "python",
   "name": "conda-env-p36-py"
  },
  "language_info": {
   "codemirror_mode": {
    "name": "ipython",
    "version": 3
   },
   "file_extension": ".py",
   "mimetype": "text/x-python",
   "name": "python",
   "nbconvert_exporter": "python",
   "pygments_lexer": "ipython3",
   "version": "3.6.10"
  }
 },
 "nbformat": 4,
 "nbformat_minor": 2
}
