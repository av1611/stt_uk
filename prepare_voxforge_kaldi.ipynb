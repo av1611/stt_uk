{
 "cells": [
  {
   "cell_type": "code",
   "execution_count": 22,
   "metadata": {},
   "outputs": [],
   "source": [
    "import os\n",
    "import librosa\n",
    "\n",
    "import pandas as pd"
   ]
  },
  {
   "cell_type": "code",
   "execution_count": 2,
   "metadata": {},
   "outputs": [],
   "source": [
    "from utils.misc import recursive_search"
   ]
  },
  {
   "cell_type": "code",
   "execution_count": 3,
   "metadata": {},
   "outputs": [],
   "source": [
    "DATA_PATH = os.path.join(os.getcwd(), \"data\", \"voxforge\")\n",
    "audio_converted_path = os.path.join(DATA_PATH, \"audio_converted\")"
   ]
  },
  {
   "cell_type": "code",
   "execution_count": 4,
   "metadata": {},
   "outputs": [
    {
     "data": {
      "text/plain": [
       "'/home/dima/Projects/stt_uk/data/voxforge/audio_converted'"
      ]
     },
     "execution_count": 4,
     "metadata": {},
     "output_type": "execute_result"
    }
   ],
   "source": [
    "audio_converted_path"
   ]
  },
  {
   "cell_type": "markdown",
   "metadata": {},
   "source": [
    "## Audio data"
   ]
  },
  {
   "cell_type": "code",
   "execution_count": 5,
   "metadata": {},
   "outputs": [],
   "source": [
    "audio_df = recursive_search(audio_converted_path)\n",
    "audio_df['duration'] = audio_df['file_path'].map(lambda x: librosa.get_duration(filename=x))\n",
    "audio_df['file_size'] = audio_df['file_path'].map(lambda x: os.path.getsize(x))"
   ]
  },
  {
   "cell_type": "code",
   "execution_count": 8,
   "metadata": {},
   "outputs": [
    {
     "name": "stdout",
     "output_type": "stream",
     "text": [
      "(50, 4)\n",
      "Total duration: 0.13 hours\n",
      "Total size: 6.90 mb\n"
     ]
    },
    {
     "data": {
      "text/html": [
       "<div>\n",
       "<style scoped>\n",
       "    .dataframe tbody tr th:only-of-type {\n",
       "        vertical-align: middle;\n",
       "    }\n",
       "\n",
       "    .dataframe tbody tr th {\n",
       "        vertical-align: top;\n",
       "    }\n",
       "\n",
       "    .dataframe thead th {\n",
       "        text-align: right;\n",
       "    }\n",
       "</style>\n",
       "<table border=\"1\" class=\"dataframe\">\n",
       "  <thead>\n",
       "    <tr style=\"text-align: right;\">\n",
       "      <th></th>\n",
       "      <th>file_name</th>\n",
       "      <th>file_path</th>\n",
       "      <th>duration</th>\n",
       "      <th>file_size</th>\n",
       "    </tr>\n",
       "  </thead>\n",
       "  <tbody>\n",
       "    <tr>\n",
       "      <th>38</th>\n",
       "      <td>Darrr_uk_0050.wav</td>\n",
       "      <td>/home/dima/Projects/stt_uk/data/voxforge/audio...</td>\n",
       "      <td>5.875</td>\n",
       "      <td>94044</td>\n",
       "    </tr>\n",
       "    <tr>\n",
       "      <th>49</th>\n",
       "      <td>Darrr_uk_0049.wav</td>\n",
       "      <td>/home/dima/Projects/stt_uk/data/voxforge/audio...</td>\n",
       "      <td>9.500</td>\n",
       "      <td>152044</td>\n",
       "    </tr>\n",
       "    <tr>\n",
       "      <th>7</th>\n",
       "      <td>Alias_uk_0025.wav</td>\n",
       "      <td>/home/dima/Projects/stt_uk/data/voxforge/audio...</td>\n",
       "      <td>7.125</td>\n",
       "      <td>114044</td>\n",
       "    </tr>\n",
       "    <tr>\n",
       "      <th>37</th>\n",
       "      <td>Alias_uk_0028.wav</td>\n",
       "      <td>/home/dima/Projects/stt_uk/data/voxforge/audio...</td>\n",
       "      <td>8.750</td>\n",
       "      <td>140044</td>\n",
       "    </tr>\n",
       "    <tr>\n",
       "      <th>21</th>\n",
       "      <td>Alias_uk_0023.wav</td>\n",
       "      <td>/home/dima/Projects/stt_uk/data/voxforge/audio...</td>\n",
       "      <td>5.250</td>\n",
       "      <td>84044</td>\n",
       "    </tr>\n",
       "  </tbody>\n",
       "</table>\n",
       "</div>"
      ],
      "text/plain": [
       "            file_name                                          file_path  \\\n",
       "38  Darrr_uk_0050.wav  /home/dima/Projects/stt_uk/data/voxforge/audio...   \n",
       "49  Darrr_uk_0049.wav  /home/dima/Projects/stt_uk/data/voxforge/audio...   \n",
       "7   Alias_uk_0025.wav  /home/dima/Projects/stt_uk/data/voxforge/audio...   \n",
       "37  Alias_uk_0028.wav  /home/dima/Projects/stt_uk/data/voxforge/audio...   \n",
       "21  Alias_uk_0023.wav  /home/dima/Projects/stt_uk/data/voxforge/audio...   \n",
       "\n",
       "    duration  file_size  \n",
       "38     5.875      94044  \n",
       "49     9.500     152044  \n",
       "7      7.125     114044  \n",
       "37     8.750     140044  \n",
       "21     5.250      84044  "
      ]
     },
     "execution_count": 8,
     "metadata": {},
     "output_type": "execute_result"
    }
   ],
   "source": [
    "print(audio_df.shape)\n",
    "print(f\"Total duration: {audio_df['duration'].sum()/60/60:.2f} hours\")\n",
    "print(f\"Total size: {audio_df['file_size'].sum()/1024/1024:.2f} mb\")\n",
    "audio_df.sample(5)"
   ]
  },
  {
   "cell_type": "markdown",
   "metadata": {},
   "source": [
    "## text and gender"
   ]
  },
  {
   "cell_type": "code",
   "execution_count": 17,
   "metadata": {},
   "outputs": [],
   "source": [
    "text_df = pd.read_csv(os.path.join(DATA_PATH, \"voxforge_transcript.csv\"))\n",
    "text_df['speaker_id'] = text_df.file_name.map(lambda x: x.split(\"_\", 1)[0])"
   ]
  },
  {
   "cell_type": "code",
   "execution_count": 21,
   "metadata": {},
   "outputs": [
    {
     "name": "stdout",
     "output_type": "stream",
     "text": [
      "(50, 5)\n"
     ]
    },
    {
     "data": {
      "text/html": [
       "<div>\n",
       "<style scoped>\n",
       "    .dataframe tbody tr th:only-of-type {\n",
       "        vertical-align: middle;\n",
       "    }\n",
       "\n",
       "    .dataframe tbody tr th {\n",
       "        vertical-align: top;\n",
       "    }\n",
       "\n",
       "    .dataframe thead th {\n",
       "        text-align: right;\n",
       "    }\n",
       "</style>\n",
       "<table border=\"1\" class=\"dataframe\">\n",
       "  <thead>\n",
       "    <tr style=\"text-align: right;\">\n",
       "      <th></th>\n",
       "      <th>file_name</th>\n",
       "      <th>transcript</th>\n",
       "      <th>gender</th>\n",
       "      <th>speaker_id</th>\n",
       "      <th>transcript_clean</th>\n",
       "    </tr>\n",
       "  </thead>\n",
       "  <tbody>\n",
       "    <tr>\n",
       "      <th>0</th>\n",
       "      <td>Neverice_uk_0031.wav</td>\n",
       "      <td>Водночас у тексті є багато думок, на які хочет...</td>\n",
       "      <td>m</td>\n",
       "      <td>Neverice</td>\n",
       "      <td>водночас у тексті є багато думок на які хочеть...</td>\n",
       "    </tr>\n",
       "    <tr>\n",
       "      <th>1</th>\n",
       "      <td>Neverice_uk_0032.wav</td>\n",
       "      <td>Тяжкою працею, з допомогою щоразу більшої груп...</td>\n",
       "      <td>m</td>\n",
       "      <td>Neverice</td>\n",
       "      <td>тяжкою працею з допомогою щоразу більшої групи...</td>\n",
       "    </tr>\n",
       "    <tr>\n",
       "      <th>2</th>\n",
       "      <td>Neverice_uk_0033.wav</td>\n",
       "      <td>Досі не бралася за цю тему, вважаючи, що це зр...</td>\n",
       "      <td>m</td>\n",
       "      <td>Neverice</td>\n",
       "      <td>досі не бралася за цю тему вважаючи що це зроб...</td>\n",
       "    </tr>\n",
       "    <tr>\n",
       "      <th>3</th>\n",
       "      <td>Neverice_uk_0034.wav</td>\n",
       "      <td>На початку його каденції ці рішення не були по...</td>\n",
       "      <td>m</td>\n",
       "      <td>Neverice</td>\n",
       "      <td>на початку його каденції ці рішення не були по...</td>\n",
       "    </tr>\n",
       "    <tr>\n",
       "      <th>4</th>\n",
       "      <td>Neverice_uk_0035.wav</td>\n",
       "      <td>Розподіл української єпархії між галичанами, я...</td>\n",
       "      <td>m</td>\n",
       "      <td>Neverice</td>\n",
       "      <td>розподіл української єпархії між галичанами як...</td>\n",
       "    </tr>\n",
       "  </tbody>\n",
       "</table>\n",
       "</div>"
      ],
      "text/plain": [
       "              file_name                                         transcript  \\\n",
       "0  Neverice_uk_0031.wav  Водночас у тексті є багато думок, на які хочет...   \n",
       "1  Neverice_uk_0032.wav  Тяжкою працею, з допомогою щоразу більшої груп...   \n",
       "2  Neverice_uk_0033.wav  Досі не бралася за цю тему, вважаючи, що це зр...   \n",
       "3  Neverice_uk_0034.wav  На початку його каденції ці рішення не були по...   \n",
       "4  Neverice_uk_0035.wav  Розподіл української єпархії між галичанами, я...   \n",
       "\n",
       "  gender speaker_id                                   transcript_clean  \n",
       "0      m   Neverice  водночас у тексті є багато думок на які хочеть...  \n",
       "1      m   Neverice  тяжкою працею з допомогою щоразу більшої групи...  \n",
       "2      m   Neverice  досі не бралася за цю тему вважаючи що це зроб...  \n",
       "3      m   Neverice  на початку його каденції ці рішення не були по...  \n",
       "4      m   Neverice  розподіл української єпархії між галичанами як...  "
      ]
     },
     "execution_count": 21,
     "metadata": {},
     "output_type": "execute_result"
    }
   ],
   "source": [
    "print(text_df.shape)\n",
    "text_df.head()"
   ]
  },
  {
   "cell_type": "markdown",
   "metadata": {},
   "source": [
    "### Prepare text"
   ]
  },
  {
   "cell_type": "code",
   "execution_count": 28,
   "metadata": {},
   "outputs": [],
   "source": [
    "import re\n",
    "\n",
    "from tqdm import tqdm\n",
    "from collections import Counter"
   ]
  },
  {
   "cell_type": "code",
   "execution_count": 29,
   "metadata": {},
   "outputs": [],
   "source": [
    "def regex_token(x):\n",
    "    return \" \".join(re.findall(r\"\\w+\", x)).lower()"
   ]
  },
  {
   "cell_type": "code",
   "execution_count": 30,
   "metadata": {},
   "outputs": [],
   "source": [
    "text_df['transcript_clean'] = text_df.transcript.map(regex_token)"
   ]
  },
  {
   "cell_type": "code",
   "execution_count": 31,
   "metadata": {},
   "outputs": [
    {
     "name": "stderr",
     "output_type": "stream",
     "text": [
      "100%|██████████| 50/50 [00:00<00:00, 175493.89it/s]\n"
     ]
    }
   ],
   "source": [
    "lst = []\n",
    "\n",
    "for item in tqdm(text_df[\"transcript_clean\"].str.split().values):\n",
    "    lst.extend(item)"
   ]
  },
  {
   "cell_type": "code",
   "execution_count": 32,
   "metadata": {},
   "outputs": [
    {
     "data": {
      "text/plain": [
       "[('не', 32),\n",
       " ('і', 27),\n",
       " ('що', 21),\n",
       " ('на', 12),\n",
       " ('та', 10),\n",
       " ('те', 8),\n",
       " ('щось', 8),\n",
       " ('все', 8),\n",
       " ('є', 7),\n",
       " ('з', 7)]"
      ]
     },
     "execution_count": 32,
     "metadata": {},
     "output_type": "execute_result"
    }
   ],
   "source": [
    "Counter(lst).most_common(10)"
   ]
  },
  {
   "cell_type": "markdown",
   "metadata": {},
   "source": [
    "### Kaldi requirements"
   ]
  },
  {
   "cell_type": "markdown",
   "metadata": {},
   "source": [
    "#### corpus.txt"
   ]
  },
  {
   "cell_type": "code",
   "execution_count": null,
   "metadata": {},
   "outputs": [],
   "source": [
    "df.loc[df[\"transcript\"].str.len() > 1][\"transcript\"].unique()"
   ]
  },
  {
   "cell_type": "code",
   "execution_count": null,
   "metadata": {},
   "outputs": [],
   "source": []
  },
  {
   "cell_type": "code",
   "execution_count": null,
   "metadata": {},
   "outputs": [],
   "source": []
  },
  {
   "cell_type": "code",
   "execution_count": null,
   "metadata": {},
   "outputs": [],
   "source": []
  },
  {
   "cell_type": "code",
   "execution_count": null,
   "metadata": {},
   "outputs": [],
   "source": []
  },
  {
   "cell_type": "code",
   "execution_count": null,
   "metadata": {},
   "outputs": [],
   "source": []
  },
  {
   "cell_type": "code",
   "execution_count": null,
   "metadata": {},
   "outputs": [],
   "source": []
  }
 ],
 "metadata": {
  "kernelspec": {
   "display_name": "Python [conda env:p36] *",
   "language": "python",
   "name": "conda-env-p36-py"
  },
  "language_info": {
   "codemirror_mode": {
    "name": "ipython",
    "version": 3
   },
   "file_extension": ".py",
   "mimetype": "text/x-python",
   "name": "python",
   "nbconvert_exporter": "python",
   "pygments_lexer": "ipython3",
   "version": "3.6.10"
  }
 },
 "nbformat": 4,
 "nbformat_minor": 2
}
