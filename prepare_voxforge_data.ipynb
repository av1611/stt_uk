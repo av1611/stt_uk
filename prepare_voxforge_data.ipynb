{
 "cells": [
  {
   "cell_type": "code",
   "execution_count": 1,
   "metadata": {},
   "outputs": [],
   "source": [
    "import os\n",
    "\n",
    "import pandas as pd"
   ]
  },
  {
   "cell_type": "code",
   "execution_count": 2,
   "metadata": {},
   "outputs": [],
   "source": [
    "DATA_PATH = \"data/voxforge\"\n",
    "audio_path = DATA_PATH + \"/audio\"\n",
    "audio_path_converted = DATA_PATH + \"/audio_converted\"\n",
    "prompts_path = DATA_PATH + \"/prompts\""
   ]
  },
  {
   "cell_type": "code",
   "execution_count": 3,
   "metadata": {},
   "outputs": [],
   "source": [
    "from utils.audio.convert import transform_wav"
   ]
  },
  {
   "cell_type": "code",
   "execution_count": 4,
   "metadata": {},
   "outputs": [],
   "source": [
    "for speaker in os.listdir(audio_path):\n",
    "    for file_ in os.listdir(os.path.join(audio_path, speaker)):\n",
    "        transform_wav(os.path.join(audio_path, speaker, file_), \n",
    "                      os.path.join(audio_path_converted, speaker + \"_\" + file_))"
   ]
  },
  {
   "cell_type": "code",
   "execution_count": 5,
   "metadata": {},
   "outputs": [],
   "source": [
    "genders = {\"Alias\": \"m\", \"Anna\": \"f\", \"Darrr\": \"f\", \"Neverice\": \"m\", \"Taras\": \"m\"}\n",
    "\n",
    "res = []\n",
    "for speaker in os.listdir(prompts_path):\n",
    "    with open(os.path.join(prompts_path, speaker), \"r\") as file_:\n",
    "        speaker = speaker[:-4]\n",
    "        for line in file_.readlines():\n",
    "            f, ut = line.split(\" \", 1)\n",
    "            f = speaker + \"_\" + f + \".wav\"\n",
    "            g =  genders.get(speaker)\n",
    "            res.append({\"file_name\": f, \"transcript\": ut, \"gender\": g})"
   ]
  },
  {
   "cell_type": "code",
   "execution_count": 6,
   "metadata": {},
   "outputs": [
    {
     "data": {
      "text/html": [
       "<div>\n",
       "<style scoped>\n",
       "    .dataframe tbody tr th:only-of-type {\n",
       "        vertical-align: middle;\n",
       "    }\n",
       "\n",
       "    .dataframe tbody tr th {\n",
       "        vertical-align: top;\n",
       "    }\n",
       "\n",
       "    .dataframe thead th {\n",
       "        text-align: right;\n",
       "    }\n",
       "</style>\n",
       "<table border=\"1\" class=\"dataframe\">\n",
       "  <thead>\n",
       "    <tr style=\"text-align: right;\">\n",
       "      <th></th>\n",
       "      <th>file_name</th>\n",
       "      <th>transcript</th>\n",
       "      <th>gender</th>\n",
       "    </tr>\n",
       "  </thead>\n",
       "  <tbody>\n",
       "    <tr>\n",
       "      <th>0</th>\n",
       "      <td>Neverice_uk_0031.wav</td>\n",
       "      <td>Водночас у тексті є багато думок, на які хочет...</td>\n",
       "      <td>m</td>\n",
       "    </tr>\n",
       "    <tr>\n",
       "      <th>1</th>\n",
       "      <td>Neverice_uk_0032.wav</td>\n",
       "      <td>Тяжкою працею, з допомогою щоразу більшої груп...</td>\n",
       "      <td>m</td>\n",
       "    </tr>\n",
       "    <tr>\n",
       "      <th>2</th>\n",
       "      <td>Neverice_uk_0033.wav</td>\n",
       "      <td>Досі не бралася за цю тему, вважаючи, що це зр...</td>\n",
       "      <td>m</td>\n",
       "    </tr>\n",
       "    <tr>\n",
       "      <th>3</th>\n",
       "      <td>Neverice_uk_0034.wav</td>\n",
       "      <td>На початку його каденції ці рішення не були по...</td>\n",
       "      <td>m</td>\n",
       "    </tr>\n",
       "    <tr>\n",
       "      <th>4</th>\n",
       "      <td>Neverice_uk_0035.wav</td>\n",
       "      <td>Розподіл української єпархії між галичанами, я...</td>\n",
       "      <td>m</td>\n",
       "    </tr>\n",
       "  </tbody>\n",
       "</table>\n",
       "</div>"
      ],
      "text/plain": [
       "              file_name                                         transcript  \\\n",
       "0  Neverice_uk_0031.wav  Водночас у тексті є багато думок, на які хочет...   \n",
       "1  Neverice_uk_0032.wav  Тяжкою працею, з допомогою щоразу більшої груп...   \n",
       "2  Neverice_uk_0033.wav  Досі не бралася за цю тему, вважаючи, що це зр...   \n",
       "3  Neverice_uk_0034.wav  На початку його каденції ці рішення не були по...   \n",
       "4  Neverice_uk_0035.wav  Розподіл української єпархії між галичанами, я...   \n",
       "\n",
       "  gender  \n",
       "0      m  \n",
       "1      m  \n",
       "2      m  \n",
       "3      m  \n",
       "4      m  "
      ]
     },
     "execution_count": 6,
     "metadata": {},
     "output_type": "execute_result"
    }
   ],
   "source": [
    "df = pd.DataFrame(res)\n",
    "df.head()"
   ]
  },
  {
   "cell_type": "code",
   "execution_count": 7,
   "metadata": {},
   "outputs": [],
   "source": [
    "df.to_csv(\"data/voxforge/voxforge_transcript.csv\", index=False)"
   ]
  },
  {
   "cell_type": "code",
   "execution_count": null,
   "metadata": {},
   "outputs": [],
   "source": []
  },
  {
   "cell_type": "code",
   "execution_count": null,
   "metadata": {},
   "outputs": [],
   "source": []
  },
  {
   "cell_type": "code",
   "execution_count": null,
   "metadata": {},
   "outputs": [],
   "source": []
  },
  {
   "cell_type": "code",
   "execution_count": null,
   "metadata": {},
   "outputs": [],
   "source": []
  }
 ],
 "metadata": {
  "kernelspec": {
   "display_name": "Python [conda env:p36] *",
   "language": "python",
   "name": "conda-env-p36-py"
  },
  "language_info": {
   "codemirror_mode": {
    "name": "ipython",
    "version": 3
   },
   "file_extension": ".py",
   "mimetype": "text/x-python",
   "name": "python",
   "nbconvert_exporter": "python",
   "pygments_lexer": "ipython3",
   "version": "3.6.10"
  }
 },
 "nbformat": 4,
 "nbformat_minor": 2
}
