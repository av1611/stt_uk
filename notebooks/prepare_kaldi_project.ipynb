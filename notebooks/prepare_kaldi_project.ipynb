{
 "cells": [
  {
   "cell_type": "code",
   "execution_count": 76,
   "metadata": {},
   "outputs": [],
   "source": [
    "import os\n",
    "import re\n",
    "import sys\n",
    "import shutil\n",
    "\n",
    "from tqdm import tqdm\n",
    "from collections import Counter\n",
    "from string import ascii_lowercase"
   ]
  },
  {
   "cell_type": "code",
   "execution_count": 9,
   "metadata": {},
   "outputs": [],
   "source": [
    "sys.path.append(\"..\")"
   ]
  },
  {
   "cell_type": "code",
   "execution_count": 50,
   "metadata": {},
   "outputs": [],
   "source": [
    "from utils import transform_audio_file, recursive_search, create_dir, delete_dir"
   ]
  },
  {
   "cell_type": "code",
   "execution_count": 5,
   "metadata": {},
   "outputs": [],
   "source": [
    "prj_path = os.path.dirname(os.getcwd())\n",
    "data_path = os.path.join(prj_path, 'data')\n",
    "voxforge_data_path = os.path.join(data_path, 'voxforge')\n",
    "librivox_data_path = os.path.join(data_path, 'librivox')"
   ]
  },
  {
   "cell_type": "markdown",
   "metadata": {},
   "source": [
    "## Prepare data"
   ]
  },
  {
   "cell_type": "markdown",
   "metadata": {},
   "source": [
    "### Audio data"
   ]
  },
  {
   "cell_type": "code",
   "execution_count": 11,
   "metadata": {},
   "outputs": [],
   "source": [
    "audio_librivox = recursive_search(os.path.join(librivox_data_path, 'audio'))\n",
    "audio_librivox['duration'] = audio_librivox['file_path'].map(lambda x: librosa.get_duration(filename=x))\n",
    "audio_librivox['file_size'] = audio_librivox['file_path'].map(lambda x: os.path.getsize(x))"
   ]
  },
  {
   "cell_type": "code",
   "execution_count": 12,
   "metadata": {},
   "outputs": [
    {
     "name": "stdout",
     "output_type": "stream",
     "text": [
      "(34193, 4)\n",
      "Total duration: 83.23 hours\n",
      "Total size: 4573.50 mb\n"
     ]
    },
    {
     "data": {
      "text/html": [
       "<div>\n",
       "<style scoped>\n",
       "    .dataframe tbody tr th:only-of-type {\n",
       "        vertical-align: middle;\n",
       "    }\n",
       "\n",
       "    .dataframe tbody tr th {\n",
       "        vertical-align: top;\n",
       "    }\n",
       "\n",
       "    .dataframe thead th {\n",
       "        text-align: right;\n",
       "    }\n",
       "</style>\n",
       "<table border=\"1\" class=\"dataframe\">\n",
       "  <thead>\n",
       "    <tr style=\"text-align: right;\">\n",
       "      <th></th>\n",
       "      <th>file_name</th>\n",
       "      <th>file_path</th>\n",
       "      <th>duration</th>\n",
       "      <th>file_size</th>\n",
       "    </tr>\n",
       "  </thead>\n",
       "  <tbody>\n",
       "    <tr>\n",
       "      <th>8519</th>\n",
       "      <td>shepel__zvirobij_s006618.wav</td>\n",
       "      <td>/home/dima/Projects/stt_uk/data/librivox/audio...</td>\n",
       "      <td>8.399875</td>\n",
       "      <td>134442</td>\n",
       "    </tr>\n",
       "    <tr>\n",
       "      <th>32184</th>\n",
       "      <td>obruchov__fata_morgana_s001095.wav</td>\n",
       "      <td>/home/dima/Projects/stt_uk/data/librivox/audio...</td>\n",
       "      <td>13.329875</td>\n",
       "      <td>213322</td>\n",
       "    </tr>\n",
       "    <tr>\n",
       "      <th>26575</th>\n",
       "      <td>shepel__zvirobij_7_s005786.wav</td>\n",
       "      <td>/home/dima/Projects/stt_uk/data/librivox/audio...</td>\n",
       "      <td>7.429875</td>\n",
       "      <td>118922</td>\n",
       "    </tr>\n",
       "    <tr>\n",
       "      <th>22793</th>\n",
       "      <td>miskun__15YO_Capitan_s004703.wav</td>\n",
       "      <td>/home/dima/Projects/stt_uk/data/librivox/audio...</td>\n",
       "      <td>5.719875</td>\n",
       "      <td>91562</td>\n",
       "    </tr>\n",
       "    <tr>\n",
       "      <th>4301</th>\n",
       "      <td>miskun__15YO_Capitan_s002690.wav</td>\n",
       "      <td>/home/dima/Projects/stt_uk/data/librivox/audio...</td>\n",
       "      <td>8.649875</td>\n",
       "      <td>138442</td>\n",
       "    </tr>\n",
       "  </tbody>\n",
       "</table>\n",
       "</div>"
      ],
      "text/plain": [
       "                                file_name  \\\n",
       "8519         shepel__zvirobij_s006618.wav   \n",
       "32184  obruchov__fata_morgana_s001095.wav   \n",
       "26575      shepel__zvirobij_7_s005786.wav   \n",
       "22793    miskun__15YO_Capitan_s004703.wav   \n",
       "4301     miskun__15YO_Capitan_s002690.wav   \n",
       "\n",
       "                                               file_path   duration  file_size  \n",
       "8519   /home/dima/Projects/stt_uk/data/librivox/audio...   8.399875     134442  \n",
       "32184  /home/dima/Projects/stt_uk/data/librivox/audio...  13.329875     213322  \n",
       "26575  /home/dima/Projects/stt_uk/data/librivox/audio...   7.429875     118922  \n",
       "22793  /home/dima/Projects/stt_uk/data/librivox/audio...   5.719875      91562  \n",
       "4301   /home/dima/Projects/stt_uk/data/librivox/audio...   8.649875     138442  "
      ]
     },
     "execution_count": 12,
     "metadata": {},
     "output_type": "execute_result"
    }
   ],
   "source": [
    "print(audio_librivox.shape)\n",
    "print(f\"Total duration: {audio_librivox['duration'].sum()/60/60:.2f} hours\")\n",
    "print(f\"Total size: {audio_librivox['file_size'].sum()/1024/1024:.2f} mb\")\n",
    "audio_librivox.sample(5)"
   ]
  },
  {
   "cell_type": "code",
   "execution_count": 13,
   "metadata": {},
   "outputs": [],
   "source": [
    "audio_voxforge = recursive_search(os.path.join(voxforge_data_path, 'audio'))\n",
    "audio_voxforge['duration'] = audio_voxforge['file_path'].map(lambda x: librosa.get_duration(filename=x))\n",
    "audio_voxforge['file_size'] = audio_voxforge['file_path'].map(lambda x: os.path.getsize(x))"
   ]
  },
  {
   "cell_type": "code",
   "execution_count": 14,
   "metadata": {},
   "outputs": [
    {
     "name": "stdout",
     "output_type": "stream",
     "text": [
      "(390, 4)\n",
      "Total duration: 1.00 hours\n",
      "Total size: 55.10 mb\n"
     ]
    },
    {
     "data": {
      "text/html": [
       "<div>\n",
       "<style scoped>\n",
       "    .dataframe tbody tr th:only-of-type {\n",
       "        vertical-align: middle;\n",
       "    }\n",
       "\n",
       "    .dataframe tbody tr th {\n",
       "        vertical-align: top;\n",
       "    }\n",
       "\n",
       "    .dataframe thead th {\n",
       "        text-align: right;\n",
       "    }\n",
       "</style>\n",
       "<table border=\"1\" class=\"dataframe\">\n",
       "  <thead>\n",
       "    <tr style=\"text-align: right;\">\n",
       "      <th></th>\n",
       "      <th>file_name</th>\n",
       "      <th>file_path</th>\n",
       "      <th>duration</th>\n",
       "      <th>file_size</th>\n",
       "    </tr>\n",
       "  </thead>\n",
       "  <tbody>\n",
       "    <tr>\n",
       "      <th>243</th>\n",
       "      <td>anonymous-20131219-pxl__uk_0035.wav</td>\n",
       "      <td>/home/dima/Projects/stt_uk/data/voxforge/audio...</td>\n",
       "      <td>13.750</td>\n",
       "      <td>220044</td>\n",
       "    </tr>\n",
       "    <tr>\n",
       "      <th>223</th>\n",
       "      <td>Anna-20160402-kxf__uk_0014.wav</td>\n",
       "      <td>/home/dima/Projects/stt_uk/data/voxforge/audio...</td>\n",
       "      <td>9.750</td>\n",
       "      <td>156044</td>\n",
       "    </tr>\n",
       "    <tr>\n",
       "      <th>63</th>\n",
       "      <td>anonymous-20131024-atf__uk_0024.wav</td>\n",
       "      <td>/home/dima/Projects/stt_uk/data/voxforge/audio...</td>\n",
       "      <td>8.960</td>\n",
       "      <td>143404</td>\n",
       "    </tr>\n",
       "    <tr>\n",
       "      <th>52</th>\n",
       "      <td>Taras-20160318-mxu__uk_0006.wav</td>\n",
       "      <td>/home/dima/Projects/stt_uk/data/voxforge/audio...</td>\n",
       "      <td>7.375</td>\n",
       "      <td>118044</td>\n",
       "    </tr>\n",
       "    <tr>\n",
       "      <th>360</th>\n",
       "      <td>anonymous-20140818-gwg__uk_0045.wav</td>\n",
       "      <td>/home/dima/Projects/stt_uk/data/voxforge/audio...</td>\n",
       "      <td>7.625</td>\n",
       "      <td>122044</td>\n",
       "    </tr>\n",
       "  </tbody>\n",
       "</table>\n",
       "</div>"
      ],
      "text/plain": [
       "                               file_name  \\\n",
       "243  anonymous-20131219-pxl__uk_0035.wav   \n",
       "223       Anna-20160402-kxf__uk_0014.wav   \n",
       "63   anonymous-20131024-atf__uk_0024.wav   \n",
       "52       Taras-20160318-mxu__uk_0006.wav   \n",
       "360  anonymous-20140818-gwg__uk_0045.wav   \n",
       "\n",
       "                                             file_path  duration  file_size  \n",
       "243  /home/dima/Projects/stt_uk/data/voxforge/audio...    13.750     220044  \n",
       "223  /home/dima/Projects/stt_uk/data/voxforge/audio...     9.750     156044  \n",
       "63   /home/dima/Projects/stt_uk/data/voxforge/audio...     8.960     143404  \n",
       "52   /home/dima/Projects/stt_uk/data/voxforge/audio...     7.375     118044  \n",
       "360  /home/dima/Projects/stt_uk/data/voxforge/audio...     7.625     122044  "
      ]
     },
     "execution_count": 14,
     "metadata": {},
     "output_type": "execute_result"
    }
   ],
   "source": [
    "print(audio_voxforge.shape)\n",
    "print(f\"Total duration: {audio_voxforge['duration'].sum()/60/60:.2f} hours\")\n",
    "print(f\"Total size: {audio_voxforge['file_size'].sum()/1024/1024:.2f} mb\")\n",
    "audio_voxforge.sample(5)"
   ]
  },
  {
   "cell_type": "markdown",
   "metadata": {},
   "source": [
    "### gender"
   ]
  },
  {
   "cell_type": "code",
   "execution_count": 15,
   "metadata": {},
   "outputs": [],
   "source": [
    "audio_df = pd.concat([audio_librivox, audio_voxforge])\n",
    "audio_df['speaker_id'] = audio_df['file_name'].map(lambda x: x.split(\"__\", 1)[0])"
   ]
  },
  {
   "cell_type": "code",
   "execution_count": 16,
   "metadata": {},
   "outputs": [],
   "source": [
    "speaker_gender = {item: 'm' for item in audio_df['speaker_id'].unique()}\n",
    "\n",
    "for item in ['Anna-20160402-kxf', 'sumska', 'Darrr-20170412-jau']:\n",
    "    speaker_gender[item] = 'f'\n",
    "\n",
    "audio_df['gender'] = audio_df['speaker_id'].map(speaker_gender)"
   ]
  },
  {
   "cell_type": "code",
   "execution_count": 17,
   "metadata": {},
   "outputs": [
    {
     "name": "stdout",
     "output_type": "stream",
     "text": [
      "(34583, 6)\n"
     ]
    },
    {
     "data": {
      "text/html": [
       "<div>\n",
       "<style scoped>\n",
       "    .dataframe tbody tr th:only-of-type {\n",
       "        vertical-align: middle;\n",
       "    }\n",
       "\n",
       "    .dataframe tbody tr th {\n",
       "        vertical-align: top;\n",
       "    }\n",
       "\n",
       "    .dataframe thead th {\n",
       "        text-align: right;\n",
       "    }\n",
       "</style>\n",
       "<table border=\"1\" class=\"dataframe\">\n",
       "  <thead>\n",
       "    <tr style=\"text-align: right;\">\n",
       "      <th></th>\n",
       "      <th>file_name</th>\n",
       "      <th>file_path</th>\n",
       "      <th>duration</th>\n",
       "      <th>file_size</th>\n",
       "      <th>speaker_id</th>\n",
       "      <th>gender</th>\n",
       "    </tr>\n",
       "  </thead>\n",
       "  <tbody>\n",
       "    <tr>\n",
       "      <th>2304</th>\n",
       "      <td>obruchov__voly_23_f000250.wav</td>\n",
       "      <td>/home/dima/Projects/stt_uk/data/librivox/audio...</td>\n",
       "      <td>3.419875</td>\n",
       "      <td>54762</td>\n",
       "      <td>obruchov</td>\n",
       "      <td>m</td>\n",
       "    </tr>\n",
       "    <tr>\n",
       "      <th>16648</th>\n",
       "      <td>shepel__zvirobij_s007565.wav</td>\n",
       "      <td>/home/dima/Projects/stt_uk/data/librivox/audio...</td>\n",
       "      <td>9.009875</td>\n",
       "      <td>144202</td>\n",
       "      <td>shepel</td>\n",
       "      <td>m</td>\n",
       "    </tr>\n",
       "    <tr>\n",
       "      <th>3305</th>\n",
       "      <td>sumska__mykola_djerya_s001444.wav</td>\n",
       "      <td>/home/dima/Projects/stt_uk/data/librivox/audio...</td>\n",
       "      <td>11.807875</td>\n",
       "      <td>188970</td>\n",
       "      <td>sumska</td>\n",
       "      <td>f</td>\n",
       "    </tr>\n",
       "    <tr>\n",
       "      <th>29185</th>\n",
       "      <td>sumska__mykola_djerya_s001156.wav</td>\n",
       "      <td>/home/dima/Projects/stt_uk/data/librivox/audio...</td>\n",
       "      <td>3.650750</td>\n",
       "      <td>58456</td>\n",
       "      <td>sumska</td>\n",
       "      <td>f</td>\n",
       "    </tr>\n",
       "    <tr>\n",
       "      <th>23236</th>\n",
       "      <td>shepel__zvirobij_s007555.wav</td>\n",
       "      <td>/home/dima/Projects/stt_uk/data/librivox/audio...</td>\n",
       "      <td>9.339875</td>\n",
       "      <td>149482</td>\n",
       "      <td>shepel</td>\n",
       "      <td>m</td>\n",
       "    </tr>\n",
       "  </tbody>\n",
       "</table>\n",
       "</div>"
      ],
      "text/plain": [
       "                               file_name  \\\n",
       "2304       obruchov__voly_23_f000250.wav   \n",
       "16648       shepel__zvirobij_s007565.wav   \n",
       "3305   sumska__mykola_djerya_s001444.wav   \n",
       "29185  sumska__mykola_djerya_s001156.wav   \n",
       "23236       shepel__zvirobij_s007555.wav   \n",
       "\n",
       "                                               file_path   duration  \\\n",
       "2304   /home/dima/Projects/stt_uk/data/librivox/audio...   3.419875   \n",
       "16648  /home/dima/Projects/stt_uk/data/librivox/audio...   9.009875   \n",
       "3305   /home/dima/Projects/stt_uk/data/librivox/audio...  11.807875   \n",
       "29185  /home/dima/Projects/stt_uk/data/librivox/audio...   3.650750   \n",
       "23236  /home/dima/Projects/stt_uk/data/librivox/audio...   9.339875   \n",
       "\n",
       "       file_size speaker_id gender  \n",
       "2304       54762   obruchov      m  \n",
       "16648     144202     shepel      m  \n",
       "3305      188970     sumska      f  \n",
       "29185      58456     sumska      f  \n",
       "23236     149482     shepel      m  "
      ]
     },
     "execution_count": 17,
     "metadata": {},
     "output_type": "execute_result"
    }
   ],
   "source": [
    "print(audio_df.shape)\n",
    "audio_df.sample(5)"
   ]
  },
  {
   "cell_type": "markdown",
   "metadata": {},
   "source": [
    "### text"
   ]
  },
  {
   "cell_type": "code",
   "execution_count": 18,
   "metadata": {},
   "outputs": [],
   "source": [
    "with open(os.path.join(voxforge_data_path, 'prompts.txt')) as file_:\n",
    "    lst = [item.split(\" \", 1) for item in file_.readlines()]\n",
    "text_voxforge = pd.DataFrame(lst)\n",
    "text_voxforge[2] = 'voxforge'"
   ]
  },
  {
   "cell_type": "code",
   "execution_count": 19,
   "metadata": {},
   "outputs": [],
   "source": [
    "with open(os.path.join(librivox_data_path, 'prompts.txt')) as file_:\n",
    "    lst = [item.split(\" \", 1) for item in file_.readlines()]\n",
    "text_librivox = pd.DataFrame(lst)\n",
    "text_librivox[2] = 'librivox'"
   ]
  },
  {
   "cell_type": "code",
   "execution_count": 20,
   "metadata": {},
   "outputs": [],
   "source": [
    "text_df = pd.concat([text_librivox, text_voxforge])\n",
    "text_df.columns = ['file_name', 'transcript', 'source']"
   ]
  },
  {
   "cell_type": "code",
   "execution_count": 21,
   "metadata": {},
   "outputs": [
    {
     "name": "stdout",
     "output_type": "stream",
     "text": [
      "(34579, 3)\n"
     ]
    },
    {
     "data": {
      "text/html": [
       "<div>\n",
       "<style scoped>\n",
       "    .dataframe tbody tr th:only-of-type {\n",
       "        vertical-align: middle;\n",
       "    }\n",
       "\n",
       "    .dataframe tbody tr th {\n",
       "        vertical-align: top;\n",
       "    }\n",
       "\n",
       "    .dataframe thead th {\n",
       "        text-align: right;\n",
       "    }\n",
       "</style>\n",
       "<table border=\"1\" class=\"dataframe\">\n",
       "  <thead>\n",
       "    <tr style=\"text-align: right;\">\n",
       "      <th></th>\n",
       "      <th>file_name</th>\n",
       "      <th>transcript</th>\n",
       "      <th>source</th>\n",
       "    </tr>\n",
       "  </thead>\n",
       "  <tbody>\n",
       "    <tr>\n",
       "      <th>0</th>\n",
       "      <td>obruchov__tini_zabutyh_predkiv_s000001.wav</td>\n",
       "      <td>Я ще заграю до танцю,- бадьорив він чугайстра ...</td>\n",
       "      <td>librivox</td>\n",
       "    </tr>\n",
       "    <tr>\n",
       "      <th>1</th>\n",
       "      <td>obruchov__tini_zabutyh_predkiv_s000002.wav</td>\n",
       "      <td>Вони, здається, гойдалися з нею ще у колисці, ...</td>\n",
       "      <td>librivox</td>\n",
       "    </tr>\n",
       "    <tr>\n",
       "      <th>2</th>\n",
       "      <td>obruchov__tini_zabutyh_predkiv_s000003.wav</td>\n",
       "      <td>І вона співанками косичила їх розлучення, Їй б...</td>\n",
       "      <td>librivox</td>\n",
       "    </tr>\n",
       "    <tr>\n",
       "      <th>3</th>\n",
       "      <td>obruchov__tini_zabutyh_predkiv_s000004.wav</td>\n",
       "      <td>Іду, Марічко! - билась в Іванових грудях одпов...</td>\n",
       "      <td>librivox</td>\n",
       "    </tr>\n",
       "    <tr>\n",
       "      <th>4</th>\n",
       "      <td>obruchov__tini_zabutyh_predkiv_s000005.wav</td>\n",
       "      <td>Засідали за мережаний стіл. тяжкі в своїм овеч...</td>\n",
       "      <td>librivox</td>\n",
       "    </tr>\n",
       "  </tbody>\n",
       "</table>\n",
       "</div>"
      ],
      "text/plain": [
       "                                    file_name  \\\n",
       "0  obruchov__tini_zabutyh_predkiv_s000001.wav   \n",
       "1  obruchov__tini_zabutyh_predkiv_s000002.wav   \n",
       "2  obruchov__tini_zabutyh_predkiv_s000003.wav   \n",
       "3  obruchov__tini_zabutyh_predkiv_s000004.wav   \n",
       "4  obruchov__tini_zabutyh_predkiv_s000005.wav   \n",
       "\n",
       "                                          transcript    source  \n",
       "0  Я ще заграю до танцю,- бадьорив він чугайстра ...  librivox  \n",
       "1  Вони, здається, гойдалися з нею ще у колисці, ...  librivox  \n",
       "2  І вона співанками косичила їх розлучення, Їй б...  librivox  \n",
       "3  Іду, Марічко! - билась в Іванових грудях одпов...  librivox  \n",
       "4  Засідали за мережаний стіл. тяжкі в своїм овеч...  librivox  "
      ]
     },
     "execution_count": 21,
     "metadata": {},
     "output_type": "execute_result"
    }
   ],
   "source": [
    "print(text_df.shape)\n",
    "text_df.head()"
   ]
  },
  {
   "cell_type": "markdown",
   "metadata": {},
   "source": [
    "#### preprocess text"
   ]
  },
  {
   "cell_type": "code",
   "execution_count": 23,
   "metadata": {},
   "outputs": [],
   "source": [
    "letters_to_replace = {\"i\": \"і\", \"a\": \"а\", \"o\": \"о\", \"y\": \"у\", \"e\": \"е\", \n",
    "                      \"p\": \"р\", \"n\": \"п\", \"c\": \"с\", \"x\": \"х\", \"r\": \"г\",\n",
    "                      \"m\": \"м\", \"h\": \"н\", \"b\": \"в\", \"t\": \"т\"}"
   ]
  },
  {
   "cell_type": "code",
   "execution_count": 24,
   "metadata": {},
   "outputs": [],
   "source": [
    "def regex_token(x):\n",
    "    x = \" \".join(re.findall(r\"\\w+\", x)).lower()\n",
    "    x = re.sub(r'\\d+', '', x)\n",
    "    x = x.replace('laissez donc le domestique ecoute', 'люсі дунк лю домєстік екют')\n",
    "\n",
    "    for k, v in letters_to_replace.items():\n",
    "        x = x.replace(k, v)\n",
    "    return x"
   ]
  },
  {
   "cell_type": "code",
   "execution_count": 25,
   "metadata": {},
   "outputs": [],
   "source": [
    "text_df['transcript_clean'] = text_df.transcript.map(regex_token)"
   ]
  },
  {
   "cell_type": "code",
   "execution_count": 26,
   "metadata": {},
   "outputs": [
    {
     "name": "stderr",
     "output_type": "stream",
     "text": [
      "100%|██████████| 34579/34579 [00:00<00:00, 2352399.49it/s]\n"
     ]
    }
   ],
   "source": [
    "words = []\n",
    "\n",
    "for item in tqdm(text_df[\"transcript_clean\"].str.split().values):\n",
    "    words.extend(item)"
   ]
  },
  {
   "cell_type": "code",
   "execution_count": 27,
   "metadata": {},
   "outputs": [
    {
     "data": {
      "text/plain": [
       "[('і', 12672),\n",
       " ('не', 12373),\n",
       " ('на', 11503),\n",
       " ('що', 8342),\n",
       " ('з', 8047),\n",
       " ('в', 7817),\n",
       " ('й', 7468),\n",
       " ('а', 6457),\n",
       " ('до', 5383),\n",
       " ('та', 5327)]"
      ]
     },
     "execution_count": 27,
     "metadata": {},
     "output_type": "execute_result"
    }
   ],
   "source": [
    "Counter(words).most_common(10)"
   ]
  },
  {
   "cell_type": "code",
   "execution_count": 31,
   "metadata": {},
   "outputs": [
    {
     "name": "stdout",
     "output_type": "stream",
     "text": [
      "72530\n"
     ]
    }
   ],
   "source": [
    "unique_words = list(set(words))\n",
    "print(len(unique_words))"
   ]
  },
  {
   "cell_type": "code",
   "execution_count": 32,
   "metadata": {},
   "outputs": [
    {
     "data": {
      "text/plain": [
       "6"
      ]
     },
     "execution_count": 32,
     "metadata": {},
     "output_type": "execute_result"
    }
   ],
   "source": [
    "skip = False\n",
    "bad_word = []\n",
    "\n",
    "for item in unique_words:\n",
    "    skip = False\n",
    "    for letter in ascii_lowercase:\n",
    "        if skip:\n",
    "            break\n",
    "        if letter in item:\n",
    "            bad_word.append(item)\n",
    "            skip = True\n",
    "len(bad_word)"
   ]
  },
  {
   "cell_type": "code",
   "execution_count": 33,
   "metadata": {},
   "outputs": [
    {
     "data": {
      "text/plain": [
       "['v', 'vоlу__f', 'wаv', 'хv', 'кj', 'аvапті']"
      ]
     },
     "execution_count": 33,
     "metadata": {},
     "output_type": "execute_result"
    }
   ],
   "source": [
    "bad_word"
   ]
  },
  {
   "cell_type": "code",
   "execution_count": 36,
   "metadata": {},
   "outputs": [],
   "source": [
    "mask = text_df.transcript_clean.apply(lambda x: any(item for item in bad_word if item in x))\n",
    "text_df = text_df[~mask]"
   ]
  },
  {
   "cell_type": "code",
   "execution_count": 37,
   "metadata": {},
   "outputs": [
    {
     "name": "stdout",
     "output_type": "stream",
     "text": [
      "(34574, 4)\n"
     ]
    },
    {
     "data": {
      "text/html": [
       "<div>\n",
       "<style scoped>\n",
       "    .dataframe tbody tr th:only-of-type {\n",
       "        vertical-align: middle;\n",
       "    }\n",
       "\n",
       "    .dataframe tbody tr th {\n",
       "        vertical-align: top;\n",
       "    }\n",
       "\n",
       "    .dataframe thead th {\n",
       "        text-align: right;\n",
       "    }\n",
       "</style>\n",
       "<table border=\"1\" class=\"dataframe\">\n",
       "  <thead>\n",
       "    <tr style=\"text-align: right;\">\n",
       "      <th></th>\n",
       "      <th>file_name</th>\n",
       "      <th>transcript</th>\n",
       "      <th>source</th>\n",
       "      <th>transcript_clean</th>\n",
       "    </tr>\n",
       "  </thead>\n",
       "  <tbody>\n",
       "    <tr>\n",
       "      <th>0</th>\n",
       "      <td>obruchov__tini_zabutyh_predkiv_s000001.wav</td>\n",
       "      <td>Я ще заграю до танцю,- бадьорив він чугайстра ...</td>\n",
       "      <td>librivox</td>\n",
       "      <td>я ще заграю до танцю бадьорив він чугайстра й ...</td>\n",
       "    </tr>\n",
       "    <tr>\n",
       "      <th>1</th>\n",
       "      <td>obruchov__tini_zabutyh_predkiv_s000002.wav</td>\n",
       "      <td>Вони, здається, гойдалися з нею ще у колисці, ...</td>\n",
       "      <td>librivox</td>\n",
       "      <td>вони здається гойдалися з нею ще у колисці хлю...</td>\n",
       "    </tr>\n",
       "    <tr>\n",
       "      <th>2</th>\n",
       "      <td>obruchov__tini_zabutyh_predkiv_s000003.wav</td>\n",
       "      <td>І вона співанками косичила їх розлучення, Їй б...</td>\n",
       "      <td>librivox</td>\n",
       "      <td>і вона співанками косичила їх розлучення їй бу...</td>\n",
       "    </tr>\n",
       "    <tr>\n",
       "      <th>3</th>\n",
       "      <td>obruchov__tini_zabutyh_predkiv_s000004.wav</td>\n",
       "      <td>Іду, Марічко! - билась в Іванових грудях одпов...</td>\n",
       "      <td>librivox</td>\n",
       "      <td>іду марічко билась в іванових грудях одповідь ...</td>\n",
       "    </tr>\n",
       "    <tr>\n",
       "      <th>4</th>\n",
       "      <td>obruchov__tini_zabutyh_predkiv_s000005.wav</td>\n",
       "      <td>Засідали за мережаний стіл. тяжкі в своїм овеч...</td>\n",
       "      <td>librivox</td>\n",
       "      <td>засідали за мережаний стіл тяжкі в своїм овечі...</td>\n",
       "    </tr>\n",
       "  </tbody>\n",
       "</table>\n",
       "</div>"
      ],
      "text/plain": [
       "                                    file_name  \\\n",
       "0  obruchov__tini_zabutyh_predkiv_s000001.wav   \n",
       "1  obruchov__tini_zabutyh_predkiv_s000002.wav   \n",
       "2  obruchov__tini_zabutyh_predkiv_s000003.wav   \n",
       "3  obruchov__tini_zabutyh_predkiv_s000004.wav   \n",
       "4  obruchov__tini_zabutyh_predkiv_s000005.wav   \n",
       "\n",
       "                                          transcript    source  \\\n",
       "0  Я ще заграю до танцю,- бадьорив він чугайстра ...  librivox   \n",
       "1  Вони, здається, гойдалися з нею ще у колисці, ...  librivox   \n",
       "2  І вона співанками косичила їх розлучення, Їй б...  librivox   \n",
       "3  Іду, Марічко! - билась в Іванових грудях одпов...  librivox   \n",
       "4  Засідали за мережаний стіл. тяжкі в своїм овеч...  librivox   \n",
       "\n",
       "                                    transcript_clean  \n",
       "0  я ще заграю до танцю бадьорив він чугайстра й ...  \n",
       "1  вони здається гойдалися з нею ще у колисці хлю...  \n",
       "2  і вона співанками косичила їх розлучення їй бу...  \n",
       "3  іду марічко билась в іванових грудях одповідь ...  \n",
       "4  засідали за мережаний стіл тяжкі в своїм овечі...  "
      ]
     },
     "execution_count": 37,
     "metadata": {},
     "output_type": "execute_result"
    }
   ],
   "source": [
    "print(text_df.shape)\n",
    "text_df.head()"
   ]
  },
  {
   "cell_type": "markdown",
   "metadata": {},
   "source": [
    "### Final df"
   ]
  },
  {
   "cell_type": "code",
   "execution_count": 38,
   "metadata": {},
   "outputs": [],
   "source": [
    "df = audio_df.merge(text_df, on='file_name')"
   ]
  },
  {
   "cell_type": "code",
   "execution_count": 39,
   "metadata": {},
   "outputs": [
    {
     "name": "stdout",
     "output_type": "stream",
     "text": [
      "(34574, 9)\n"
     ]
    },
    {
     "data": {
      "text/html": [
       "<div>\n",
       "<style scoped>\n",
       "    .dataframe tbody tr th:only-of-type {\n",
       "        vertical-align: middle;\n",
       "    }\n",
       "\n",
       "    .dataframe tbody tr th {\n",
       "        vertical-align: top;\n",
       "    }\n",
       "\n",
       "    .dataframe thead th {\n",
       "        text-align: right;\n",
       "    }\n",
       "</style>\n",
       "<table border=\"1\" class=\"dataframe\">\n",
       "  <thead>\n",
       "    <tr style=\"text-align: right;\">\n",
       "      <th></th>\n",
       "      <th>file_name</th>\n",
       "      <th>file_path</th>\n",
       "      <th>duration</th>\n",
       "      <th>file_size</th>\n",
       "      <th>speaker_id</th>\n",
       "      <th>gender</th>\n",
       "      <th>transcript</th>\n",
       "      <th>source</th>\n",
       "      <th>transcript_clean</th>\n",
       "    </tr>\n",
       "  </thead>\n",
       "  <tbody>\n",
       "    <tr>\n",
       "      <th>0</th>\n",
       "      <td>miskun__15YO_Capitan_s003791.wav</td>\n",
       "      <td>/home/dima/Projects/stt_uk/data/librivox/audio...</td>\n",
       "      <td>7.879875</td>\n",
       "      <td>126122</td>\n",
       "      <td>miskun</td>\n",
       "      <td>m</td>\n",
       "      <td>Вітер чимдалі дужчав, однак не змінював свого ...</td>\n",
       "      <td>librivox</td>\n",
       "      <td>вітер чимдалі дужчав однак не змінював свого н...</td>\n",
       "    </tr>\n",
       "    <tr>\n",
       "      <th>1</th>\n",
       "      <td>loboda__chorna_rada_s002224.wav</td>\n",
       "      <td>/home/dima/Projects/stt_uk/data/librivox/audio...</td>\n",
       "      <td>3.417875</td>\n",
       "      <td>54730</td>\n",
       "      <td>loboda</td>\n",
       "      <td>m</td>\n",
       "      <td>Ну, прощайте ж, братці, навіки!\\n</td>\n",
       "      <td>librivox</td>\n",
       "      <td>ну прощайте ж братці навіки</td>\n",
       "    </tr>\n",
       "    <tr>\n",
       "      <th>2</th>\n",
       "      <td>loboda__zahar_berkut_s000726.wav</td>\n",
       "      <td>/home/dima/Projects/stt_uk/data/librivox/audio...</td>\n",
       "      <td>4.769875</td>\n",
       "      <td>76362</td>\n",
       "      <td>loboda</td>\n",
       "      <td>m</td>\n",
       "      <td>котра ген-ген сходилася з долиною Стрия.\\n</td>\n",
       "      <td>librivox</td>\n",
       "      <td>котра ген ген сходилася з долиною стрия</td>\n",
       "    </tr>\n",
       "    <tr>\n",
       "      <th>3</th>\n",
       "      <td>obruchov__dorogoyu_tsinoyu_s000477.wav</td>\n",
       "      <td>/home/dima/Projects/stt_uk/data/librivox/audio...</td>\n",
       "      <td>15.389875</td>\n",
       "      <td>246282</td>\n",
       "      <td>obruchov</td>\n",
       "      <td>m</td>\n",
       "      <td>Напоєний незабаром зіллям, із перев'язаною ран...</td>\n",
       "      <td>librivox</td>\n",
       "      <td>напоєний незабаром зіллям із перев язаною рано...</td>\n",
       "    </tr>\n",
       "    <tr>\n",
       "      <th>4</th>\n",
       "      <td>shepel__zvirobij_s003180.wav</td>\n",
       "      <td>/home/dima/Projects/stt_uk/data/librivox/audio...</td>\n",
       "      <td>8.661875</td>\n",
       "      <td>138634</td>\n",
       "      <td>shepel</td>\n",
       "      <td>m</td>\n",
       "      <td>Ніхто не знав, за яких обставин її влучено: ма...</td>\n",
       "      <td>librivox</td>\n",
       "      <td>ніхто не знав за яких обставин її влучено мабу...</td>\n",
       "    </tr>\n",
       "  </tbody>\n",
       "</table>\n",
       "</div>"
      ],
      "text/plain": [
       "                                file_name  \\\n",
       "0        miskun__15YO_Capitan_s003791.wav   \n",
       "1         loboda__chorna_rada_s002224.wav   \n",
       "2        loboda__zahar_berkut_s000726.wav   \n",
       "3  obruchov__dorogoyu_tsinoyu_s000477.wav   \n",
       "4            shepel__zvirobij_s003180.wav   \n",
       "\n",
       "                                           file_path   duration  file_size  \\\n",
       "0  /home/dima/Projects/stt_uk/data/librivox/audio...   7.879875     126122   \n",
       "1  /home/dima/Projects/stt_uk/data/librivox/audio...   3.417875      54730   \n",
       "2  /home/dima/Projects/stt_uk/data/librivox/audio...   4.769875      76362   \n",
       "3  /home/dima/Projects/stt_uk/data/librivox/audio...  15.389875     246282   \n",
       "4  /home/dima/Projects/stt_uk/data/librivox/audio...   8.661875     138634   \n",
       "\n",
       "  speaker_id gender                                         transcript  \\\n",
       "0     miskun      m  Вітер чимдалі дужчав, однак не змінював свого ...   \n",
       "1     loboda      m                  Ну, прощайте ж, братці, навіки!\\n   \n",
       "2     loboda      m         котра ген-ген сходилася з долиною Стрия.\\n   \n",
       "3   obruchov      m  Напоєний незабаром зіллям, із перев'язаною ран...   \n",
       "4     shepel      m  Ніхто не знав, за яких обставин її влучено: ма...   \n",
       "\n",
       "     source                                   transcript_clean  \n",
       "0  librivox  вітер чимдалі дужчав однак не змінював свого н...  \n",
       "1  librivox                        ну прощайте ж братці навіки  \n",
       "2  librivox            котра ген ген сходилася з долиною стрия  \n",
       "3  librivox  напоєний незабаром зіллям із перев язаною рано...  \n",
       "4  librivox  ніхто не знав за яких обставин її влучено мабу...  "
      ]
     },
     "execution_count": 39,
     "metadata": {},
     "output_type": "execute_result"
    }
   ],
   "source": [
    "print(df.shape)\n",
    "df.head()"
   ]
  },
  {
   "cell_type": "markdown",
   "metadata": {},
   "source": [
    "## Kaldi project requirements"
   ]
  },
  {
   "cell_type": "code",
   "execution_count": 232,
   "metadata": {},
   "outputs": [],
   "source": [
    "proj_name = 'stt_uk/s5'\n",
    "\n",
    "kaldi_path = f'/home/{os.environ.get(\"USER\")}/kaldi'\n",
    "# set here correct path when necessary\n",
    "kaldi_proj_path_true = os.path.join(kaldi_path, 'egs', proj_name)\n",
    "# kaldi_proj_path = os.path.join(prj_path, 'kaldi', 'egs', proj_name)\n",
    "kaldi_proj_path = kaldi_proj_path_true"
   ]
  },
  {
   "cell_type": "code",
   "execution_count": 233,
   "metadata": {},
   "outputs": [
    {
     "name": "stdout",
     "output_type": "stream",
     "text": [
      "/home/dima/kaldi/egs/stt_uk/s5\n"
     ]
    }
   ],
   "source": [
    "print(kaldi_proj_path)"
   ]
  },
  {
   "cell_type": "code",
   "execution_count": 234,
   "metadata": {},
   "outputs": [],
   "source": [
    "if not os.path.exists(kaldi_path):\n",
    "    print(\"KALDI IS ABSENT!!!!!\")"
   ]
  },
  {
   "cell_type": "code",
   "execution_count": 235,
   "metadata": {},
   "outputs": [],
   "source": [
    "DELETE_ON_CREATING = False\n",
    "\n",
    "folders = [\"audio\", \"audio/train\", \"audio/test\", \n",
    "           \"data\", \"data/train\", \"data/test\", \"data/local\", \"data/local/dict\", \n",
    "           \"local\", \"conf\"]\n",
    "\n",
    "if DELETE_ON_CREATING:\n",
    "    delete_dir(kaldi_proj_path)\n",
    "\n",
    "for folder in folders:\n",
    "    create_dir(os.path.join(kaldi_proj_path, folder))"
   ]
  },
  {
   "cell_type": "markdown",
   "metadata": {},
   "source": [
    "#### audio data"
   ]
  },
  {
   "cell_type": "code",
   "execution_count": 236,
   "metadata": {},
   "outputs": [
    {
     "name": "stdout",
     "output_type": "stream",
     "text": [
      "390 390\n"
     ]
    }
   ],
   "source": [
    "# train, test = df.loc[df.source != 'voxforge'], df.loc[df.source == 'voxforge']\n",
    "train, test = df, df.loc[df.source == 'voxforge']\n",
    "\n",
    "print(train.shape[0], test.shape[0])"
   ]
  },
  {
   "cell_type": "code",
   "execution_count": 237,
   "metadata": {},
   "outputs": [
    {
     "name": "stderr",
     "output_type": "stream",
     "text": [
      "100%|██████████| 39/39 [00:00<00:00, 286.37it/s]\n",
      "100%|██████████| 39/39 [00:00<00:00, 290.70it/s]\n"
     ]
    }
   ],
   "source": [
    "for df, destination in [(test, 'train'), (test, 'test')]:\n",
    "    for spkr in tqdm(df.speaker_id.unique()):\n",
    "        create_dir(os.path.join(kaldi_proj_path, 'audio', destination, spkr))\n",
    "        \n",
    "        for row in df.loc[df.speaker_id == spkr].iterrows():\n",
    "            shutil.copy2(row[1].file_path, \n",
    "                         os.path.join(kaldi_proj_path, 'audio', destination, spkr, row[1].file_name))"
   ]
  },
  {
   "cell_type": "markdown",
   "metadata": {},
   "source": [
    "#### spk2gender"
   ]
  },
  {
   "cell_type": "code",
   "execution_count": 238,
   "metadata": {},
   "outputs": [],
   "source": [
    "train[[\"speaker_id\", \"gender\"]].drop_duplicates().to_csv(\n",
    "    os.path.join(kaldi_proj_path, 'data', 'train', 'spk2gender'), \n",
    "    sep=\" \", index=False, header=None)\n",
    "test[[\"speaker_id\", \"gender\"]].drop_duplicates().to_csv(\n",
    "    os.path.join(kaldi_proj_path, 'data', 'test', 'spk2gender'), \n",
    "    sep=\" \", index=False, header=None)"
   ]
  },
  {
   "cell_type": "markdown",
   "metadata": {},
   "source": [
    "#### wav.scp"
   ]
  },
  {
   "cell_type": "code",
   "execution_count": 239,
   "metadata": {},
   "outputs": [],
   "source": [
    "train[\"path\"] = train.apply(lambda x: f\"{kaldi_proj_path_true}/audio/train/{x.speaker_id}/{x.file_name}\", 1)\n",
    "test[\"path\"] = test.apply(lambda x: f\"{kaldi_proj_path_true}/audio/test/{x.speaker_id}/{x.file_name}\", 1)"
   ]
  },
  {
   "cell_type": "code",
   "execution_count": 240,
   "metadata": {},
   "outputs": [],
   "source": [
    "train[[\"file_name\", \"path\"]].to_csv(os.path.join(kaldi_proj_path, 'data', 'train', 'wav.scp'), \n",
    "                                    sep=\" \", index=False, header=None)\n",
    "test[[\"file_name\", \"path\"]].to_csv(os.path.join(kaldi_proj_path, 'data', 'test', 'wav.scp'), \n",
    "                                   sep=\" \", index=False, header=None)"
   ]
  },
  {
   "cell_type": "markdown",
   "metadata": {},
   "source": [
    "#### text"
   ]
  },
  {
   "cell_type": "code",
   "execution_count": 241,
   "metadata": {},
   "outputs": [],
   "source": [
    "with open(os.path.join(kaldi_proj_path, 'data', 'train', 'text'), \"w\") as file_:\n",
    "    for line in (train[\"file_name\"] + \" \" + train[\"transcript_clean\"]).values:\n",
    "        file_.write(line.strip() + \"\\n\")\n",
    "        \n",
    "with open(os.path.join(kaldi_proj_path, 'data', 'test', 'text'), \"w\") as file_:\n",
    "    for line in (test[\"file_name\"] + \" \" + test[\"transcript_clean\"]).values:\n",
    "        file_.write(line.strip() + \"\\n\")"
   ]
  },
  {
   "cell_type": "markdown",
   "metadata": {},
   "source": [
    "#### utt2spk"
   ]
  },
  {
   "cell_type": "code",
   "execution_count": 242,
   "metadata": {},
   "outputs": [],
   "source": [
    "train[[\"file_name\", \"speaker_id\"]].to_csv(os.path.join(kaldi_proj_path, 'data', 'train', 'utt2spk'), \n",
    "                                          sep=\" \", index=False, header=None)\n",
    "test[[\"file_name\", \"speaker_id\"]].to_csv(os.path.join(kaldi_proj_path, 'data', 'test', 'utt2spk'), sep=\" \", index=False, header=None)"
   ]
  },
  {
   "cell_type": "markdown",
   "metadata": {},
   "source": [
    "#### corpus.txt"
   ]
  },
  {
   "cell_type": "code",
   "execution_count": 243,
   "metadata": {},
   "outputs": [],
   "source": [
    "with open(os.path.join(kaldi_proj_path, 'data', 'local', 'corpus.txt'), \"w\") as file_:\n",
    "    for line in df.loc[df[\"transcript_clean\"].str.len() > 1][\"transcript_clean\"].unique():\n",
    "        file_.write(line.strip() + \"\\n\")"
   ]
  },
  {
   "cell_type": "markdown",
   "metadata": {},
   "source": [
    "#### lexicon.txt"
   ]
  },
  {
   "cell_type": "code",
   "execution_count": 244,
   "metadata": {},
   "outputs": [],
   "source": [
    "sil_phones = [(\"!SIL\", \"sil\"), (\"<UNK>\", \"spn\")]"
   ]
  },
  {
   "cell_type": "markdown",
   "metadata": {},
   "source": [
    "phoneme preparation mechanism may be different"
   ]
  },
  {
   "cell_type": "code",
   "execution_count": 245,
   "metadata": {},
   "outputs": [],
   "source": [
    "# words = []\n",
    "\n",
    "# for item in tqdm(text_df[\"transcript_clean\"].str.split().values):\n",
    "#     words.extend(item)\n",
    "# unique_words = list(set(words))\n",
    "\n",
    "# with open('lexicon_prep.txt', \"w\") as file_:\n",
    "#     for line in unique_words:\n",
    "#         file_.write(line.strip() + \"\\n\")"
   ]
  },
  {
   "cell_type": "code",
   "execution_count": 246,
   "metadata": {},
   "outputs": [],
   "source": [
    "with open(os.path.join(data_path, 'lexicon_prep_out.txt')) as file_:\n",
    "    lexicon = file_.readlines()\n",
    "    \n",
    "lexicon_phones = [tuple(item.strip().split(\" \", 1)) for item in lexicon]"
   ]
  },
  {
   "cell_type": "code",
   "execution_count": 247,
   "metadata": {},
   "outputs": [
    {
     "data": {
      "text/plain": [
       "[('позабризкувала', 'п о з а б р и з к у в а л а'),\n",
       " ('виховання', \"в и х о в а н': а\"),\n",
       " ('затишшя', \"з а т и ш': а\"),\n",
       " ('задихавшись', \"з а д и х а ў ш и с'\"),\n",
       " ('одинокий', 'о д и н о к и й'),\n",
       " ('знакомих', 'з н а к о м и х'),\n",
       " ('жалюгідна', \"ж а л' у г' і д н а\"),\n",
       " ('легкої', 'л е х к о й і'),\n",
       " ('вмілі', \"ў м' і л' і\"),\n",
       " ('наїдуть', \"н а й і д у т'\")]"
      ]
     },
     "execution_count": 247,
     "metadata": {},
     "output_type": "execute_result"
    }
   ],
   "source": [
    "lexicon_phones[:10]"
   ]
  },
  {
   "cell_type": "code",
   "execution_count": 248,
   "metadata": {},
   "outputs": [],
   "source": [
    "with open(os.path.join(kaldi_proj_path, 'data', 'local', \"dict\", 'lexicon.txt'), \"w\") as file_:\n",
    "    for word, phones in sil_phones + lexicon_phones:\n",
    "        file_.write(word + \" \" + \" \".join(phones.split(\" \")) + \"\\n\")"
   ]
  },
  {
   "cell_type": "markdown",
   "metadata": {},
   "source": [
    "#### nonsilence_phones.txt"
   ]
  },
  {
   "cell_type": "code",
   "execution_count": 249,
   "metadata": {},
   "outputs": [
    {
     "data": {
      "text/plain": [
       "79"
      ]
     },
     "execution_count": 249,
     "metadata": {},
     "output_type": "execute_result"
    }
   ],
   "source": [
    "unique_phones = [\"а\"]\n",
    "\n",
    "for k, v in lexicon_phones:\n",
    "    unique_phones.extend(v.split(\" \"))\n",
    "\n",
    "unique_phones = list(sorted(set(unique_phones)))\n",
    "len(unique_phones)"
   ]
  },
  {
   "cell_type": "code",
   "execution_count": 250,
   "metadata": {},
   "outputs": [],
   "source": [
    "with open(os.path.join(kaldi_proj_path, 'data', 'local', \"dict\", 'nonsilence_phones.txt'), \"w\") as file_:\n",
    "    for phone in sorted(unique_phones):\n",
    "        file_.write(phone + \"\\n\")"
   ]
  },
  {
   "cell_type": "markdown",
   "metadata": {},
   "source": [
    "#### silence_phones.txt"
   ]
  },
  {
   "cell_type": "code",
   "execution_count": 251,
   "metadata": {},
   "outputs": [],
   "source": [
    "with open(os.path.join(kaldi_proj_path, 'data', 'local', \"dict\", 'silence_phones.txt'), \"w\") as file_:\n",
    "    for phone in sorted(list(set(\" \".join([item[1] for item in sil_phones]).split()))):\n",
    "        file_.write(phone + \"\\n\")"
   ]
  },
  {
   "cell_type": "markdown",
   "metadata": {},
   "source": [
    "#### optional_silence.txt"
   ]
  },
  {
   "cell_type": "code",
   "execution_count": 252,
   "metadata": {},
   "outputs": [],
   "source": [
    "with open(os.path.join(kaldi_proj_path, 'data', 'local', \"dict\", 'optional_silence.txt'), \"w\") as file_:\n",
    "    for phone in [\"sil\"]:\n",
    "        file_.write(phone + \"\\n\")"
   ]
  },
  {
   "cell_type": "markdown",
   "metadata": {},
   "source": [
    "### copy all required files to project dir"
   ]
  },
  {
   "cell_type": "code",
   "execution_count": 253,
   "metadata": {},
   "outputs": [],
   "source": [
    "conf_path = os.path.join(prj_path, 'kaldi', 'misc', 'conf')\n",
    "run_script_path = os.path.join(prj_path, 'kaldi', 'misc', 'run.sh')"
   ]
  },
  {
   "cell_type": "code",
   "execution_count": 254,
   "metadata": {},
   "outputs": [],
   "source": [
    "for item in os.listdir(conf_path):\n",
    "    shutil.copy2(os.path.join(conf_path, item), \n",
    "                 os.path.join(kaldi_proj_path, 'conf', item))"
   ]
  },
  {
   "cell_type": "code",
   "execution_count": 255,
   "metadata": {},
   "outputs": [],
   "source": [
    "for item in ['cmd.sh', 'run.sh', 'path.sh']:\n",
    "    shutil.copy2(run_script_path, os.path.join(kaldi_proj_path, item))"
   ]
  },
  {
   "cell_type": "code",
   "execution_count": 256,
   "metadata": {},
   "outputs": [],
   "source": [
    "! cp -R /home/$USER/kaldi/egs/stt_uk/s5/data/local/dict/* /home/$USER/kaldi/egs/stt_uk/s5/data/local/"
   ]
  },
  {
   "cell_type": "markdown",
   "metadata": {},
   "source": [
    "make sure that here is a correct project path"
   ]
  },
  {
   "cell_type": "code",
   "execution_count": 257,
   "metadata": {},
   "outputs": [],
   "source": [
    "! cp -R /home/$USER/kaldi/egs/wsj/s5/steps /home/$USER/kaldi/egs/stt_uk/s5/steps\n",
    "! cp -R /home/$USER/kaldi/egs/wsj/s5/utils /home/$USER/kaldi/egs/stt_uk/s5/utils"
   ]
  },
  {
   "cell_type": "code",
   "execution_count": 258,
   "metadata": {},
   "outputs": [],
   "source": [
    "! cp -R /home/$USER/kaldi/egs/babel/s5d/local/ /home/$USER/kaldi/egs/stt_uk/s5/local/\n",
    "! cp -R /home/$USER/kaldi/egs/wsj/s5/local/score.sh /home/$USER/kaldi/egs/stt_uk/s5/local/score.sh"
   ]
  },
  {
   "cell_type": "code",
   "execution_count": null,
   "metadata": {},
   "outputs": [],
   "source": []
  },
  {
   "cell_type": "code",
   "execution_count": null,
   "metadata": {},
   "outputs": [],
   "source": []
  },
  {
   "cell_type": "code",
   "execution_count": null,
   "metadata": {},
   "outputs": [],
   "source": []
  },
  {
   "cell_type": "code",
   "execution_count": null,
   "metadata": {},
   "outputs": [],
   "source": []
  }
 ],
 "metadata": {
  "kernelspec": {
   "display_name": "Python [conda env:p36] *",
   "language": "python",
   "name": "conda-env-p36-py"
  },
  "language_info": {
   "codemirror_mode": {
    "name": "ipython",
    "version": 3
   },
   "file_extension": ".py",
   "mimetype": "text/x-python",
   "name": "python",
   "nbconvert_exporter": "python",
   "pygments_lexer": "ipython3",
   "version": "3.6.10"
  }
 },
 "nbformat": 4,
 "nbformat_minor": 2
}
