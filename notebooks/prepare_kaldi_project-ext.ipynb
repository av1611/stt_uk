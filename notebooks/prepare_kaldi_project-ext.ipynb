{
 "cells": [
  {
   "cell_type": "code",
   "execution_count": 65,
   "metadata": {},
   "outputs": [],
   "source": [
    "import os\n",
    "import re\n",
    "import sys\n",
    "import ast\n",
    "import shutil\n",
    "import librosa\n",
    "import pandas as pd\n",
    "\n",
    "from tqdm import tqdm\n",
    "from collections import Counter\n",
    "from string import ascii_lowercase"
   ]
  },
  {
   "cell_type": "code",
   "execution_count": 2,
   "metadata": {},
   "outputs": [],
   "source": [
    "sys.path.append(\"..\")"
   ]
  },
  {
   "cell_type": "code",
   "execution_count": 3,
   "metadata": {},
   "outputs": [],
   "source": [
    "from utils import transform_audio_file, recursive_search, create_dir, delete_dir"
   ]
  },
  {
   "cell_type": "code",
   "execution_count": 4,
   "metadata": {},
   "outputs": [],
   "source": [
    "prj_path = os.path.dirname(os.getcwd())\n",
    "data_path = os.path.join(prj_path, 'data')\n",
    "voxforge_data_path = os.path.join(data_path, 'voxforge')\n",
    "librivox_data_path = os.path.join(data_path, 'librivox')"
   ]
  },
  {
   "cell_type": "markdown",
   "metadata": {},
   "source": [
    "## Prepare data"
   ]
  },
  {
   "cell_type": "markdown",
   "metadata": {},
   "source": [
    "### Audio data"
   ]
  },
  {
   "cell_type": "code",
   "execution_count": 5,
   "metadata": {},
   "outputs": [],
   "source": [
    "audio_librivox = recursive_search(os.path.join(librivox_data_path, 'audio'))\n",
    "audio_librivox['duration'] = audio_librivox['file_path'].map(lambda x: librosa.get_duration(filename=x))\n",
    "audio_librivox['file_size'] = audio_librivox['file_path'].map(lambda x: os.path.getsize(x))"
   ]
  },
  {
   "cell_type": "code",
   "execution_count": 6,
   "metadata": {},
   "outputs": [
    {
     "name": "stdout",
     "output_type": "stream",
     "text": [
      "(34193, 4)\n",
      "Total duration: 83.23 hours\n",
      "Total size: 4573.50 mb\n"
     ]
    },
    {
     "data": {
      "text/html": [
       "<div>\n",
       "<style scoped>\n",
       "    .dataframe tbody tr th:only-of-type {\n",
       "        vertical-align: middle;\n",
       "    }\n",
       "\n",
       "    .dataframe tbody tr th {\n",
       "        vertical-align: top;\n",
       "    }\n",
       "\n",
       "    .dataframe thead th {\n",
       "        text-align: right;\n",
       "    }\n",
       "</style>\n",
       "<table border=\"1\" class=\"dataframe\">\n",
       "  <thead>\n",
       "    <tr style=\"text-align: right;\">\n",
       "      <th></th>\n",
       "      <th>file_name</th>\n",
       "      <th>file_path</th>\n",
       "      <th>duration</th>\n",
       "      <th>file_size</th>\n",
       "    </tr>\n",
       "  </thead>\n",
       "  <tbody>\n",
       "    <tr>\n",
       "      <th>28012</th>\n",
       "      <td>sumska__mykola_djerya_s000260.wav</td>\n",
       "      <td>/home/dima/Projects/stt_uk/data/librivox/audio...</td>\n",
       "      <td>7.569875</td>\n",
       "      <td>121162</td>\n",
       "    </tr>\n",
       "    <tr>\n",
       "      <th>20895</th>\n",
       "      <td>sumska__mykola_djerya_s001541.wav</td>\n",
       "      <td>/home/dima/Projects/stt_uk/data/librivox/audio...</td>\n",
       "      <td>14.389875</td>\n",
       "      <td>230282</td>\n",
       "    </tr>\n",
       "    <tr>\n",
       "      <th>2956</th>\n",
       "      <td>sumska__kaydasheva_s001049.wav</td>\n",
       "      <td>/home/dima/Projects/stt_uk/data/librivox/audio...</td>\n",
       "      <td>13.541875</td>\n",
       "      <td>216714</td>\n",
       "    </tr>\n",
       "    <tr>\n",
       "      <th>22572</th>\n",
       "      <td>loboda__zahar_berkut_s002343.wav</td>\n",
       "      <td>/home/dima/Projects/stt_uk/data/librivox/audio...</td>\n",
       "      <td>8.609875</td>\n",
       "      <td>137802</td>\n",
       "    </tr>\n",
       "    <tr>\n",
       "      <th>7759</th>\n",
       "      <td>miskun__15YO_Capitan_s002647.wav</td>\n",
       "      <td>/home/dima/Projects/stt_uk/data/librivox/audio...</td>\n",
       "      <td>7.698750</td>\n",
       "      <td>123224</td>\n",
       "    </tr>\n",
       "  </tbody>\n",
       "</table>\n",
       "</div>"
      ],
      "text/plain": [
       "                               file_name  \\\n",
       "28012  sumska__mykola_djerya_s000260.wav   \n",
       "20895  sumska__mykola_djerya_s001541.wav   \n",
       "2956      sumska__kaydasheva_s001049.wav   \n",
       "22572   loboda__zahar_berkut_s002343.wav   \n",
       "7759    miskun__15YO_Capitan_s002647.wav   \n",
       "\n",
       "                                               file_path   duration  file_size  \n",
       "28012  /home/dima/Projects/stt_uk/data/librivox/audio...   7.569875     121162  \n",
       "20895  /home/dima/Projects/stt_uk/data/librivox/audio...  14.389875     230282  \n",
       "2956   /home/dima/Projects/stt_uk/data/librivox/audio...  13.541875     216714  \n",
       "22572  /home/dima/Projects/stt_uk/data/librivox/audio...   8.609875     137802  \n",
       "7759   /home/dima/Projects/stt_uk/data/librivox/audio...   7.698750     123224  "
      ]
     },
     "execution_count": 6,
     "metadata": {},
     "output_type": "execute_result"
    }
   ],
   "source": [
    "print(audio_librivox.shape)\n",
    "print(f\"Total duration: {audio_librivox['duration'].sum()/60/60:.2f} hours\")\n",
    "print(f\"Total size: {audio_librivox['file_size'].sum()/1024/1024:.2f} mb\")\n",
    "audio_librivox.sample(5)"
   ]
  },
  {
   "cell_type": "code",
   "execution_count": 7,
   "metadata": {},
   "outputs": [],
   "source": [
    "audio_voxforge = recursive_search(os.path.join(voxforge_data_path, 'audio'))\n",
    "audio_voxforge['duration'] = audio_voxforge['file_path'].map(lambda x: librosa.get_duration(filename=x))\n",
    "audio_voxforge['file_size'] = audio_voxforge['file_path'].map(lambda x: os.path.getsize(x))"
   ]
  },
  {
   "cell_type": "code",
   "execution_count": 8,
   "metadata": {},
   "outputs": [
    {
     "name": "stdout",
     "output_type": "stream",
     "text": [
      "(390, 4)\n",
      "Total duration: 1.00 hours\n",
      "Total size: 55.10 mb\n"
     ]
    },
    {
     "data": {
      "text/html": [
       "<div>\n",
       "<style scoped>\n",
       "    .dataframe tbody tr th:only-of-type {\n",
       "        vertical-align: middle;\n",
       "    }\n",
       "\n",
       "    .dataframe tbody tr th {\n",
       "        vertical-align: top;\n",
       "    }\n",
       "\n",
       "    .dataframe thead th {\n",
       "        text-align: right;\n",
       "    }\n",
       "</style>\n",
       "<table border=\"1\" class=\"dataframe\">\n",
       "  <thead>\n",
       "    <tr style=\"text-align: right;\">\n",
       "      <th></th>\n",
       "      <th>file_name</th>\n",
       "      <th>file_path</th>\n",
       "      <th>duration</th>\n",
       "      <th>file_size</th>\n",
       "    </tr>\n",
       "  </thead>\n",
       "  <tbody>\n",
       "    <tr>\n",
       "      <th>192</th>\n",
       "      <td>anonymous-20131222-vje__uk_0030.wav</td>\n",
       "      <td>/home/dima/Projects/stt_uk/data/voxforge/audio...</td>\n",
       "      <td>6.500</td>\n",
       "      <td>104044</td>\n",
       "    </tr>\n",
       "    <tr>\n",
       "      <th>134</th>\n",
       "      <td>Neverice-20150322-ecd__uk_0036.wav</td>\n",
       "      <td>/home/dima/Projects/stt_uk/data/voxforge/audio...</td>\n",
       "      <td>13.625</td>\n",
       "      <td>218044</td>\n",
       "    </tr>\n",
       "    <tr>\n",
       "      <th>65</th>\n",
       "      <td>anonymous-20131220-wfk__uk_0002.wav</td>\n",
       "      <td>/home/dima/Projects/stt_uk/data/voxforge/audio...</td>\n",
       "      <td>15.000</td>\n",
       "      <td>240044</td>\n",
       "    </tr>\n",
       "    <tr>\n",
       "      <th>130</th>\n",
       "      <td>Anna-20160402-kxf__uk_0013.wav</td>\n",
       "      <td>/home/dima/Projects/stt_uk/data/voxforge/audio...</td>\n",
       "      <td>6.750</td>\n",
       "      <td>108044</td>\n",
       "    </tr>\n",
       "    <tr>\n",
       "      <th>13</th>\n",
       "      <td>anonymous-20131222-pmk__uk_0018.wav</td>\n",
       "      <td>/home/dima/Projects/stt_uk/data/voxforge/audio...</td>\n",
       "      <td>12.375</td>\n",
       "      <td>198044</td>\n",
       "    </tr>\n",
       "  </tbody>\n",
       "</table>\n",
       "</div>"
      ],
      "text/plain": [
       "                               file_name  \\\n",
       "192  anonymous-20131222-vje__uk_0030.wav   \n",
       "134   Neverice-20150322-ecd__uk_0036.wav   \n",
       "65   anonymous-20131220-wfk__uk_0002.wav   \n",
       "130       Anna-20160402-kxf__uk_0013.wav   \n",
       "13   anonymous-20131222-pmk__uk_0018.wav   \n",
       "\n",
       "                                             file_path  duration  file_size  \n",
       "192  /home/dima/Projects/stt_uk/data/voxforge/audio...     6.500     104044  \n",
       "134  /home/dima/Projects/stt_uk/data/voxforge/audio...    13.625     218044  \n",
       "65   /home/dima/Projects/stt_uk/data/voxforge/audio...    15.000     240044  \n",
       "130  /home/dima/Projects/stt_uk/data/voxforge/audio...     6.750     108044  \n",
       "13   /home/dima/Projects/stt_uk/data/voxforge/audio...    12.375     198044  "
      ]
     },
     "execution_count": 8,
     "metadata": {},
     "output_type": "execute_result"
    }
   ],
   "source": [
    "print(audio_voxforge.shape)\n",
    "print(f\"Total duration: {audio_voxforge['duration'].sum()/60/60:.2f} hours\")\n",
    "print(f\"Total size: {audio_voxforge['file_size'].sum()/1024/1024:.2f} mb\")\n",
    "audio_voxforge.sample(5)"
   ]
  },
  {
   "cell_type": "markdown",
   "metadata": {},
   "source": [
    "### gender"
   ]
  },
  {
   "cell_type": "code",
   "execution_count": 9,
   "metadata": {},
   "outputs": [],
   "source": [
    "audio_df = pd.concat([audio_librivox, audio_voxforge])\n",
    "audio_df['speaker_id'] = audio_df['file_name'].map(lambda x: x.split(\"__\", 1)[0])"
   ]
  },
  {
   "cell_type": "code",
   "execution_count": 10,
   "metadata": {},
   "outputs": [],
   "source": [
    "speaker_gender = {item: 'm' for item in audio_df['speaker_id'].unique()}\n",
    "\n",
    "for item in ['Anna-20160402-kxf', 'sumska', 'Darrr-20170412-jau']:\n",
    "    speaker_gender[item] = 'f'\n",
    "\n",
    "audio_df['gender'] = audio_df['speaker_id'].map(speaker_gender)"
   ]
  },
  {
   "cell_type": "code",
   "execution_count": 11,
   "metadata": {},
   "outputs": [
    {
     "name": "stdout",
     "output_type": "stream",
     "text": [
      "(34583, 6)\n"
     ]
    },
    {
     "data": {
      "text/html": [
       "<div>\n",
       "<style scoped>\n",
       "    .dataframe tbody tr th:only-of-type {\n",
       "        vertical-align: middle;\n",
       "    }\n",
       "\n",
       "    .dataframe tbody tr th {\n",
       "        vertical-align: top;\n",
       "    }\n",
       "\n",
       "    .dataframe thead th {\n",
       "        text-align: right;\n",
       "    }\n",
       "</style>\n",
       "<table border=\"1\" class=\"dataframe\">\n",
       "  <thead>\n",
       "    <tr style=\"text-align: right;\">\n",
       "      <th></th>\n",
       "      <th>file_name</th>\n",
       "      <th>file_path</th>\n",
       "      <th>duration</th>\n",
       "      <th>file_size</th>\n",
       "      <th>speaker_id</th>\n",
       "      <th>gender</th>\n",
       "    </tr>\n",
       "  </thead>\n",
       "  <tbody>\n",
       "    <tr>\n",
       "      <th>25317</th>\n",
       "      <td>obruchov__voly_12_f000106.wav</td>\n",
       "      <td>/home/dima/Projects/stt_uk/data/librivox/audio...</td>\n",
       "      <td>2.339875</td>\n",
       "      <td>37482</td>\n",
       "      <td>obruchov</td>\n",
       "      <td>m</td>\n",
       "    </tr>\n",
       "    <tr>\n",
       "      <th>21125</th>\n",
       "      <td>obruchov__voly_10_f000148.wav</td>\n",
       "      <td>/home/dima/Projects/stt_uk/data/librivox/audio...</td>\n",
       "      <td>6.909875</td>\n",
       "      <td>110602</td>\n",
       "      <td>obruchov</td>\n",
       "      <td>m</td>\n",
       "    </tr>\n",
       "    <tr>\n",
       "      <th>1350</th>\n",
       "      <td>obruchov__voly_18_f000032.wav</td>\n",
       "      <td>/home/dima/Projects/stt_uk/data/librivox/audio...</td>\n",
       "      <td>6.789875</td>\n",
       "      <td>108682</td>\n",
       "      <td>obruchov</td>\n",
       "      <td>m</td>\n",
       "    </tr>\n",
       "    <tr>\n",
       "      <th>14133</th>\n",
       "      <td>shepel__zvirobij_s003553.wav</td>\n",
       "      <td>/home/dima/Projects/stt_uk/data/librivox/audio...</td>\n",
       "      <td>10.639875</td>\n",
       "      <td>170282</td>\n",
       "      <td>shepel</td>\n",
       "      <td>m</td>\n",
       "    </tr>\n",
       "    <tr>\n",
       "      <th>8745</th>\n",
       "      <td>miskun__15YO_Capitan_s001384.wav</td>\n",
       "      <td>/home/dima/Projects/stt_uk/data/librivox/audio...</td>\n",
       "      <td>7.619875</td>\n",
       "      <td>121962</td>\n",
       "      <td>miskun</td>\n",
       "      <td>m</td>\n",
       "    </tr>\n",
       "  </tbody>\n",
       "</table>\n",
       "</div>"
      ],
      "text/plain": [
       "                              file_name  \\\n",
       "25317     obruchov__voly_12_f000106.wav   \n",
       "21125     obruchov__voly_10_f000148.wav   \n",
       "1350      obruchov__voly_18_f000032.wav   \n",
       "14133      shepel__zvirobij_s003553.wav   \n",
       "8745   miskun__15YO_Capitan_s001384.wav   \n",
       "\n",
       "                                               file_path   duration  \\\n",
       "25317  /home/dima/Projects/stt_uk/data/librivox/audio...   2.339875   \n",
       "21125  /home/dima/Projects/stt_uk/data/librivox/audio...   6.909875   \n",
       "1350   /home/dima/Projects/stt_uk/data/librivox/audio...   6.789875   \n",
       "14133  /home/dima/Projects/stt_uk/data/librivox/audio...  10.639875   \n",
       "8745   /home/dima/Projects/stt_uk/data/librivox/audio...   7.619875   \n",
       "\n",
       "       file_size speaker_id gender  \n",
       "25317      37482   obruchov      m  \n",
       "21125     110602   obruchov      m  \n",
       "1350      108682   obruchov      m  \n",
       "14133     170282     shepel      m  \n",
       "8745      121962     miskun      m  "
      ]
     },
     "execution_count": 11,
     "metadata": {},
     "output_type": "execute_result"
    }
   ],
   "source": [
    "print(audio_df.shape)\n",
    "audio_df.sample(5)"
   ]
  },
  {
   "cell_type": "markdown",
   "metadata": {},
   "source": [
    "### text"
   ]
  },
  {
   "cell_type": "code",
   "execution_count": 12,
   "metadata": {},
   "outputs": [],
   "source": [
    "with open(os.path.join(voxforge_data_path, 'prompts.txt')) as file_:\n",
    "    lst = [item.split(\" \", 1) for item in file_.readlines()]\n",
    "text_voxforge = pd.DataFrame(lst)\n",
    "text_voxforge[2] = 'voxforge'"
   ]
  },
  {
   "cell_type": "code",
   "execution_count": 13,
   "metadata": {},
   "outputs": [],
   "source": [
    "with open(os.path.join(librivox_data_path, 'prompts.txt')) as file_:\n",
    "    lst = [item.split(\" \", 1) for item in file_.readlines()]\n",
    "text_librivox = pd.DataFrame(lst)\n",
    "text_librivox[2] = 'librivox'"
   ]
  },
  {
   "cell_type": "code",
   "execution_count": 14,
   "metadata": {},
   "outputs": [],
   "source": [
    "text_df = pd.concat([text_librivox, text_voxforge])\n",
    "text_df.columns = ['file_name', 'transcript', 'source']"
   ]
  },
  {
   "cell_type": "code",
   "execution_count": 15,
   "metadata": {},
   "outputs": [
    {
     "name": "stdout",
     "output_type": "stream",
     "text": [
      "(34579, 3)\n"
     ]
    },
    {
     "data": {
      "text/html": [
       "<div>\n",
       "<style scoped>\n",
       "    .dataframe tbody tr th:only-of-type {\n",
       "        vertical-align: middle;\n",
       "    }\n",
       "\n",
       "    .dataframe tbody tr th {\n",
       "        vertical-align: top;\n",
       "    }\n",
       "\n",
       "    .dataframe thead th {\n",
       "        text-align: right;\n",
       "    }\n",
       "</style>\n",
       "<table border=\"1\" class=\"dataframe\">\n",
       "  <thead>\n",
       "    <tr style=\"text-align: right;\">\n",
       "      <th></th>\n",
       "      <th>file_name</th>\n",
       "      <th>transcript</th>\n",
       "      <th>source</th>\n",
       "    </tr>\n",
       "  </thead>\n",
       "  <tbody>\n",
       "    <tr>\n",
       "      <th>0</th>\n",
       "      <td>obruchov__tini_zabutyh_predkiv_s000001.wav</td>\n",
       "      <td>Я ще заграю до танцю,- бадьорив він чугайстра ...</td>\n",
       "      <td>librivox</td>\n",
       "    </tr>\n",
       "    <tr>\n",
       "      <th>1</th>\n",
       "      <td>obruchov__tini_zabutyh_predkiv_s000002.wav</td>\n",
       "      <td>Вони, здається, гойдалися з нею ще у колисці, ...</td>\n",
       "      <td>librivox</td>\n",
       "    </tr>\n",
       "    <tr>\n",
       "      <th>2</th>\n",
       "      <td>obruchov__tini_zabutyh_predkiv_s000003.wav</td>\n",
       "      <td>І вона співанками косичила їх розлучення, Їй б...</td>\n",
       "      <td>librivox</td>\n",
       "    </tr>\n",
       "    <tr>\n",
       "      <th>3</th>\n",
       "      <td>obruchov__tini_zabutyh_predkiv_s000004.wav</td>\n",
       "      <td>Іду, Марічко! - билась в Іванових грудях одпов...</td>\n",
       "      <td>librivox</td>\n",
       "    </tr>\n",
       "    <tr>\n",
       "      <th>4</th>\n",
       "      <td>obruchov__tini_zabutyh_predkiv_s000005.wav</td>\n",
       "      <td>Засідали за мережаний стіл. тяжкі в своїм овеч...</td>\n",
       "      <td>librivox</td>\n",
       "    </tr>\n",
       "  </tbody>\n",
       "</table>\n",
       "</div>"
      ],
      "text/plain": [
       "                                    file_name  \\\n",
       "0  obruchov__tini_zabutyh_predkiv_s000001.wav   \n",
       "1  obruchov__tini_zabutyh_predkiv_s000002.wav   \n",
       "2  obruchov__tini_zabutyh_predkiv_s000003.wav   \n",
       "3  obruchov__tini_zabutyh_predkiv_s000004.wav   \n",
       "4  obruchov__tini_zabutyh_predkiv_s000005.wav   \n",
       "\n",
       "                                          transcript    source  \n",
       "0  Я ще заграю до танцю,- бадьорив він чугайстра ...  librivox  \n",
       "1  Вони, здається, гойдалися з нею ще у колисці, ...  librivox  \n",
       "2  І вона співанками косичила їх розлучення, Їй б...  librivox  \n",
       "3  Іду, Марічко! - билась в Іванових грудях одпов...  librivox  \n",
       "4  Засідали за мережаний стіл. тяжкі в своїм овеч...  librivox  "
      ]
     },
     "execution_count": 15,
     "metadata": {},
     "output_type": "execute_result"
    }
   ],
   "source": [
    "print(text_df.shape)\n",
    "text_df.head()"
   ]
  },
  {
   "cell_type": "markdown",
   "metadata": {},
   "source": [
    "#### preprocess text"
   ]
  },
  {
   "cell_type": "code",
   "execution_count": 16,
   "metadata": {},
   "outputs": [],
   "source": [
    "letters_to_replace = {\"i\": \"і\", \"a\": \"а\", \"o\": \"о\", \"y\": \"у\", \"e\": \"е\", \n",
    "                      \"p\": \"р\", \"n\": \"п\", \"c\": \"с\", \"x\": \"х\", \"r\": \"г\",\n",
    "                      \"m\": \"м\", \"h\": \"н\", \"b\": \"в\", \"t\": \"т\"}"
   ]
  },
  {
   "cell_type": "code",
   "execution_count": 17,
   "metadata": {},
   "outputs": [],
   "source": [
    "def clean_text(x):\n",
    "    x = x.replace('laissez donc le domestique ecoute', 'люсі дунк лю домєстік екют')\n",
    "    for k, v in letters_to_replace.items():\n",
    "        x = x.replace(k, v)\n",
    "    return x\n",
    "\n",
    "\n",
    "def remove_digits(x):\n",
    "    x = re.sub(r\"\\d+\", \" \", x)\n",
    "    return x\n",
    "\n",
    "\n",
    "def tokenize(x):\n",
    "    sentences = nlp_uk(x).sentences\n",
    "    sents = []\n",
    "    for sentence in sentences:\n",
    "        res = [token.text if token.upos not in ('PUNCT', 'NUM') else \" \" for token in sentence.words ]\n",
    "        sents.append(res)\n",
    "    sents = [\" \".join(remove_digits(\" \".join(x)).lower().split()) for x in sents]\n",
    "    return sents"
   ]
  },
  {
   "cell_type": "code",
   "execution_count": 66,
   "metadata": {},
   "outputs": [],
   "source": [
    "try:\n",
    "    text_df = pd.read_csv(os.path.join(data_path, 'text_df.csv')).fillna('')\n",
    "    text_df['transcript_clean_lst'] = text_df['transcript_clean_lst'].map(ast.literal_eval)\n",
    "except FileNotFoundError:\n",
    "    import stanfordnlp\n",
    "    import warnings\n",
    "\n",
    "    warnings.filterwarnings(\"ignore\")\n",
    "    nlp_uk = stanfordnlp.Pipeline(lang='uk')\n",
    "    \n",
    "    text_df['transcript_clean'] = text_df.transcript.map(clean_text)\n",
    "\n",
    "    lst = []\n",
    "    for item in tqdm(text_df['transcript_clean'].values):\n",
    "        lst.append(tokenize(item))\n",
    "    text_df['transcript_clean_lst'] = lst\n",
    "\n",
    "    text_df['transcript_clean'] = text_df['transcript_clean_lst'].map(lambda x: \" \".join(x))\n",
    "    text_df.to_csv(os.path.join(data_path, 'text_df.csv'), index=False)"
   ]
  },
  {
   "cell_type": "code",
   "execution_count": 67,
   "metadata": {},
   "outputs": [
    {
     "name": "stdout",
     "output_type": "stream",
     "text": [
      "(34579, 5)\n"
     ]
    },
    {
     "data": {
      "text/html": [
       "<div>\n",
       "<style scoped>\n",
       "    .dataframe tbody tr th:only-of-type {\n",
       "        vertical-align: middle;\n",
       "    }\n",
       "\n",
       "    .dataframe tbody tr th {\n",
       "        vertical-align: top;\n",
       "    }\n",
       "\n",
       "    .dataframe thead th {\n",
       "        text-align: right;\n",
       "    }\n",
       "</style>\n",
       "<table border=\"1\" class=\"dataframe\">\n",
       "  <thead>\n",
       "    <tr style=\"text-align: right;\">\n",
       "      <th></th>\n",
       "      <th>file_name</th>\n",
       "      <th>transcript</th>\n",
       "      <th>source</th>\n",
       "      <th>transcript_clean</th>\n",
       "      <th>transcript_clean_lst</th>\n",
       "    </tr>\n",
       "  </thead>\n",
       "  <tbody>\n",
       "    <tr>\n",
       "      <th>0</th>\n",
       "      <td>obruchov__tini_zabutyh_predkiv_s000001.wav</td>\n",
       "      <td>Я ще заграю до танцю,- бадьорив він чугайстра ...</td>\n",
       "      <td>librivox</td>\n",
       "      <td>я ще заграю до танцю бадьорив він чугайстра й ...</td>\n",
       "      <td>[я ще заграю до танцю бадьорив він чугайстра й...</td>\n",
       "    </tr>\n",
       "    <tr>\n",
       "      <th>1</th>\n",
       "      <td>obruchov__tini_zabutyh_predkiv_s000002.wav</td>\n",
       "      <td>Вони, здається, гойдалися з нею ще у колисці, ...</td>\n",
       "      <td>librivox</td>\n",
       "      <td>вони здається гойдалися з нею ще у колисці хлю...</td>\n",
       "      <td>[вони здається гойдалися з нею ще у колисці хл...</td>\n",
       "    </tr>\n",
       "    <tr>\n",
       "      <th>2</th>\n",
       "      <td>obruchov__tini_zabutyh_predkiv_s000003.wav</td>\n",
       "      <td>І вона співанками косичила їх розлучення, Їй б...</td>\n",
       "      <td>librivox</td>\n",
       "      <td>і вона співанками косичила їх розлучення їй бу...</td>\n",
       "      <td>[і вона співанками косичила їх розлучення їй б...</td>\n",
       "    </tr>\n",
       "    <tr>\n",
       "      <th>3</th>\n",
       "      <td>obruchov__tini_zabutyh_predkiv_s000004.wav</td>\n",
       "      <td>Іду, Марічко! - билась в Іванових грудях одпов...</td>\n",
       "      <td>librivox</td>\n",
       "      <td>іду марічко билась в іванових грудях одповідь ...</td>\n",
       "      <td>[іду марічко билась в іванових грудях одповідь...</td>\n",
       "    </tr>\n",
       "    <tr>\n",
       "      <th>4</th>\n",
       "      <td>obruchov__tini_zabutyh_predkiv_s000005.wav</td>\n",
       "      <td>Засідали за мережаний стіл. тяжкі в своїм овеч...</td>\n",
       "      <td>librivox</td>\n",
       "      <td>засідали за мережаний стіл тяжкі в своїм овечі...</td>\n",
       "      <td>[засідали за мережаний стіл тяжкі в своїм овеч...</td>\n",
       "    </tr>\n",
       "  </tbody>\n",
       "</table>\n",
       "</div>"
      ],
      "text/plain": [
       "                                    file_name  \\\n",
       "0  obruchov__tini_zabutyh_predkiv_s000001.wav   \n",
       "1  obruchov__tini_zabutyh_predkiv_s000002.wav   \n",
       "2  obruchov__tini_zabutyh_predkiv_s000003.wav   \n",
       "3  obruchov__tini_zabutyh_predkiv_s000004.wav   \n",
       "4  obruchov__tini_zabutyh_predkiv_s000005.wav   \n",
       "\n",
       "                                          transcript    source  \\\n",
       "0  Я ще заграю до танцю,- бадьорив він чугайстра ...  librivox   \n",
       "1  Вони, здається, гойдалися з нею ще у колисці, ...  librivox   \n",
       "2  І вона співанками косичила їх розлучення, Їй б...  librivox   \n",
       "3  Іду, Марічко! - билась в Іванових грудях одпов...  librivox   \n",
       "4  Засідали за мережаний стіл. тяжкі в своїм овеч...  librivox   \n",
       "\n",
       "                                    transcript_clean  \\\n",
       "0  я ще заграю до танцю бадьорив він чугайстра й ...   \n",
       "1  вони здається гойдалися з нею ще у колисці хлю...   \n",
       "2  і вона співанками косичила їх розлучення їй бу...   \n",
       "3  іду марічко билась в іванових грудях одповідь ...   \n",
       "4  засідали за мережаний стіл тяжкі в своїм овечі...   \n",
       "\n",
       "                                transcript_clean_lst  \n",
       "0  [я ще заграю до танцю бадьорив він чугайстра й...  \n",
       "1  [вони здається гойдалися з нею ще у колисці хл...  \n",
       "2  [і вона співанками косичила їх розлучення їй б...  \n",
       "3  [іду марічко билась в іванових грудях одповідь...  \n",
       "4  [засідали за мережаний стіл тяжкі в своїм овеч...  "
      ]
     },
     "execution_count": 67,
     "metadata": {},
     "output_type": "execute_result"
    }
   ],
   "source": [
    "print(text_df.shape)\n",
    "text_df.head()"
   ]
  },
  {
   "cell_type": "code",
   "execution_count": 68,
   "metadata": {},
   "outputs": [
    {
     "name": "stderr",
     "output_type": "stream",
     "text": [
      "100%|██████████| 34579/34579 [00:00<00:00, 2180712.67it/s]\n"
     ]
    }
   ],
   "source": [
    "words = []\n",
    "\n",
    "for item in tqdm(text_df[\"transcript_clean\"].str.split().values):\n",
    "    words.extend(item)"
   ]
  },
  {
   "cell_type": "code",
   "execution_count": 69,
   "metadata": {},
   "outputs": [
    {
     "data": {
      "text/plain": [
       "[('і', 12612),\n",
       " ('не', 12347),\n",
       " ('на', 11494),\n",
       " ('що', 8306),\n",
       " ('в', 7737),\n",
       " ('з', 7642),\n",
       " ('й', 7467),\n",
       " ('а', 6416),\n",
       " ('до', 5381),\n",
       " ('та', 5327)]"
      ]
     },
     "execution_count": 69,
     "metadata": {},
     "output_type": "execute_result"
    }
   ],
   "source": [
    "Counter(words).most_common(10)"
   ]
  },
  {
   "cell_type": "code",
   "execution_count": 70,
   "metadata": {},
   "outputs": [
    {
     "name": "stdout",
     "output_type": "stream",
     "text": [
      "73211\n"
     ]
    }
   ],
   "source": [
    "unique_words = list(set(words))\n",
    "print(len(unique_words))"
   ]
  },
  {
   "cell_type": "code",
   "execution_count": 71,
   "metadata": {},
   "outputs": [
    {
     "data": {
      "text/plain": [
       "31"
      ]
     },
     "execution_count": 71,
     "metadata": {},
     "output_type": "execute_result"
    }
   ],
   "source": [
    "skip = False\n",
    "bad_word = []\n",
    "\n",
    "for item in unique_words:\n",
    "    skip = False\n",
    "    for letter in ascii_lowercase:\n",
    "        if skip:\n",
    "            break\n",
    "        if letter in item:\n",
    "            bad_word.append(item)\n",
    "            skip = True\n",
    "len(bad_word)"
   ]
  },
  {
   "cell_type": "code",
   "execution_count": 72,
   "metadata": {},
   "outputs": [
    {
     "data": {
      "text/plain": [
       "['i',\n",
       " 'iнша',\n",
       " 'першi',\n",
       " 'xv',\n",
       " 'bін',\n",
       " 'ситуацiя',\n",
       " 'есоuте',\n",
       " 'полiтикою',\n",
       " 'артистiв',\n",
       " 'dомеsтіquе',\n",
       " 'a',\n",
       " 'кj',\n",
       " 'mишачий',\n",
       " 'полiтики',\n",
       " 'hех',\n",
       " 'v',\n",
       " 'dопс',\n",
       " 'bсі',\n",
       " 'mотрі',\n",
       " 'тiльки',\n",
       " 'аvапті',\n",
       " 'vоlу',\n",
       " 'bірує',\n",
       " 'xіба',\n",
       " 'xii',\n",
       " 'розумiю',\n",
       " 'lаіssеz',\n",
       " 'mемепто',\n",
       " 'xоч',\n",
       " 'eх',\n",
       " 'hепосиді']"
      ]
     },
     "execution_count": 72,
     "metadata": {},
     "output_type": "execute_result"
    }
   ],
   "source": [
    "bad_word"
   ]
  },
  {
   "cell_type": "code",
   "execution_count": 73,
   "metadata": {},
   "outputs": [],
   "source": [
    "mask = text_df.transcript_clean.apply(lambda x: any(item for item in bad_word if item in x))\n",
    "text_df = text_df[~mask]"
   ]
  },
  {
   "cell_type": "code",
   "execution_count": 74,
   "metadata": {},
   "outputs": [
    {
     "name": "stdout",
     "output_type": "stream",
     "text": [
      "(34512, 5)\n"
     ]
    },
    {
     "data": {
      "text/html": [
       "<div>\n",
       "<style scoped>\n",
       "    .dataframe tbody tr th:only-of-type {\n",
       "        vertical-align: middle;\n",
       "    }\n",
       "\n",
       "    .dataframe tbody tr th {\n",
       "        vertical-align: top;\n",
       "    }\n",
       "\n",
       "    .dataframe thead th {\n",
       "        text-align: right;\n",
       "    }\n",
       "</style>\n",
       "<table border=\"1\" class=\"dataframe\">\n",
       "  <thead>\n",
       "    <tr style=\"text-align: right;\">\n",
       "      <th></th>\n",
       "      <th>file_name</th>\n",
       "      <th>transcript</th>\n",
       "      <th>source</th>\n",
       "      <th>transcript_clean</th>\n",
       "      <th>transcript_clean_lst</th>\n",
       "    </tr>\n",
       "  </thead>\n",
       "  <tbody>\n",
       "    <tr>\n",
       "      <th>0</th>\n",
       "      <td>obruchov__tini_zabutyh_predkiv_s000001.wav</td>\n",
       "      <td>Я ще заграю до танцю,- бадьорив він чугайстра ...</td>\n",
       "      <td>librivox</td>\n",
       "      <td>я ще заграю до танцю бадьорив він чугайстра й ...</td>\n",
       "      <td>[я ще заграю до танцю бадьорив він чугайстра й...</td>\n",
       "    </tr>\n",
       "    <tr>\n",
       "      <th>1</th>\n",
       "      <td>obruchov__tini_zabutyh_predkiv_s000002.wav</td>\n",
       "      <td>Вони, здається, гойдалися з нею ще у колисці, ...</td>\n",
       "      <td>librivox</td>\n",
       "      <td>вони здається гойдалися з нею ще у колисці хлю...</td>\n",
       "      <td>[вони здається гойдалися з нею ще у колисці хл...</td>\n",
       "    </tr>\n",
       "    <tr>\n",
       "      <th>2</th>\n",
       "      <td>obruchov__tini_zabutyh_predkiv_s000003.wav</td>\n",
       "      <td>І вона співанками косичила їх розлучення, Їй б...</td>\n",
       "      <td>librivox</td>\n",
       "      <td>і вона співанками косичила їх розлучення їй бу...</td>\n",
       "      <td>[і вона співанками косичила їх розлучення їй б...</td>\n",
       "    </tr>\n",
       "    <tr>\n",
       "      <th>3</th>\n",
       "      <td>obruchov__tini_zabutyh_predkiv_s000004.wav</td>\n",
       "      <td>Іду, Марічко! - билась в Іванових грудях одпов...</td>\n",
       "      <td>librivox</td>\n",
       "      <td>іду марічко билась в іванових грудях одповідь ...</td>\n",
       "      <td>[іду марічко билась в іванових грудях одповідь...</td>\n",
       "    </tr>\n",
       "    <tr>\n",
       "      <th>4</th>\n",
       "      <td>obruchov__tini_zabutyh_predkiv_s000005.wav</td>\n",
       "      <td>Засідали за мережаний стіл. тяжкі в своїм овеч...</td>\n",
       "      <td>librivox</td>\n",
       "      <td>засідали за мережаний стіл тяжкі в своїм овечі...</td>\n",
       "      <td>[засідали за мережаний стіл тяжкі в своїм овеч...</td>\n",
       "    </tr>\n",
       "  </tbody>\n",
       "</table>\n",
       "</div>"
      ],
      "text/plain": [
       "                                    file_name  \\\n",
       "0  obruchov__tini_zabutyh_predkiv_s000001.wav   \n",
       "1  obruchov__tini_zabutyh_predkiv_s000002.wav   \n",
       "2  obruchov__tini_zabutyh_predkiv_s000003.wav   \n",
       "3  obruchov__tini_zabutyh_predkiv_s000004.wav   \n",
       "4  obruchov__tini_zabutyh_predkiv_s000005.wav   \n",
       "\n",
       "                                          transcript    source  \\\n",
       "0  Я ще заграю до танцю,- бадьорив він чугайстра ...  librivox   \n",
       "1  Вони, здається, гойдалися з нею ще у колисці, ...  librivox   \n",
       "2  І вона співанками косичила їх розлучення, Їй б...  librivox   \n",
       "3  Іду, Марічко! - билась в Іванових грудях одпов...  librivox   \n",
       "4  Засідали за мережаний стіл. тяжкі в своїм овеч...  librivox   \n",
       "\n",
       "                                    transcript_clean  \\\n",
       "0  я ще заграю до танцю бадьорив він чугайстра й ...   \n",
       "1  вони здається гойдалися з нею ще у колисці хлю...   \n",
       "2  і вона співанками косичила їх розлучення їй бу...   \n",
       "3  іду марічко билась в іванових грудях одповідь ...   \n",
       "4  засідали за мережаний стіл тяжкі в своїм овечі...   \n",
       "\n",
       "                                transcript_clean_lst  \n",
       "0  [я ще заграю до танцю бадьорив він чугайстра й...  \n",
       "1  [вони здається гойдалися з нею ще у колисці хл...  \n",
       "2  [і вона співанками косичила їх розлучення їй б...  \n",
       "3  [іду марічко билась в іванових грудях одповідь...  \n",
       "4  [засідали за мережаний стіл тяжкі в своїм овеч...  "
      ]
     },
     "execution_count": 74,
     "metadata": {},
     "output_type": "execute_result"
    }
   ],
   "source": [
    "print(text_df.shape)\n",
    "text_df.head()"
   ]
  },
  {
   "cell_type": "markdown",
   "metadata": {},
   "source": [
    "### Final df"
   ]
  },
  {
   "cell_type": "code",
   "execution_count": 75,
   "metadata": {},
   "outputs": [],
   "source": [
    "df = audio_df.merge(text_df, on='file_name')"
   ]
  },
  {
   "cell_type": "code",
   "execution_count": 76,
   "metadata": {},
   "outputs": [
    {
     "name": "stdout",
     "output_type": "stream",
     "text": [
      "(34512, 10)\n"
     ]
    },
    {
     "data": {
      "text/html": [
       "<div>\n",
       "<style scoped>\n",
       "    .dataframe tbody tr th:only-of-type {\n",
       "        vertical-align: middle;\n",
       "    }\n",
       "\n",
       "    .dataframe tbody tr th {\n",
       "        vertical-align: top;\n",
       "    }\n",
       "\n",
       "    .dataframe thead th {\n",
       "        text-align: right;\n",
       "    }\n",
       "</style>\n",
       "<table border=\"1\" class=\"dataframe\">\n",
       "  <thead>\n",
       "    <tr style=\"text-align: right;\">\n",
       "      <th></th>\n",
       "      <th>file_name</th>\n",
       "      <th>file_path</th>\n",
       "      <th>duration</th>\n",
       "      <th>file_size</th>\n",
       "      <th>speaker_id</th>\n",
       "      <th>gender</th>\n",
       "      <th>transcript</th>\n",
       "      <th>source</th>\n",
       "      <th>transcript_clean</th>\n",
       "      <th>transcript_clean_lst</th>\n",
       "    </tr>\n",
       "  </thead>\n",
       "  <tbody>\n",
       "    <tr>\n",
       "      <th>0</th>\n",
       "      <td>miskun__15YO_Capitan_s003791.wav</td>\n",
       "      <td>/home/dima/Projects/stt_uk/data/librivox/audio...</td>\n",
       "      <td>7.879875</td>\n",
       "      <td>126122</td>\n",
       "      <td>miskun</td>\n",
       "      <td>m</td>\n",
       "      <td>Вітер чимдалі дужчав, однак не змінював свого ...</td>\n",
       "      <td>librivox</td>\n",
       "      <td>вітер чимдалі дужчав однак не змінював свого н...</td>\n",
       "      <td>[вітер чимдалі дужчав однак не змінював свого ...</td>\n",
       "    </tr>\n",
       "    <tr>\n",
       "      <th>1</th>\n",
       "      <td>loboda__chorna_rada_s002224.wav</td>\n",
       "      <td>/home/dima/Projects/stt_uk/data/librivox/audio...</td>\n",
       "      <td>3.417875</td>\n",
       "      <td>54730</td>\n",
       "      <td>loboda</td>\n",
       "      <td>m</td>\n",
       "      <td>Ну, прощайте ж, братці, навіки!\\n</td>\n",
       "      <td>librivox</td>\n",
       "      <td>ну прощайте ж братці навіки</td>\n",
       "      <td>[ну прощайте ж братці навіки]</td>\n",
       "    </tr>\n",
       "    <tr>\n",
       "      <th>2</th>\n",
       "      <td>loboda__zahar_berkut_s000726.wav</td>\n",
       "      <td>/home/dima/Projects/stt_uk/data/librivox/audio...</td>\n",
       "      <td>4.769875</td>\n",
       "      <td>76362</td>\n",
       "      <td>loboda</td>\n",
       "      <td>m</td>\n",
       "      <td>котра ген-ген сходилася з долиною Стрия.\\n</td>\n",
       "      <td>librivox</td>\n",
       "      <td>котра ген- ген сходилася з долиною стрия</td>\n",
       "      <td>[котра ген- ген сходилася з долиною стрия]</td>\n",
       "    </tr>\n",
       "    <tr>\n",
       "      <th>3</th>\n",
       "      <td>obruchov__dorogoyu_tsinoyu_s000477.wav</td>\n",
       "      <td>/home/dima/Projects/stt_uk/data/librivox/audio...</td>\n",
       "      <td>15.389875</td>\n",
       "      <td>246282</td>\n",
       "      <td>obruchov</td>\n",
       "      <td>m</td>\n",
       "      <td>Напоєний незабаром зіллям, із перев'язаною ран...</td>\n",
       "      <td>librivox</td>\n",
       "      <td>напоєний незабаром зіллям із перев'язаною рано...</td>\n",
       "      <td>[напоєний незабаром зіллям із перев'язаною ран...</td>\n",
       "    </tr>\n",
       "    <tr>\n",
       "      <th>4</th>\n",
       "      <td>shepel__zvirobij_s003180.wav</td>\n",
       "      <td>/home/dima/Projects/stt_uk/data/librivox/audio...</td>\n",
       "      <td>8.661875</td>\n",
       "      <td>138634</td>\n",
       "      <td>shepel</td>\n",
       "      <td>m</td>\n",
       "      <td>Ніхто не знав, за яких обставин її влучено: ма...</td>\n",
       "      <td>librivox</td>\n",
       "      <td>ніхто не знав за яких обставин її влучено мабу...</td>\n",
       "      <td>[ніхто не знав за яких обставин її влучено маб...</td>\n",
       "    </tr>\n",
       "  </tbody>\n",
       "</table>\n",
       "</div>"
      ],
      "text/plain": [
       "                                file_name  \\\n",
       "0        miskun__15YO_Capitan_s003791.wav   \n",
       "1         loboda__chorna_rada_s002224.wav   \n",
       "2        loboda__zahar_berkut_s000726.wav   \n",
       "3  obruchov__dorogoyu_tsinoyu_s000477.wav   \n",
       "4            shepel__zvirobij_s003180.wav   \n",
       "\n",
       "                                           file_path   duration  file_size  \\\n",
       "0  /home/dima/Projects/stt_uk/data/librivox/audio...   7.879875     126122   \n",
       "1  /home/dima/Projects/stt_uk/data/librivox/audio...   3.417875      54730   \n",
       "2  /home/dima/Projects/stt_uk/data/librivox/audio...   4.769875      76362   \n",
       "3  /home/dima/Projects/stt_uk/data/librivox/audio...  15.389875     246282   \n",
       "4  /home/dima/Projects/stt_uk/data/librivox/audio...   8.661875     138634   \n",
       "\n",
       "  speaker_id gender                                         transcript  \\\n",
       "0     miskun      m  Вітер чимдалі дужчав, однак не змінював свого ...   \n",
       "1     loboda      m                  Ну, прощайте ж, братці, навіки!\\n   \n",
       "2     loboda      m         котра ген-ген сходилася з долиною Стрия.\\n   \n",
       "3   obruchov      m  Напоєний незабаром зіллям, із перев'язаною ран...   \n",
       "4     shepel      m  Ніхто не знав, за яких обставин її влучено: ма...   \n",
       "\n",
       "     source                                   transcript_clean  \\\n",
       "0  librivox  вітер чимдалі дужчав однак не змінював свого н...   \n",
       "1  librivox                        ну прощайте ж братці навіки   \n",
       "2  librivox           котра ген- ген сходилася з долиною стрия   \n",
       "3  librivox  напоєний незабаром зіллям із перев'язаною рано...   \n",
       "4  librivox  ніхто не знав за яких обставин її влучено мабу...   \n",
       "\n",
       "                                transcript_clean_lst  \n",
       "0  [вітер чимдалі дужчав однак не змінював свого ...  \n",
       "1                      [ну прощайте ж братці навіки]  \n",
       "2         [котра ген- ген сходилася з долиною стрия]  \n",
       "3  [напоєний незабаром зіллям із перев'язаною ран...  \n",
       "4  [ніхто не знав за яких обставин її влучено маб...  "
      ]
     },
     "execution_count": 76,
     "metadata": {},
     "output_type": "execute_result"
    }
   ],
   "source": [
    "print(df.shape)\n",
    "df.head()"
   ]
  },
  {
   "cell_type": "markdown",
   "metadata": {},
   "source": [
    "## Kaldi project requirements"
   ]
  },
  {
   "cell_type": "code",
   "execution_count": 77,
   "metadata": {},
   "outputs": [],
   "source": [
    "proj_name = 'stt_uk'\n",
    "\n",
    "kaldi_path = f'/home/{os.environ.get(\"USER\")}/kaldi'\n",
    "# set here correct path when necessary\n",
    "kaldi_proj_path = os.path.join(kaldi_path, 'egs', proj_name, 's5')"
   ]
  },
  {
   "cell_type": "code",
   "execution_count": 78,
   "metadata": {},
   "outputs": [
    {
     "data": {
      "text/plain": [
       "'/home/dima/kaldi/egs/stt_uk/s5'"
      ]
     },
     "execution_count": 78,
     "metadata": {},
     "output_type": "execute_result"
    }
   ],
   "source": [
    "kaldi_proj_path"
   ]
  },
  {
   "cell_type": "code",
   "execution_count": 79,
   "metadata": {},
   "outputs": [],
   "source": [
    "if not os.path.exists(kaldi_path):\n",
    "    print(\"KALDI IS ABSENT!!!!!\")"
   ]
  },
  {
   "cell_type": "code",
   "execution_count": 80,
   "metadata": {},
   "outputs": [],
   "source": [
    "DELETE_ON_CREATING = False\n",
    "\n",
    "folders = [\"audio\", \"audio/train\", \"audio/test\", \n",
    "           \"data\", \"data/train\", \"data/test\", \"data/local\", \"data/local/dict\", \n",
    "           \"conf\"]\n",
    "\n",
    "if DELETE_ON_CREATING:\n",
    "    delete_dir(kaldi_proj_path)\n",
    "\n",
    "for folder in folders:\n",
    "    create_dir(os.path.join(kaldi_proj_path, folder))"
   ]
  },
  {
   "cell_type": "markdown",
   "metadata": {},
   "source": [
    "#### audio data"
   ]
  },
  {
   "cell_type": "code",
   "execution_count": 81,
   "metadata": {},
   "outputs": [
    {
     "name": "stdout",
     "output_type": "stream",
     "text": [
      "34512 375\n"
     ]
    }
   ],
   "source": [
    "# train, test = df.loc[df.source != 'voxforge'], df.loc[df.source == 'voxforge']\n",
    "train, test = df, df.loc[df.source == 'voxforge']\n",
    "\n",
    "print(train.shape[0], test.shape[0])"
   ]
  },
  {
   "cell_type": "code",
   "execution_count": 82,
   "metadata": {},
   "outputs": [],
   "source": [
    "# test = test[test.speaker_id == 'Anna-20160402-kxf']\n",
    "# train = test"
   ]
  },
  {
   "cell_type": "code",
   "execution_count": 83,
   "metadata": {},
   "outputs": [],
   "source": [
    "# TODO: fix test on train"
   ]
  },
  {
   "cell_type": "code",
   "execution_count": 84,
   "metadata": {},
   "outputs": [
    {
     "name": "stderr",
     "output_type": "stream",
     "text": [
      "100%|██████████| 45/45 [00:15<00:00,  2.94it/s]\n",
      "100%|██████████| 39/39 [00:00<00:00, 119.02it/s]\n"
     ]
    }
   ],
   "source": [
    "for df, destination in [(train, 'train'), (test, 'test')]:\n",
    "    for spkr in tqdm(df.speaker_id.unique()):\n",
    "        create_dir(os.path.join(kaldi_proj_path, 'audio', destination, spkr))\n",
    "        \n",
    "        for row in df.loc[df.speaker_id == spkr].iterrows():\n",
    "            shutil.copy2(row[1].file_path, \n",
    "                         os.path.join(kaldi_proj_path, 'audio', destination, spkr, row[1].file_name))"
   ]
  },
  {
   "cell_type": "markdown",
   "metadata": {},
   "source": [
    "#### spk2gender"
   ]
  },
  {
   "cell_type": "code",
   "execution_count": 85,
   "metadata": {},
   "outputs": [],
   "source": [
    "train[[\"speaker_id\", \"gender\"]].drop_duplicates().to_csv(\n",
    "    os.path.join(kaldi_proj_path, 'data', 'train', 'spk2gender'), \n",
    "    sep=\" \", index=False, header=None)\n",
    "test[[\"speaker_id\", \"gender\"]].drop_duplicates().to_csv(\n",
    "    os.path.join(kaldi_proj_path, 'data', 'test', 'spk2gender'), \n",
    "    sep=\" \", index=False, header=None)"
   ]
  },
  {
   "cell_type": "markdown",
   "metadata": {},
   "source": [
    "#### wav.scp"
   ]
  },
  {
   "cell_type": "code",
   "execution_count": 86,
   "metadata": {},
   "outputs": [],
   "source": [
    "train[\"path\"] = train.apply(lambda x: f\"{kaldi_proj_path}/audio/train/{x.speaker_id}/{x.file_name}\", 1)\n",
    "test[\"path\"] = test.apply(lambda x: f\"{kaldi_proj_path}/audio/test/{x.speaker_id}/{x.file_name}\", 1)"
   ]
  },
  {
   "cell_type": "code",
   "execution_count": 87,
   "metadata": {},
   "outputs": [],
   "source": [
    "train[[\"file_name\", \"path\"]].to_csv(os.path.join(kaldi_proj_path, 'data', 'train', 'wav.scp'), \n",
    "                                    sep=\" \", index=False, header=None)\n",
    "test[[\"file_name\", \"path\"]].to_csv(os.path.join(kaldi_proj_path, 'data', 'test', 'wav.scp'), \n",
    "                                   sep=\" \", index=False, header=None)"
   ]
  },
  {
   "cell_type": "markdown",
   "metadata": {},
   "source": [
    "#### text"
   ]
  },
  {
   "cell_type": "code",
   "execution_count": 88,
   "metadata": {},
   "outputs": [],
   "source": [
    "with open(os.path.join(kaldi_proj_path, 'data', 'train', 'text'), \"w\") as file_:\n",
    "    for line in (train[\"file_name\"] + \" \" + train[\"transcript_clean\"]).values:\n",
    "        file_.write(line.replace('-', ' ').strip() + \"\\n\")\n",
    "        \n",
    "with open(os.path.join(kaldi_proj_path, 'data', 'test', 'text'), \"w\") as file_:\n",
    "    for line in (test[\"file_name\"] + \" \" + test[\"transcript_clean\"]).values:\n",
    "        file_.write(line.replace('-', ' ').strip() + \"\\n\")"
   ]
  },
  {
   "cell_type": "markdown",
   "metadata": {},
   "source": [
    "#### utt2spk"
   ]
  },
  {
   "cell_type": "code",
   "execution_count": 89,
   "metadata": {},
   "outputs": [],
   "source": [
    "train[[\"file_name\", \"speaker_id\"]].to_csv(os.path.join(kaldi_proj_path, 'data', 'train', 'utt2spk'), \n",
    "                                          sep=\" \", index=False, header=None)\n",
    "test[[\"file_name\", \"speaker_id\"]].to_csv(os.path.join(kaldi_proj_path, 'data', 'test', 'utt2spk'), sep=\" \", index=False, header=None)"
   ]
  },
  {
   "cell_type": "markdown",
   "metadata": {},
   "source": [
    "#### corpus.txt"
   ]
  },
  {
   "cell_type": "code",
   "execution_count": 90,
   "metadata": {},
   "outputs": [],
   "source": [
    "sentences = []\n",
    "\n",
    "for item in df.transcript_clean_lst.values:\n",
    "    for i in item:\n",
    "        sentences.append(i)"
   ]
  },
  {
   "cell_type": "code",
   "execution_count": 93,
   "metadata": {},
   "outputs": [],
   "source": [
    "try:\n",
    "    with open(os.path.join(data_path, 'ner-uk-corpus-new.txt')) as file_:\n",
    "        texts = file_.readlines()\n",
    "except FileNotFoundError:\n",
    "    import stanfordnlp\n",
    "    import warnings\n",
    "\n",
    "    warnings.filterwarnings(\"ignore\")\n",
    "    nlp_uk = stanfordnlp.Pipeline(lang='uk')\n",
    "    \n",
    "    with open(os.path.join(data_path, 'ner-uk-corpus.txt')) as file_:\n",
    "        texts = file_.readlines()\n",
    "\n",
    "    lst = []\n",
    "    for item in tqdm(texts):\n",
    "        lst.append(tokenize(item))\n",
    "    \n",
    "    with open(os.path.join(data_path, 'ner-uk-corpus-new.txt'), 'w') as file_:\n",
    "        for item in lst:\n",
    "            for it in item:\n",
    "                file_.write(it.strip() + \"\\n\")\n",
    "    texts = lst"
   ]
  },
  {
   "cell_type": "code",
   "execution_count": 94,
   "metadata": {},
   "outputs": [],
   "source": [
    "with open(os.path.join(kaldi_proj_path, 'data', 'local', 'corpus.txt'), \"w\") as file_:\n",
    "    for line in sentences + texts:\n",
    "        file_.write(line.replace('-', ' ').strip() + \"\\n\")"
   ]
  },
  {
   "cell_type": "markdown",
   "metadata": {},
   "source": [
    "#### lexicon.txt"
   ]
  },
  {
   "cell_type": "code",
   "execution_count": 97,
   "metadata": {},
   "outputs": [],
   "source": [
    "sil_phones = [(\"!SIL\", \"sil\"), (\"<UNK>\", \"spn\")]"
   ]
  },
  {
   "cell_type": "markdown",
   "metadata": {},
   "source": [
    "phoneme preparation mechanism may be different"
   ]
  },
  {
   "cell_type": "code",
   "execution_count": 99,
   "metadata": {},
   "outputs": [
    {
     "data": {
      "text/plain": [
       "49945"
      ]
     },
     "execution_count": 99,
     "metadata": {},
     "output_type": "execute_result"
    }
   ],
   "source": [
    "len(set(\" \".join(texts).split()))"
   ]
  },
  {
   "cell_type": "code",
   "execution_count": 101,
   "metadata": {},
   "outputs": [],
   "source": [
    "# words = []\n",
    "\n",
    "# for item in tqdm(text_df[\"transcript_clean\"].str.split().values):\n",
    "#     words.extend(item)\n",
    "# unique_words = list(set(words))\n",
    "\n",
    "# with open('lexicon_prep1.txt', \"w\") as file_:\n",
    "#     for line in set(\" \".join(texts).split()):\n",
    "#         file_.write(line.strip() + \"\\n\")"
   ]
  },
  {
   "cell_type": "code",
   "execution_count": 134,
   "metadata": {},
   "outputs": [],
   "source": [
    "with open(os.path.join(data_path, 'lexicon_prep_out.txt')) as file_:\n",
    "    lexicon1 = file_.readlines()\n",
    "    \n",
    "with open(os.path.join(data_path, 'lexicon_prep_out1.txt')) as file_:\n",
    "    lexicon2 = file_.readlines()\n",
    "    \n",
    "lexicon_phones = [tuple(item.strip().split(\" \", 1)) for item in lexicon1 + lexicon2]"
   ]
  },
  {
   "cell_type": "code",
   "execution_count": 135,
   "metadata": {},
   "outputs": [],
   "source": [
    "lexicon_phones = [item for item in lexicon_phones if len(item) == 2]"
   ]
  },
  {
   "cell_type": "code",
   "execution_count": 136,
   "metadata": {},
   "outputs": [],
   "source": [
    "with open(os.path.join(kaldi_proj_path, 'data', 'local', \"dict\", 'lexicon.txt'), \"w\") as file_:\n",
    "    for word, phones in sil_phones + lexicon_phones:\n",
    "        file_.write(word + \" \" + \" \".join(phones.split(\" \")) + \"\\n\")"
   ]
  },
  {
   "cell_type": "markdown",
   "metadata": {},
   "source": [
    "#### nonsilence_phones.txt"
   ]
  },
  {
   "cell_type": "code",
   "execution_count": 137,
   "metadata": {},
   "outputs": [
    {
     "data": {
      "text/plain": [
       "82"
      ]
     },
     "execution_count": 137,
     "metadata": {},
     "output_type": "execute_result"
    }
   ],
   "source": [
    "unique_phones = [\"а\"]\n",
    "\n",
    "for k, v in lexicon_phones:\n",
    "    unique_phones.extend(v.split(\" \"))\n",
    "\n",
    "unique_phones = list(sorted(set(unique_phones)))\n",
    "len(unique_phones)"
   ]
  },
  {
   "cell_type": "code",
   "execution_count": 138,
   "metadata": {},
   "outputs": [],
   "source": [
    "with open(os.path.join(kaldi_proj_path, 'data', 'local', \"dict\", 'nonsilence_phones.txt'), \"w\") as file_:\n",
    "    for phone in sorted(unique_phones):\n",
    "        file_.write(phone + \"\\n\")"
   ]
  },
  {
   "cell_type": "markdown",
   "metadata": {},
   "source": [
    "#### silence_phones.txt"
   ]
  },
  {
   "cell_type": "code",
   "execution_count": 139,
   "metadata": {},
   "outputs": [],
   "source": [
    "with open(os.path.join(kaldi_proj_path, 'data', 'local', \"dict\", 'silence_phones.txt'), \"w\") as file_:\n",
    "    for phone in sorted(list(set(\" \".join([item[1] for item in sil_phones]).split()))):\n",
    "        file_.write(phone + \"\\n\")"
   ]
  },
  {
   "cell_type": "markdown",
   "metadata": {},
   "source": [
    "#### optional_silence.txt"
   ]
  },
  {
   "cell_type": "code",
   "execution_count": 140,
   "metadata": {},
   "outputs": [],
   "source": [
    "with open(os.path.join(kaldi_proj_path, 'data', 'local', \"dict\", 'optional_silence.txt'), \"w\") as file_:\n",
    "    for phone in [\"sil\"]:\n",
    "        file_.write(phone + \"\\n\")"
   ]
  },
  {
   "cell_type": "markdown",
   "metadata": {},
   "source": [
    "### copy all required files to project dir"
   ]
  },
  {
   "cell_type": "code",
   "execution_count": 141,
   "metadata": {},
   "outputs": [],
   "source": [
    "misc_path = os.path.join(prj_path, 'kaldi', 'misc')\n",
    "conf_path = os.path.join(misc_path, 'conf')"
   ]
  },
  {
   "cell_type": "code",
   "execution_count": 142,
   "metadata": {},
   "outputs": [],
   "source": [
    "for item in os.listdir(conf_path):\n",
    "    shutil.copy2(os.path.join(conf_path, item), \n",
    "                 os.path.join(kaldi_proj_path, 'conf', item))"
   ]
  },
  {
   "cell_type": "code",
   "execution_count": 143,
   "metadata": {},
   "outputs": [],
   "source": [
    "for item in ['cmd.sh', 'run.sh', 'path.sh']:\n",
    "    shutil.copy2(os.path.join(misc_path, item), \n",
    "                 os.path.join(kaldi_proj_path, item))"
   ]
  },
  {
   "cell_type": "code",
   "execution_count": 144,
   "metadata": {},
   "outputs": [],
   "source": [
    "! cp -R /home/$USER/kaldi/egs/stt_uk/s5/data/local/dict/* /home/$USER/kaldi/egs/stt_uk/s5/data/local/"
   ]
  },
  {
   "cell_type": "markdown",
   "metadata": {},
   "source": [
    "make sure that here is a correct project path"
   ]
  },
  {
   "cell_type": "code",
   "execution_count": 145,
   "metadata": {},
   "outputs": [],
   "source": [
    "# ! rm -rf /home/$USER/kaldi/egs/stt_uk/s5/steps /home/$USER/kaldi/egs/stt_uk/s5/utils /home/$USER/kaldi/egs/stt_uk/s5/local/\n",
    "\n",
    "! cp -R /home/$USER/kaldi/egs/babel/s5d/steps /home/$USER/kaldi/egs/stt_uk/s5/steps\n",
    "! cp -R /home/$USER/kaldi/egs/babel/s5d/utils /home/$USER/kaldi/egs/stt_uk/s5/utils\n",
    "! cp -R /home/$USER/kaldi/egs/babel/s5d/local/ /home/$USER/kaldi/egs/stt_uk/s5/local/"
   ]
  },
  {
   "cell_type": "code",
   "execution_count": 146,
   "metadata": {},
   "outputs": [],
   "source": [
    "! cp -R /home/$USER/kaldi/egs/wsj/s5/local/score.sh /home/$USER/kaldi/egs/stt_uk/s5/local/score.sh"
   ]
  },
  {
   "cell_type": "code",
   "execution_count": null,
   "metadata": {},
   "outputs": [],
   "source": []
  },
  {
   "cell_type": "code",
   "execution_count": null,
   "metadata": {},
   "outputs": [],
   "source": []
  },
  {
   "cell_type": "code",
   "execution_count": null,
   "metadata": {},
   "outputs": [],
   "source": []
  },
  {
   "cell_type": "code",
   "execution_count": null,
   "metadata": {},
   "outputs": [],
   "source": []
  }
 ],
 "metadata": {
  "kernelspec": {
   "display_name": "Python 3",
   "language": "python",
   "name": "python3"
  },
  "language_info": {
   "codemirror_mode": {
    "name": "ipython",
    "version": 3
   },
   "file_extension": ".py",
   "mimetype": "text/x-python",
   "name": "python",
   "nbconvert_exporter": "python",
   "pygments_lexer": "ipython3",
   "version": "3.6.10"
  }
 },
 "nbformat": 4,
 "nbformat_minor": 2
}
