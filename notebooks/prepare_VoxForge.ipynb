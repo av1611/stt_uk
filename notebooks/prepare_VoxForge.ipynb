{
 "cells": [
  {
   "cell_type": "code",
   "execution_count": 1,
   "metadata": {},
   "outputs": [],
   "source": [
    "# http://www.voxforge.org/home/downloads"
   ]
  },
  {
   "cell_type": "code",
   "execution_count": 2,
   "metadata": {},
   "outputs": [],
   "source": [
    "import os\n",
    "import sys\n",
    "import pandas as pd\n",
    "\n",
    "from tqdm import tqdm\n",
    "from pathlib import Path"
   ]
  },
  {
   "cell_type": "code",
   "execution_count": 3,
   "metadata": {},
   "outputs": [],
   "source": [
    "sys.path.append(\"..\")"
   ]
  },
  {
   "cell_type": "code",
   "execution_count": 4,
   "metadata": {},
   "outputs": [],
   "source": [
    "from utils import transform_audio_file, download_file, untar_file"
   ]
  },
  {
   "cell_type": "code",
   "execution_count": 5,
   "metadata": {},
   "outputs": [],
   "source": [
    "prj_path = os.path.dirname(os.getcwd())\n",
    "voxforge_path = os.path.join(prj_path, 'data', 'voxforge')\n",
    "data_path = os.path.join(voxforge_path, 'downloaded_data')"
   ]
  },
  {
   "cell_type": "code",
   "execution_count": 6,
   "metadata": {},
   "outputs": [],
   "source": [
    "voxforge_url = \"http://www.repository.voxforge1.org/downloads/\"\n",
    "audio_data_url = voxforge_url + 'uk/Trunk/Audio/Original/48kHz_16bit/'\n",
    "prompts_data_url = voxforge_url + '/uk/Trunk/Prompts/Prompts.tgz'"
   ]
  },
  {
   "cell_type": "code",
   "execution_count": 7,
   "metadata": {},
   "outputs": [],
   "source": [
    "file_list = [\n",
    "    'Alias-20160403-lmx.tgz', 'Anna-20160402-kxf.tgz', 'Darrr-20170412-jau.tgz', 'Neverice-20150322-ecd.tgz', \n",
    "    'Taras-20160318-ewy.tgz', 'Taras-20160318-mxu.tgz', 'Taras-20160318-qgc.tgz', 'Taras-20160318-rbe.tgz', \n",
    "    'Taras-20160318-yiw.tgz', 'Vasyl-20160403-phd.tgz', 'anonymous-20131024-atf.tgz', \n",
    "    'anonymous-20131024-uvs.tgz', 'anonymous-20131024-ylp.tgz', 'anonymous-20131130-ybm.tgz', \n",
    "    'anonymous-20131219-diq.tgz', 'anonymous-20131219-pxl.tgz', 'anonymous-20131219-rfm.tgz', \n",
    "    'anonymous-20131220-eii.tgz', 'anonymous-20131220-hzd.tgz', 'anonymous-20131220-jfp.tgz', \n",
    "    'anonymous-20131220-qrd.tgz', 'anonymous-20131220-wfk.tgz', 'anonymous-20131220-whf.tgz', \n",
    "    'anonymous-20131222-ats.tgz', 'anonymous-20131222-avl.tgz', 'anonymous-20131222-kue.tgz', \n",
    "    'anonymous-20131222-mtm.tgz', 'anonymous-20131222-pmk.tgz', 'anonymous-20131222-uyh.tgz', \n",
    "    'anonymous-20131222-vje.tgz', 'anonymous-20140818-gwg.tgz', 'anonymous-20140921-amp.tgz', \n",
    "    'anonymous-20150723-fjx.tgz', 'anonymous-20150723-fta.tgz', 'anonymous-20150723-jsi.tgz', \n",
    "    'anonymous-20150723-mom.tgz', 'atmoliton-20131220-nuh.tgz', 'atmoliton-20140921-lyt.tgz', \n",
    "    'dmitriytim-20160401-nga.tgz']"
   ]
  },
  {
   "cell_type": "code",
   "execution_count": 9,
   "metadata": {},
   "outputs": [
    {
     "name": "stderr",
     "output_type": "stream",
     "text": [
      "100%|██████████| 39/39 [02:23<00:00,  3.67s/it]\n"
     ]
    }
   ],
   "source": [
    "for item in tqdm(file_list):\n",
    "    download_path = os.path.join(data_path, item)\n",
    "    if not os.path.exists(download_path):\n",
    "        download_file(audio_data_url + item, download_path)\n",
    "\n",
    "download_path = os.path.join(data_path, \"Prompts.tgz\")\n",
    "if not os.path.exists(download_path):\n",
    "    download_file(prompts_data_url, download_path)"
   ]
  },
  {
   "cell_type": "code",
   "execution_count": 10,
   "metadata": {},
   "outputs": [],
   "source": [
    "for item in os.listdir(data_path):\n",
    "    untar_file(os.path.join(data_path, item), os.path.join(data_path))"
   ]
  },
  {
   "cell_type": "code",
   "execution_count": 11,
   "metadata": {},
   "outputs": [],
   "source": [
    "for file_path in Path(data_path).rglob(\"*.tgz\"):\n",
    "    os.remove(file_path)"
   ]
  },
  {
   "cell_type": "code",
   "execution_count": 12,
   "metadata": {},
   "outputs": [
    {
     "name": "stderr",
     "output_type": "stream",
     "text": [
      "  5%|▌         | 2/40 [00:00<00:03, 11.38it/s]output_file: /home/dima/Projects/stt_uk/data/voxforge/audio/Alias-20160403-lmx__uk_0028.wav already exists and will be overwritten on build\n",
      "output_file: /home/dima/Projects/stt_uk/data/voxforge/audio/Alias-20160403-lmx__uk_0029.wav already exists and will be overwritten on build\n",
      "output_file: /home/dima/Projects/stt_uk/data/voxforge/audio/Alias-20160403-lmx__uk_0023.wav already exists and will be overwritten on build\n",
      "output_file: /home/dima/Projects/stt_uk/data/voxforge/audio/Alias-20160403-lmx__uk_0026.wav already exists and will be overwritten on build\n",
      "output_file: /home/dima/Projects/stt_uk/data/voxforge/audio/Alias-20160403-lmx__uk_0022.wav already exists and will be overwritten on build\n",
      "output_file: /home/dima/Projects/stt_uk/data/voxforge/audio/Alias-20160403-lmx__uk_0024.wav already exists and will be overwritten on build\n",
      "output_file: /home/dima/Projects/stt_uk/data/voxforge/audio/Alias-20160403-lmx__uk_0025.wav already exists and will be overwritten on build\n",
      "output_file: /home/dima/Projects/stt_uk/data/voxforge/audio/Alias-20160403-lmx__uk_0021.wav already exists and will be overwritten on build\n",
      "output_file: /home/dima/Projects/stt_uk/data/voxforge/audio/Alias-20160403-lmx__uk_0027.wav already exists and will be overwritten on build\n",
      "output_file: /home/dima/Projects/stt_uk/data/voxforge/audio/Alias-20160403-lmx__uk_0020.wav already exists and will be overwritten on build\n",
      " 65%|██████▌   | 26/40 [00:02<00:01, 10.03it/s]output_file: /home/dima/Projects/stt_uk/data/voxforge/audio/Anna-20160402-kxf__uk_0006.wav already exists and will be overwritten on build\n",
      "output_file: /home/dima/Projects/stt_uk/data/voxforge/audio/Anna-20160402-kxf__uk_0014.wav already exists and will be overwritten on build\n",
      "output_file: /home/dima/Projects/stt_uk/data/voxforge/audio/Anna-20160402-kxf__uk_0011.wav already exists and will be overwritten on build\n",
      "output_file: /home/dima/Projects/stt_uk/data/voxforge/audio/Anna-20160402-kxf__uk_0010.wav already exists and will be overwritten on build\n",
      "output_file: /home/dima/Projects/stt_uk/data/voxforge/audio/Anna-20160402-kxf__uk_0005.wav already exists and will be overwritten on build\n",
      "output_file: /home/dima/Projects/stt_uk/data/voxforge/audio/Anna-20160402-kxf__uk_0007.wav already exists and will be overwritten on build\n",
      "output_file: /home/dima/Projects/stt_uk/data/voxforge/audio/Anna-20160402-kxf__uk_0009.wav already exists and will be overwritten on build\n",
      "output_file: /home/dima/Projects/stt_uk/data/voxforge/audio/Anna-20160402-kxf__uk_0013.wav already exists and will be overwritten on build\n",
      "output_file: /home/dima/Projects/stt_uk/data/voxforge/audio/Anna-20160402-kxf__uk_0008.wav already exists and will be overwritten on build\n",
      "output_file: /home/dima/Projects/stt_uk/data/voxforge/audio/Anna-20160402-kxf__uk_0012.wav already exists and will be overwritten on build\n",
      "100%|██████████| 40/40 [00:04<00:00,  9.38it/s]\n"
     ]
    }
   ],
   "source": [
    "for speaker in tqdm(os.listdir(data_path)):\n",
    "    if speaker != \"Prompts\":\n",
    "        for fn in os.listdir(os.path.join(data_path, speaker, 'wav')):\n",
    "            new_file_name = speaker + \"__\" + fn\n",
    "            transform_audio_file(os.path.join(data_path, speaker, \"wav\", fn),\n",
    "                                 os.path.join(voxforge_path, \"audio\", new_file_name))\n",
    "    else:\n",
    "        with open(os.path.join(data_path, speaker, 'master_prompts_train_8kHz-16bit')) as file_:\n",
    "            prompts = file_.readlines()\n",
    "        prompts = [_.split(\" \", 1) for _ in prompts]\n",
    "        prompts = [(k.replace(\"/mfc/\", \"__\") + \".wav\", v) for k, v in prompts]\n",
    "        \n",
    "        with open(os.path.join(voxforge_path, \"prompts.txt\"), 'w') as file_:\n",
    "            file_.writelines([\" \".join(item).strip() + \"\\n\" for item in prompts])"
   ]
  },
  {
   "cell_type": "code",
   "execution_count": null,
   "metadata": {},
   "outputs": [],
   "source": []
  }
 ],
 "metadata": {
  "kernelspec": {
   "display_name": "Python [conda env:p36] *",
   "language": "python",
   "name": "conda-env-p36-py"
  },
  "language_info": {
   "codemirror_mode": {
    "name": "ipython",
    "version": 3
   },
   "file_extension": ".py",
   "mimetype": "text/x-python",
   "name": "python",
   "nbconvert_exporter": "python",
   "pygments_lexer": "ipython3",
   "version": "3.6.10"
  }
 },
 "nbformat": 4,
 "nbformat_minor": 4
}
