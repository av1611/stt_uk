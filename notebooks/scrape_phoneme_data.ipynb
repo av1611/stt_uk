{
 "cells": [
  {
   "cell_type": "code",
   "execution_count": 34,
   "metadata": {},
   "outputs": [],
   "source": [
    "import re\n",
    "import os\n",
    "import json\n",
    "import gzip\n",
    "import requests\n",
    "import random\n",
    "import logging\n",
    "\n",
    "import pandas as pd\n",
    "import numpy as np\n",
    "\n",
    "from bs4 import BeautifulSoup\n",
    "from copy import deepcopy\n",
    "from time import sleep\n",
    "from tqdm import tqdm\n",
    "from tqdm.contrib.concurrent import process_map"
   ]
  },
  {
   "cell_type": "code",
   "execution_count": 2,
   "metadata": {},
   "outputs": [],
   "source": [
    "proxy_list_url = 'https://www.ip-adress.com/proxy-list'"
   ]
  },
  {
   "cell_type": "code",
   "execution_count": 3,
   "metadata": {},
   "outputs": [],
   "source": [
    "proxy_df = pd.read_html(proxy_list_url, skiprows=0)[0]"
   ]
  },
  {
   "cell_type": "code",
   "execution_count": 4,
   "metadata": {},
   "outputs": [
    {
     "data": {
      "text/html": [
       "<div>\n",
       "<style scoped>\n",
       "    .dataframe tbody tr th:only-of-type {\n",
       "        vertical-align: middle;\n",
       "    }\n",
       "\n",
       "    .dataframe tbody tr th {\n",
       "        vertical-align: top;\n",
       "    }\n",
       "\n",
       "    .dataframe thead th {\n",
       "        text-align: right;\n",
       "    }\n",
       "</style>\n",
       "<table border=\"1\" class=\"dataframe\">\n",
       "  <thead>\n",
       "    <tr style=\"text-align: right;\">\n",
       "      <th></th>\n",
       "      <th>Proxy</th>\n",
       "      <th>Type</th>\n",
       "      <th>Country</th>\n",
       "      <th>Last Checked</th>\n",
       "    </tr>\n",
       "  </thead>\n",
       "  <tbody>\n",
       "    <tr>\n",
       "      <th>0</th>\n",
       "      <td>128.199.151.21:80</td>\n",
       "      <td>highly-anonymous</td>\n",
       "      <td>Singapore</td>\n",
       "      <td>4 hours ago</td>\n",
       "    </tr>\n",
       "    <tr>\n",
       "      <th>1</th>\n",
       "      <td>113.253.239.102:80</td>\n",
       "      <td>transparent</td>\n",
       "      <td>Hong Kong</td>\n",
       "      <td>5 hours ago</td>\n",
       "    </tr>\n",
       "    <tr>\n",
       "      <th>2</th>\n",
       "      <td>113.253.239.102:8080</td>\n",
       "      <td>transparent</td>\n",
       "      <td>Hong Kong</td>\n",
       "      <td>5 hours ago</td>\n",
       "    </tr>\n",
       "    <tr>\n",
       "      <th>3</th>\n",
       "      <td>41.65.168.66:8080</td>\n",
       "      <td>highly-anonymous</td>\n",
       "      <td>Egypt</td>\n",
       "      <td>5 hours ago</td>\n",
       "    </tr>\n",
       "    <tr>\n",
       "      <th>4</th>\n",
       "      <td>113.253.239.102:3129</td>\n",
       "      <td>transparent</td>\n",
       "      <td>Hong Kong</td>\n",
       "      <td>5 hours ago</td>\n",
       "    </tr>\n",
       "  </tbody>\n",
       "</table>\n",
       "</div>"
      ],
      "text/plain": [
       "                  Proxy              Type    Country Last Checked\n",
       "0     128.199.151.21:80  highly-anonymous  Singapore  4 hours ago\n",
       "1    113.253.239.102:80       transparent  Hong Kong  5 hours ago\n",
       "2  113.253.239.102:8080       transparent  Hong Kong  5 hours ago\n",
       "3     41.65.168.66:8080  highly-anonymous      Egypt  5 hours ago\n",
       "4  113.253.239.102:3129       transparent  Hong Kong  5 hours ago"
      ]
     },
     "execution_count": 4,
     "metadata": {},
     "output_type": "execute_result"
    }
   ],
   "source": [
    "proxy_df.head()"
   ]
  },
  {
   "cell_type": "code",
   "execution_count": 5,
   "metadata": {},
   "outputs": [],
   "source": [
    "proxy_list = proxy_df['Proxy'].values"
   ]
  },
  {
   "cell_type": "code",
   "execution_count": 6,
   "metadata": {},
   "outputs": [],
   "source": [
    "def get_url_content(url, proxy=[]):\n",
    "    if len(proxy) > 0:\n",
    "        proxy_list = list(deepcopy(proxy))\n",
    "        try:\n",
    "            random_proxy_server = np.random.choice(proxy_list)\n",
    "            proxies = {\"http\": f\"http://{random_proxy_server}\"}\n",
    "            return requests.get(url, proxies=proxies, headers={'User-Agent': 'Chrome'}).content\n",
    "        except Exception as e:\n",
    "            logging.warning('Failed to use {} proxy. Trying to use another one.....')\n",
    "            proxy_list.remove(random_proxy_server)\n",
    "            get_url_content(url, proxy=proxy_list)\n",
    "    else:\n",
    "        return requests.get(url, headers={'User-Agent': 'Chrome'}).content"
   ]
  },
  {
   "cell_type": "code",
   "execution_count": 7,
   "metadata": {},
   "outputs": [],
   "source": [
    "goroh_url = \"https://goroh.pp.ua/Транскрипція/{word}\"\n",
    "\n",
    "def parse_goroh(word):\n",
    "    phonemes = ''  \n",
    "\n",
    "    try:\n",
    "        html = get_url_content(goroh_url.format(word=word), proxy=proxy_list)\n",
    "        soup = BeautifulSoup(html)\n",
    "        tags = set(filter(None, [item.string.strip() for item in soup.findAll(\"div\", class_=\"taglist\")[0]]))\n",
    "        if set([\"іменник\", \"прикметник\"]).intersection(tags):\n",
    "            table = soup.findAll(\"table\", class_=\"table\")[0].findAll(\"tr\", class_=\"row\")\n",
    "            table_content = [[cell.contents[0] for cell in row.findAll(\"td\")] for row in table]\n",
    "            cell_content = list(filter(lambda x: x[0] == 'називний', table_content))[0][1]\n",
    "            phonemes = re.findall(r'\\>\\[(.*)\\]\\<\\/span\\>', str(cell_content))[0]\n",
    "        elif set([\"прислівник\", \"дієслово\"]).intersection(tags):\n",
    "            tag_content = soup.findAll(\"div\", class_=\"page__sub-header\")[0]#.findAll('h2')[0]\n",
    "            phonemes = re.findall(r'\\s+\\[(.*)]\\s+', str(tag_content))[0]\n",
    "\n",
    "        return fix_sup(phonemes)\n",
    "    except:\n",
    "        return phonemes\n",
    "\n",
    "    \n",
    "def fix_sup(phonemes):\n",
    "    regex_sups = re.findall(r'\\w<sup>\\w</sup>', phonemes)\n",
    "\n",
    "    for sup in regex_sups:\n",
    "        sup_letters = re.findall(r'(\\w)<sup>(\\w)</sup>', sup)[0]\n",
    "        phonemes = phonemes.replace(sup, \"{%s^%s}\" % sup_letters)\n",
    "    \n",
    "    return phonemes"
   ]
  },
  {
   "cell_type": "code",
   "execution_count": 8,
   "metadata": {},
   "outputs": [
    {
     "data": {
      "text/plain": [
       "'ўж{и^е}ва́т{и^е}'"
      ]
     },
     "execution_count": 8,
     "metadata": {},
     "output_type": "execute_result"
    }
   ],
   "source": [
    "tmp = parse_goroh(\"вживати\")\n",
    "tmp"
   ]
  },
  {
   "cell_type": "code",
   "execution_count": 9,
   "metadata": {},
   "outputs": [],
   "source": [
    "def split_phonemes(phonemes):\n",
    "    res = []\n",
    "    complex_phone = False\n",
    "    phone_candidate = ''\n",
    "\n",
    "    for i, letter in enumerate(phonemes):\n",
    "\n",
    "        if letter == '{':\n",
    "            complex_phone = True\n",
    "            phone_candidate += letter\n",
    "            continue\n",
    "        elif letter == '}':\n",
    "            complex_phone = False\n",
    "            phone_candidate += letter\n",
    "            res.append(phone_candidate)\n",
    "            phone_candidate = ''\n",
    "            continue\n",
    "        # define stressed letter\n",
    "        elif ord(letter) == 769: \n",
    "            res[-1] = res[-1] + letter\n",
    "        # define softed letter\n",
    "        elif ord(letter) in (96, 8217):\n",
    "            res[-1] = res[-1] + \"'\"\n",
    "        # define extended letter\n",
    "        elif ord(letter) == 58:\n",
    "            res[-1] = res[-1] + letter\n",
    "        else:\n",
    "            if complex_phone:\n",
    "                phone_candidate += letter\n",
    "            else:\n",
    "                res.append(letter)\n",
    "    return res"
   ]
  },
  {
   "cell_type": "code",
   "execution_count": 10,
   "metadata": {},
   "outputs": [
    {
     "name": "stdout",
     "output_type": "stream",
     "text": [
      "Number of words in vocabulary: 246391\n",
      "Number of words after filtering short words: 246184\n"
     ]
    }
   ],
   "source": [
    "vocab = []\n",
    "\n",
    "with open('../data/dict_corp_vis.txt', 'r') as dict_file:\n",
    "    for line in dict_file:\n",
    "        if not line.startswith(\" \"):\n",
    "            vocab.append(line)\n",
    "vocab = [word.split()[0] for word in vocab]\n",
    "filtered_vocab = list(filter(lambda x: len(x)>2, vocab))\n",
    "\n",
    "print(f'Number of words in vocabulary: {len(vocab)}')\n",
    "print(f'Number of words after filtering short words: {len(filtered_vocab)}')"
   ]
  },
  {
   "cell_type": "code",
   "execution_count": 11,
   "metadata": {},
   "outputs": [],
   "source": [
    "def gentle_parsing(word):\n",
    "    sleep(0.2)\n",
    "    phonemes = split_phonemes(parse_goroh(word))\n",
    "    return (word, phonemes)"
   ]
  },
  {
   "cell_type": "code",
   "execution_count": 12,
   "metadata": {},
   "outputs": [],
   "source": [
    "batch_size = 1024\n",
    "# num_batches = int(len(filtered_vocab) / batch_size)\n",
    "num_batches = 1"
   ]
  },
  {
   "cell_type": "code",
   "execution_count": 13,
   "metadata": {},
   "outputs": [
    {
     "name": "stderr",
     "output_type": "stream",
     "text": [
      "\r",
      "  0%|          | 0/3 [00:00<?, ?it/s]"
     ]
    },
    {
     "data": {
      "application/vnd.jupyter.widget-view+json": {
       "model_id": "e45d197933964f2b81601ac8aedd9252",
       "version_major": 2,
       "version_minor": 0
      },
      "text/plain": [
       "HBox(children=(FloatProgress(value=0.0, max=1024.0), HTML(value='')))"
      ]
     },
     "metadata": {},
     "output_type": "display_data"
    },
    {
     "name": "stdout",
     "output_type": "stream",
     "text": [
      "\n"
     ]
    },
    {
     "name": "stderr",
     "output_type": "stream",
     "text": [
      "\r",
      " 33%|███▎      | 1/3 [00:43<01:27, 43.98s/it]"
     ]
    },
    {
     "data": {
      "application/vnd.jupyter.widget-view+json": {
       "model_id": "7abac2019a17468ca8c225ecb08ece3b",
       "version_major": 2,
       "version_minor": 0
      },
      "text/plain": [
       "HBox(children=(FloatProgress(value=0.0, max=1024.0), HTML(value='')))"
      ]
     },
     "metadata": {},
     "output_type": "display_data"
    },
    {
     "name": "stdout",
     "output_type": "stream",
     "text": [
      "\n"
     ]
    },
    {
     "name": "stderr",
     "output_type": "stream",
     "text": [
      "\r",
      " 67%|██████▋   | 2/3 [01:20<00:41, 41.82s/it]"
     ]
    },
    {
     "data": {
      "application/vnd.jupyter.widget-view+json": {
       "model_id": "591d4c2d25c342c49477e1b14497ee6a",
       "version_major": 2,
       "version_minor": 0
      },
      "text/plain": [
       "HBox(children=(FloatProgress(value=0.0, max=1024.0), HTML(value='')))"
      ]
     },
     "metadata": {},
     "output_type": "display_data"
    },
    {
     "name": "stdout",
     "output_type": "stream",
     "text": [
      "\n"
     ]
    },
    {
     "name": "stderr",
     "output_type": "stream",
     "text": [
      "100%|██████████| 3/3 [01:54<00:00, 38.10s/it]\n"
     ]
    }
   ],
   "source": [
    "parsing_res = []\n",
    "\n",
    "for batch_num in tqdm(range(num_batches+1)):\n",
    "    tmp_res = process_map(gentle_parsing, \n",
    "                          filtered_vocab[batch_size*(batch_num):batch_size*(batch_num+1)], \n",
    "                          max_workers=12)\n",
    "    if len(parsing_res) == 0:\n",
    "        parsing_res = tmp_res\n",
    "    else:\n",
    "        parsing_res.extend(tmp_res)\n",
    "    sleep(5)"
   ]
  },
  {
   "cell_type": "code",
   "execution_count": 48,
   "metadata": {},
   "outputs": [],
   "source": [
    "phone_res = [(word, phones) for word, phones in parsing_res if len(phones) > 0]"
   ]
  },
  {
   "cell_type": "code",
   "execution_count": 49,
   "metadata": {},
   "outputs": [],
   "source": [
    "phone_data = [{\"word\": word, \"phones\": phones} for word, phones in phone_res]"
   ]
  },
  {
   "cell_type": "code",
   "execution_count": 50,
   "metadata": {},
   "outputs": [
    {
     "data": {
      "text/html": [
       "<div>\n",
       "<style scoped>\n",
       "    .dataframe tbody tr th:only-of-type {\n",
       "        vertical-align: middle;\n",
       "    }\n",
       "\n",
       "    .dataframe tbody tr th {\n",
       "        vertical-align: top;\n",
       "    }\n",
       "\n",
       "    .dataframe thead th {\n",
       "        text-align: right;\n",
       "    }\n",
       "</style>\n",
       "<table border=\"1\" class=\"dataframe\">\n",
       "  <thead>\n",
       "    <tr style=\"text-align: right;\">\n",
       "      <th></th>\n",
       "      <th>word</th>\n",
       "      <th>phones</th>\n",
       "    </tr>\n",
       "  </thead>\n",
       "  <tbody>\n",
       "    <tr>\n",
       "      <th>1833</th>\n",
       "      <td>Акименко</td>\n",
       "      <td>[а, к, и́, м, {е^и}, н, к, о]</td>\n",
       "    </tr>\n",
       "    <tr>\n",
       "      <th>1918</th>\n",
       "      <td>акробатичність</td>\n",
       "      <td>[а, к, р, о, б, а, т, и́, ч, н', і, с', т']</td>\n",
       "    </tr>\n",
       "    <tr>\n",
       "      <th>381</th>\n",
       "      <td>авіабудівний</td>\n",
       "      <td>[а, в', і, а, б, у, д', і, ў, н, и́, й]</td>\n",
       "    </tr>\n",
       "    <tr>\n",
       "      <th>2258</th>\n",
       "      <td>Алеппо</td>\n",
       "      <td>[а, л, е́, п:, о]</td>\n",
       "    </tr>\n",
       "    <tr>\n",
       "      <th>1125</th>\n",
       "      <td>аграфія</td>\n",
       "      <td>[а, г, р, а, ф', і́, й, а]</td>\n",
       "    </tr>\n",
       "    <tr>\n",
       "      <th>1671</th>\n",
       "      <td>азіатський</td>\n",
       "      <td>[а, з', і, а́, ц', к, и, й]</td>\n",
       "    </tr>\n",
       "    <tr>\n",
       "      <th>186</th>\n",
       "      <td>абсолютизуючи</td>\n",
       "      <td>[а, б, с, о, л', у, т, {и^е}, з, у́, й, у, ч, ...</td>\n",
       "    </tr>\n",
       "    <tr>\n",
       "      <th>1574</th>\n",
       "      <td>аеротермометр</td>\n",
       "      <td>[а, {е^и}, р, о, т, {е^и}, р, м, о́, м, {е^и},...</td>\n",
       "    </tr>\n",
       "    <tr>\n",
       "      <th>516</th>\n",
       "      <td>Аврамівка</td>\n",
       "      <td>[а, ў, р, а́, м', і, ў, к, а]</td>\n",
       "    </tr>\n",
       "    <tr>\n",
       "      <th>2114</th>\n",
       "      <td>акцентовано</td>\n",
       "      <td>[а, к, ц, {е^и}, н, т, у, в, а́, т, {и^е}]</td>\n",
       "    </tr>\n",
       "  </tbody>\n",
       "</table>\n",
       "</div>"
      ],
      "text/plain": [
       "                word                                             phones\n",
       "1833        Акименко                      [а, к, и́, м, {е^и}, н, к, о]\n",
       "1918  акробатичність        [а, к, р, о, б, а, т, и́, ч, н', і, с', т']\n",
       "381     авіабудівний            [а, в', і, а, б, у, д', і, ў, н, и́, й]\n",
       "2258          Алеппо                                  [а, л, е́, п:, о]\n",
       "1125         аграфія                         [а, г, р, а, ф', і́, й, а]\n",
       "1671      азіатський                        [а, з', і, а́, ц', к, и, й]\n",
       "186    абсолютизуючи  [а, б, с, о, л', у, т, {и^е}, з, у́, й, у, ч, ...\n",
       "1574   аеротермометр  [а, {е^и}, р, о, т, {е^и}, р, м, о́, м, {е^и},...\n",
       "516        Аврамівка                      [а, ў, р, а́, м', і, ў, к, а]\n",
       "2114     акцентовано         [а, к, ц, {е^и}, н, т, у, в, а́, т, {и^е}]"
      ]
     },
     "execution_count": 50,
     "metadata": {},
     "output_type": "execute_result"
    }
   ],
   "source": [
    "phone_df = pd.DataFrame(phone_data)\n",
    "\n",
    "phone_df.sample(10)"
   ]
  },
  {
   "cell_type": "code",
   "execution_count": 52,
   "metadata": {},
   "outputs": [
    {
     "name": "stdout",
     "output_type": "stream",
     "text": [
      "[['акомодуватися'\n",
      "  list(['а', 'к', 'о', 'м', 'о', 'д', 'у', 'в', 'а́', 'т', '{и^е}', \"с'\"])]]\n"
     ]
    }
   ],
   "source": [
    "print(phone_df.sample(1).values)"
   ]
  },
  {
   "cell_type": "code",
   "execution_count": null,
   "metadata": {},
   "outputs": [],
   "source": [
    "def json2gzip(data, path):\n",
    "    if not path.endswith(\".json.gz\"):\n",
    "        path += \".json.gz\"\n",
    "    json_str = json.dumps(data) + \"\\n\"\n",
    "    json_bytes = json_str.encode('utf-8')\n",
    "\n",
    "    with gzip.GzipFile(path, 'w') as fout:\n",
    "        fout.write(json_bytes)     \n",
    "\n",
    "def gzip2json(path):\n",
    "    with gzip.GzipFile(path, 'r') as fin:\n",
    "        data = json.loads(fin.read().decode('utf-8'))\n",
    "    return data"
   ]
  },
  {
   "cell_type": "code",
   "execution_count": 55,
   "metadata": {},
   "outputs": [],
   "source": [
    "json2gzip(phone_data, '../data/phone_data.json.gz')"
   ]
  },
  {
   "cell_type": "code",
   "execution_count": 56,
   "metadata": {},
   "outputs": [],
   "source": [
    "phone_data = gzip2json('../data/phone_data.json.gz')"
   ]
  },
  {
   "cell_type": "code",
   "execution_count": 59,
   "metadata": {},
   "outputs": [
    {
     "data": {
      "text/plain": [
       "{'word': 'абеткувати',\n",
       " 'phones': ['а', 'б', '{е^и}', 'т', 'к', 'у', 'в', 'а́', 'т', '{и^е}']}"
      ]
     },
     "execution_count": 59,
     "metadata": {},
     "output_type": "execute_result"
    }
   ],
   "source": [
    "phone_data[42]"
   ]
  },
  {
   "cell_type": "code",
   "execution_count": null,
   "metadata": {},
   "outputs": [],
   "source": []
  }
 ],
 "metadata": {
  "kernelspec": {
   "display_name": "Python [conda env:p36] *",
   "language": "python",
   "name": "conda-env-p36-py"
  },
  "language_info": {
   "codemirror_mode": {
    "name": "ipython",
    "version": 3
   },
   "file_extension": ".py",
   "mimetype": "text/x-python",
   "name": "python",
   "nbconvert_exporter": "python",
   "pygments_lexer": "ipython3",
   "version": "3.6.10"
  }
 },
 "nbformat": 4,
 "nbformat_minor": 2
}
