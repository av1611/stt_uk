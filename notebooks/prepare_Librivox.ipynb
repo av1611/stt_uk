{
 "cells": [
  {
   "cell_type": "code",
   "execution_count": null,
   "metadata": {},
   "outputs": [],
   "source": [
    "# ! wget http://www.caito.de/data/Training/stt_tts/uk_UK.tgz\n",
    "# ! tar -xvzf uk_UK.tgz"
   ]
  },
  {
   "cell_type": "code",
   "execution_count": 9,
   "metadata": {},
   "outputs": [],
   "source": [
    "import os\n",
    "import sys\n",
    "import pandas as pd\n",
    "\n",
    "from tqdm import tqdm"
   ]
  },
  {
   "cell_type": "code",
   "execution_count": 10,
   "metadata": {},
   "outputs": [],
   "source": [
    "sys.path.append(\"..\")"
   ]
  },
  {
   "cell_type": "code",
   "execution_count": 11,
   "metadata": {},
   "outputs": [],
   "source": [
    "from utils import transform_audio_file"
   ]
  },
  {
   "cell_type": "code",
   "execution_count": 19,
   "metadata": {},
   "outputs": [],
   "source": [
    "prj_path = os.path.dirname(os.getcwd())\n",
    "librivox_path = os.path.join(prj_path, 'data', 'librivox')\n",
    "data_path = os.path.join(librivox_path, 'uk_UK', 'by_book')\n",
    "dir_male_path = os.path.join(data_path, 'male')\n",
    "dir_female_path = os.path.join(data_path, 'female')"
   ]
  },
  {
   "cell_type": "code",
   "execution_count": 20,
   "metadata": {},
   "outputs": [
    {
     "data": {
      "text/plain": [
       "['obruchov', 'pysariev', 'loboda', 'shepel', 'miskun']"
      ]
     },
     "execution_count": 20,
     "metadata": {},
     "output_type": "execute_result"
    }
   ],
   "source": [
    "os.listdir(dir_male_path)"
   ]
  },
  {
   "cell_type": "code",
   "execution_count": 27,
   "metadata": {},
   "outputs": [
    {
     "name": "stdout",
     "output_type": "stream",
     "text": [
      "\n",
      "** obruchov **\n",
      "tini_zabutyh_predkiv\n"
     ]
    },
    {
     "name": "stderr",
     "output_type": "stream",
     "text": [
      "ERROR:root:Error occured for input_path=/home/dima/Projects/stt_uk/data/librivox/uk_UK/by_book/male/obruchov/tini_zabutyh_predkiv/wavs/._tini_zabutyh_predkiv_s000947.wav and output_path=/home/dima/Projects/stt_uk/data/librivox/audio/obruchov__._tini_zabutyh_predkiv_s000947.wav\n",
      "Traceback (most recent call last):\n",
      "  File \"../utils/convert.py\", line 22, in transform_audio_file\n",
      "    tfm.build(input_path, output_path)\n",
      "  File \"/home/dima/anaconda3/envs/p36/lib/python3.6/site-packages/sox/transform.py\", line 441, in build\n",
      "    \"Stdout: {}\\nStderr: {}\".format(out, err)\n",
      "sox.core.SoxError: Stdout: \n",
      "Stderr: \n"
     ]
    },
    {
     "name": "stdout",
     "output_type": "stream",
     "text": [
      "koni_nevynni\n",
      "voly\n",
      "dorogoyu_tsinoyu\n"
     ]
    },
    {
     "name": "stderr",
     "output_type": "stream",
     "text": [
      "ERROR:root:Error occured for input_path=/home/dima/Projects/stt_uk/data/librivox/uk_UK/by_book/male/obruchov/dorogoyu_tsinoyu/wavs/._dorogoyu_tsinoyu_s000152.wav and output_path=/home/dima/Projects/stt_uk/data/librivox/audio/obruchov__._dorogoyu_tsinoyu_s000152.wav\n",
      "Traceback (most recent call last):\n",
      "  File \"../utils/convert.py\", line 22, in transform_audio_file\n",
      "    tfm.build(input_path, output_path)\n",
      "  File \"/home/dima/anaconda3/envs/p36/lib/python3.6/site-packages/sox/transform.py\", line 441, in build\n",
      "    \"Stdout: {}\\nStderr: {}\".format(out, err)\n",
      "sox.core.SoxError: Stdout: \n",
      "Stderr: \n"
     ]
    },
    {
     "name": "stdout",
     "output_type": "stream",
     "text": [
      "fata_morgana\n",
      "\n",
      "** pysariev **\n",
      "minestreli\n",
      "transformations\n",
      "\n",
      "** loboda **\n",
      "zahar_berkut\n",
      "chorna_rada\n",
      "ukradene_schastja\n",
      "no prompts for book: ukradene_schastja. Skipping it....\n",
      "\n",
      "** shepel **\n",
      "zvirobij\n",
      "\n",
      "** miskun **\n",
      "15_y_o_capitan\n",
      "\n",
      "** sumska **\n",
      "kaydasheva\n",
      "mykola_djerya\n",
      "CPU times: user 18 s, sys: 56.9 s, total: 1min 14s\n",
      "Wall time: 4min 40s\n"
     ]
    }
   ],
   "source": [
    "%%time\n",
    "\n",
    "for dir_ in [dir_male_path, dir_female_path]:\n",
    "    for speaker in os.listdir(dir_):\n",
    "        print(\"\\n**\", speaker, \"**\")\n",
    "        for book in os.listdir(os.path.join(dir_, speaker)):\n",
    "            if book.endswith('.txt'):\n",
    "                continue\n",
    "            print(book)\n",
    "            with open(os.path.join(dir_, speaker, book, \"metadata.csv\")) as file_:\n",
    "                prompts = file_.readlines()\n",
    "            if len(prompts) == 0:\n",
    "                print(f\"no prompts for book: {book}. Skipping it....\")\n",
    "                continue\n",
    "            prompts = [_.split(\"|\")[:2] for _ in prompts]\n",
    "            prompts = [(speaker + \"__\" + k + '.wav', v) for k, v in prompts]\n",
    "            with open(os.path.join(librivox_path, \"prompts.txt\"), 'a') as file_:\n",
    "                file_.writelines([\" \".join(item) + \"\\n\" for item in prompts])\n",
    "\n",
    "            for fn in os.listdir(os.path.join(dir_, speaker, book, \"wavs\")):\n",
    "                new_file_name = speaker + \"__\" + fn\n",
    "                transform_audio_file(os.path.join(dir_, speaker, book, \"wavs\", fn),\n",
    "                                     os.path.join(librivox_path, \"audio\", new_file_name))\n",
    "                                 \n"
   ]
  },
  {
   "cell_type": "code",
   "execution_count": null,
   "metadata": {},
   "outputs": [],
   "source": []
  }
 ],
 "metadata": {
  "kernelspec": {
   "display_name": "Python [conda env:p36] *",
   "language": "python",
   "name": "conda-env-p36-py"
  },
  "language_info": {
   "codemirror_mode": {
    "name": "ipython",
    "version": 3
   },
   "file_extension": ".py",
   "mimetype": "text/x-python",
   "name": "python",
   "nbconvert_exporter": "python",
   "pygments_lexer": "ipython3",
   "version": "3.6.10"
  }
 },
 "nbformat": 4,
 "nbformat_minor": 4
}
